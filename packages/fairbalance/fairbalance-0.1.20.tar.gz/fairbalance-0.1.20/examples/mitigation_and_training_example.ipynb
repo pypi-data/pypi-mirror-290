{
 "cells": [
  {
   "cell_type": "markdown",
   "metadata": {},
   "source": [
    "#  Fairbalance\n",
    "This notebook demonstrates the use of fairbalance to load data, evaluate its balance, rebalance its protected attributes and evaluate a model."
   ]
  },
  {
   "cell_type": "code",
   "execution_count": null,
   "metadata": {},
   "outputs": [],
   "source": [
    "%pip install fairbalance\n",
    "%pip install scikit-learn"
   ]
  },
  {
   "cell_type": "markdown",
   "metadata": {},
   "source": [
    "# Loading data\n",
    "\n",
    "You can load data using the fairbalance.datasets module. Currently, the available datasets are adult, german, KKD census and the American Community Surveys. These datasets are slightly transformed compared to their original shape to be readily usable when loaded.\n",
    "\n",
    "In this tutorial, we will use the Adult dataset, which has a binary task of determining if an individual earns more than $50K (1) or not (0)."
   ]
  },
  {
   "cell_type": "code",
   "execution_count": 4,
   "metadata": {},
   "outputs": [],
   "source": [
    "from fairbalance.datasets import load_adult, ADULT_METADATA"
   ]
  },
  {
   "cell_type": "code",
   "execution_count": 5,
   "metadata": {},
   "outputs": [],
   "source": [
    "data, target, cont_columns, cat_columns = load_adult()"
   ]
  },
  {
   "cell_type": "markdown",
   "metadata": {},
   "source": [
    "Let's look at what the data looks like:"
   ]
  },
  {
   "cell_type": "code",
   "execution_count": 6,
   "metadata": {},
   "outputs": [
    {
     "data": {
      "text/html": [
       "<div>\n",
       "<style scoped>\n",
       "    .dataframe tbody tr th:only-of-type {\n",
       "        vertical-align: middle;\n",
       "    }\n",
       "\n",
       "    .dataframe tbody tr th {\n",
       "        vertical-align: top;\n",
       "    }\n",
       "\n",
       "    .dataframe thead th {\n",
       "        text-align: right;\n",
       "    }\n",
       "</style>\n",
       "<table border=\"1\" class=\"dataframe\">\n",
       "  <thead>\n",
       "    <tr style=\"text-align: right;\">\n",
       "      <th></th>\n",
       "      <th>age</th>\n",
       "      <th>workclass</th>\n",
       "      <th>education</th>\n",
       "      <th>education-num</th>\n",
       "      <th>marital-status</th>\n",
       "      <th>occupation</th>\n",
       "      <th>relationship</th>\n",
       "      <th>race</th>\n",
       "      <th>sex</th>\n",
       "      <th>capital-gain</th>\n",
       "      <th>capital-loss</th>\n",
       "      <th>hours-per-week</th>\n",
       "      <th>native-country</th>\n",
       "    </tr>\n",
       "  </thead>\n",
       "  <tbody>\n",
       "    <tr>\n",
       "      <th>0</th>\n",
       "      <td>39</td>\n",
       "      <td>State-gov</td>\n",
       "      <td>Bachelors</td>\n",
       "      <td>13</td>\n",
       "      <td>Never-married</td>\n",
       "      <td>Adm-clerical</td>\n",
       "      <td>Not-in-family</td>\n",
       "      <td>White</td>\n",
       "      <td>Male</td>\n",
       "      <td>2174</td>\n",
       "      <td>0</td>\n",
       "      <td>40</td>\n",
       "      <td>United-States</td>\n",
       "    </tr>\n",
       "    <tr>\n",
       "      <th>1</th>\n",
       "      <td>50</td>\n",
       "      <td>Self-emp-not-inc</td>\n",
       "      <td>Bachelors</td>\n",
       "      <td>13</td>\n",
       "      <td>Married-civ-spouse</td>\n",
       "      <td>Exec-managerial</td>\n",
       "      <td>Husband</td>\n",
       "      <td>White</td>\n",
       "      <td>Male</td>\n",
       "      <td>0</td>\n",
       "      <td>0</td>\n",
       "      <td>13</td>\n",
       "      <td>United-States</td>\n",
       "    </tr>\n",
       "    <tr>\n",
       "      <th>2</th>\n",
       "      <td>38</td>\n",
       "      <td>Private</td>\n",
       "      <td>HS-grad</td>\n",
       "      <td>9</td>\n",
       "      <td>Divorced</td>\n",
       "      <td>Handlers-cleaners</td>\n",
       "      <td>Not-in-family</td>\n",
       "      <td>White</td>\n",
       "      <td>Male</td>\n",
       "      <td>0</td>\n",
       "      <td>0</td>\n",
       "      <td>40</td>\n",
       "      <td>United-States</td>\n",
       "    </tr>\n",
       "    <tr>\n",
       "      <th>3</th>\n",
       "      <td>53</td>\n",
       "      <td>Private</td>\n",
       "      <td>11th</td>\n",
       "      <td>7</td>\n",
       "      <td>Married-civ-spouse</td>\n",
       "      <td>Handlers-cleaners</td>\n",
       "      <td>Husband</td>\n",
       "      <td>Black</td>\n",
       "      <td>Male</td>\n",
       "      <td>0</td>\n",
       "      <td>0</td>\n",
       "      <td>40</td>\n",
       "      <td>United-States</td>\n",
       "    </tr>\n",
       "    <tr>\n",
       "      <th>4</th>\n",
       "      <td>28</td>\n",
       "      <td>Private</td>\n",
       "      <td>Bachelors</td>\n",
       "      <td>13</td>\n",
       "      <td>Married-civ-spouse</td>\n",
       "      <td>Prof-specialty</td>\n",
       "      <td>Wife</td>\n",
       "      <td>Black</td>\n",
       "      <td>Female</td>\n",
       "      <td>0</td>\n",
       "      <td>0</td>\n",
       "      <td>40</td>\n",
       "      <td>Cuba</td>\n",
       "    </tr>\n",
       "  </tbody>\n",
       "</table>\n",
       "</div>"
      ],
      "text/plain": [
       "   age         workclass  education  education-num      marital-status  \\\n",
       "0   39         State-gov  Bachelors             13       Never-married   \n",
       "1   50  Self-emp-not-inc  Bachelors             13  Married-civ-spouse   \n",
       "2   38           Private    HS-grad              9            Divorced   \n",
       "3   53           Private       11th              7  Married-civ-spouse   \n",
       "4   28           Private  Bachelors             13  Married-civ-spouse   \n",
       "\n",
       "          occupation   relationship   race     sex  capital-gain  \\\n",
       "0       Adm-clerical  Not-in-family  White    Male          2174   \n",
       "1    Exec-managerial        Husband  White    Male             0   \n",
       "2  Handlers-cleaners  Not-in-family  White    Male             0   \n",
       "3  Handlers-cleaners        Husband  Black    Male             0   \n",
       "4     Prof-specialty           Wife  Black  Female             0   \n",
       "\n",
       "   capital-loss  hours-per-week native-country  \n",
       "0             0              40  United-States  \n",
       "1             0              13  United-States  \n",
       "2             0              40  United-States  \n",
       "3             0              40  United-States  \n",
       "4             0              40           Cuba  "
      ]
     },
     "execution_count": 6,
     "metadata": {},
     "output_type": "execute_result"
    }
   ],
   "source": [
    "data.head()"
   ]
  },
  {
   "cell_type": "code",
   "execution_count": 11,
   "metadata": {},
   "outputs": [
    {
     "name": "stdout",
     "output_type": "stream",
     "text": [
      "target: \n",
      "    income\n",
      "0       0\n",
      "1       0\n",
      "2       0\n",
      "3       0\n",
      "4       0\n",
      "categorical columns: \n",
      " ['workclass', 'marital-status', 'occupation', 'relationship', 'native-country', 'education', 'sex', 'race']\n",
      "continuous columns: \n",
      " ['age', 'education-num', 'capital-gain', 'capital-loss', 'hours-per-week']\n"
     ]
    }
   ],
   "source": [
    "print(\"target: \\n\", target.head())\n",
    "print(\"categorical columns: \\n\", cat_columns)\n",
    "print(\"continuous columns: \\n\", cont_columns)"
   ]
  },
  {
   "cell_type": "markdown",
   "metadata": {},
   "source": [
    "ADULT_METADATA contains the protected attributes and privileged classes ususally used with this dataset."
   ]
  },
  {
   "cell_type": "code",
   "execution_count": 16,
   "metadata": {},
   "outputs": [
    {
     "data": {
      "text/plain": [
       "{'protected_attributes': ['sex', 'race'],\n",
       " 'privileged_classes': {'sex': 'Male', 'race': 'White'}}"
      ]
     },
     "execution_count": 16,
     "metadata": {},
     "output_type": "execute_result"
    }
   ],
   "source": [
    "ADULT_METADATA"
   ]
  },
  {
   "cell_type": "markdown",
   "metadata": {},
   "source": [
    "# Evaluating the dataset balance"
   ]
  },
  {
   "cell_type": "markdown",
   "metadata": {},
   "source": [
    "Let's now evaluate the balance of the dataset. For this, we can use the FairnessAnalysis class from the fairbalance.metrics model. "
   ]
  },
  {
   "cell_type": "code",
   "execution_count": 17,
   "metadata": {},
   "outputs": [],
   "source": [
    "from fairbalance.metrics import FairnessAnalysis"
   ]
  },
  {
   "cell_type": "code",
   "execution_count": 19,
   "metadata": {},
   "outputs": [],
   "source": [
    "adult_analysis = FairnessAnalysis(X=data,\n",
    "                                  y=target,\n",
    "                                  positive_output_target=1,\n",
    "                                  protected_attributes=ADULT_METADATA[\"protected_attributes\"],\n",
    "                                  privileged_groups=ADULT_METADATA[\"privileged_classes\"])"
   ]
  },
  {
   "cell_type": "markdown",
   "metadata": {},
   "source": [
    "the get_fairness_analysis() method gives a full analysis of the protected attributes, displaying the balance index, PMI, RMSPMI, DIR, RMSDIR and CBS for each attribute."
   ]
  },
  {
   "cell_type": "code",
   "execution_count": 20,
   "metadata": {},
   "outputs": [
    {
     "name": "stdout",
     "output_type": "stream",
     "text": [
      "______\n",
      "\n",
      "BALANCE INDEX\n",
      "sex 0.6587009932592764\n",
      "race 0.17560928080714577\n",
      "______\n",
      "\n",
      "DISPARATE IMPACT RATIO\n",
      "sex {'Female': 0.36052833882228574}\n",
      "race {'Black': 0.4760563602437251, 'Asian-Pac-Islander': 0.9369908378449117, 'Amer-Indian-Eskimo': 0.4651012834069375, 'Other': 0.4850049931988143}\n",
      "RMSDIR\n",
      "sex 0.36052833882228574\n",
      "race 0.6237248062223386\n",
      "______\n",
      "\n",
      "POINTWISE MUTUAL INFORMATION\n",
      "sex\n",
      "Male {0: 0.11641842963328615, 1: -0.1496443695438816}\n",
      "Female {0: -0.13048722919155542, 1: 0.2366433715599068}\n",
      "race\n",
      "White {0: 0.04340482896946561, 1: -0.038970203552986166}\n",
      "Black {0: -0.0592233495120658, 1: 0.15346697180365237}\n",
      "Asian-Pac-Islander {0: 0.011316639922955816, 1: -0.02591478507214903}\n",
      "Amer-Indian-Eskimo {0: -0.03150645002805027, 1: 0.10445847701425687}\n",
      "Other {0: -0.029281104546010503, 1: 0.09661305580981895}\n",
      "RMSPMI\n",
      "sex 0.165055816604411\n",
      "race 0.07304622535023712\n",
      "______\n",
      "\n",
      "COMPOSITE FAIRNESS SCORE\n",
      "sex 0.570794361621946\n",
      "race 0.4751067313628907\n",
      "______\n",
      "\n"
     ]
    }
   ],
   "source": [
    "adult_analysis.get_fairness_analysis()"
   ]
  },
  {
   "cell_type": "markdown",
   "metadata": {},
   "source": [
    "you can also compute individual values with their own method, for example here with the Disparate Impact Ratio:"
   ]
  },
  {
   "cell_type": "code",
   "execution_count": 22,
   "metadata": {},
   "outputs": [
    {
     "name": "stdout",
     "output_type": "stream",
     "text": [
      "DIR: \n",
      " {'sex': {'Female': 0.36052833882228574}, 'race': {'Black': 0.4760563602437251, 'Asian-Pac-Islander': 0.9369908378449117, 'Amer-Indian-Eskimo': 0.4651012834069375, 'Other': 0.4850049931988143}}\n",
      "RMSDIR: \n",
      " {'sex': 0.36052833882228574, 'race': 0.6237248062223386}\n"
     ]
    }
   ],
   "source": [
    "DIR, RMSDIR = adult_analysis.get_disparate_impact_ratio()\n",
    "\n",
    "print(\"DIR: \\n\", DIR)\n",
    "print(\"RMSDIR: \\n\", RMSDIR)"
   ]
  },
  {
   "cell_type": "markdown",
   "metadata": {},
   "source": [
    "# Balancing the dataset"
   ]
  },
  {
   "cell_type": "markdown",
   "metadata": {},
   "source": [
    "Looking at the CBS of each attributes, we can see that both attributes have relatively low CBS (0.57 for sex and 0.47 for race). As a rule of thumb, a value above 0.75 is usually good.\n",
    "\n",
    "Therefore, we need to mitigate the bias. The fairbalance package implements different balancing strategies accessible through fairbalance.mitigation_strategies, using different processors accessible through fairbalance.processors. In this example, we'll use the CompleteBalance mitigation strategy, with the RandomOverSamplerProcessor processor. "
   ]
  },
  {
   "cell_type": "code",
   "execution_count": 31,
   "metadata": {},
   "outputs": [],
   "source": [
    "from fairbalance.mitigation_strategies import CompleteBalance\n",
    "from fairbalance.processors import RandomOverSamplerProcessor"
   ]
  },
  {
   "cell_type": "code",
   "execution_count": 32,
   "metadata": {},
   "outputs": [],
   "source": [
    "balancer = CompleteBalance(processor=RandomOverSamplerProcessor())"
   ]
  },
  {
   "cell_type": "markdown",
   "metadata": {},
   "source": [
    "We can simply balance our dataset using the resample() method. Let's balance the two protected attributes at the same time."
   ]
  },
  {
   "cell_type": "code",
   "execution_count": 33,
   "metadata": {},
   "outputs": [],
   "source": [
    "balanced_data, balanced_target = balancer.resample(X=data,\n",
    "                                                   y=target,\n",
    "                                                   protected_attributes=ADULT_METADATA[\"protected_attributes\"],\n",
    "                                                   cont_columns=cont_columns,\n",
    "                                                   cat_columns=cat_columns)"
   ]
  },
  {
   "cell_type": "markdown",
   "metadata": {},
   "source": [
    "Let's evaluate the balance of the new data:"
   ]
  },
  {
   "cell_type": "code",
   "execution_count": 34,
   "metadata": {},
   "outputs": [
    {
     "name": "stdout",
     "output_type": "stream",
     "text": [
      "______\n",
      "\n",
      "BALANCE INDEX\n",
      "sex 1.0\n",
      "race 1.0\n",
      "______\n",
      "\n",
      "DISPARATE IMPACT RATIO\n",
      "sex {'Female': 0.9983823617518424}\n",
      "race {'Black': 0.9981616733740747, 'Asian-Pac-Islander': 0.998755599800896, 'Amer-Indian-Eskimo': 0.9875062220009954, 'Other': 0.9927327028372324}\n",
      "RMSDIR\n",
      "sex 0.9983823617518424\n",
      "race 0.9942995313410059\n",
      "______\n",
      "\n",
      "POINTWISE MUTUAL INFORMATION\n",
      "sex\n",
      "Male {0: 0.0003785535251920788, 1: -0.00045847101385361065}\n",
      "Female {0: -0.0003786808342135173, 1: 0.0004584217680699599}\n",
      "race\n",
      "White {0: 0.000986598207249448, 1: -0.001433874460723081}\n",
      "Black {0: 0.0014606882104401177, 1: -0.002122383539021307}\n",
      "Asian-Pac-Islander {0: 0.0006662709839175421, 1: -0.0009684838993840177}\n",
      "Amer-Indian-Eskimo {0: -0.002229357650186129, 1: 0.0032453728741205297}\n",
      "Other {0: -0.0008840711219281151, 1: 0.0012860924879759094}\n",
      "RMSPMI\n",
      "sex 0.00042043077123955286\n",
      "race 0.0017025706527084767\n",
      "______\n",
      "\n",
      "COMPOSITE FAIRNESS SCORE\n",
      "sex 0.9990350275417906\n",
      "race 0.9965651739607544\n",
      "______\n",
      "\n"
     ]
    }
   ],
   "source": [
    "balanced_data_analysis = FairnessAnalysis(X=balanced_data,\n",
    "                                          y=balanced_target,\n",
    "                                          positive_output_target=1,\n",
    "                                          protected_attributes=ADULT_METADATA[\"protected_attributes\"],\n",
    "                                          privileged_groups=ADULT_METADATA[\"privileged_classes\"])\n",
    "balanced_data_analysis.get_fairness_analysis()"
   ]
  },
  {
   "cell_type": "markdown",
   "metadata": {},
   "source": [
    "Much better ! The two attributes are now perfectly balanced."
   ]
  },
  {
   "cell_type": "markdown",
   "metadata": {},
   "source": [
    "# Train-Test split and model training"
   ]
  },
  {
   "cell_type": "markdown",
   "metadata": {},
   "source": [
    "fairbalance implements a balanced_train_test_split function, which is an extension of the sklearn train_test_split. It can be accessed through the fairbalance.utils module"
   ]
  },
  {
   "cell_type": "code",
   "execution_count": 35,
   "metadata": {},
   "outputs": [],
   "source": [
    "from fairbalance.utils import balanced_train_test_split"
   ]
  },
  {
   "cell_type": "markdown",
   "metadata": {},
   "source": [
    "The balanced_train_test_split function takes as mandatory parameters the dataset and the target. Other parameters are:\n",
    "- protected_attributes: if only this parameters is also defined, returns a train-test split that respect as much as possible the proportion of classes of the given protected_attribute.\n",
    "- mitigator: if a mitigator object is given, it will apply it to the training data.   \n",
    "- cont_columns and cat_columns: necessary if the mitigator is defined.\n",
    "- any parameter for sklearn train_test_split function, such as test_size or random_state\n"
   ]
  },
  {
   "cell_type": "code",
   "execution_count": 37,
   "metadata": {},
   "outputs": [],
   "source": [
    "X_train, X_test, y_train, y_test = balanced_train_test_split(data, target,\n",
    "                                                             protected_attributes=ADULT_METADATA[\"protected_attributes\"],\n",
    "                                                             mitigator=CompleteBalance(processor=RandomOverSamplerProcessor()),\n",
    "                                                             cont_columns=cont_columns,\n",
    "                                                             cat_columns=cat_columns)"
   ]
  },
  {
   "cell_type": "markdown",
   "metadata": {},
   "source": [
    "This data can now be used to train any of your model, for example from sklearn !  "
   ]
  }
 ],
 "metadata": {
  "kernelspec": {
   "display_name": "fairbalance_dev",
   "language": "python",
   "name": "python3"
  },
  "language_info": {
   "codemirror_mode": {
    "name": "ipython",
    "version": 3
   },
   "file_extension": ".py",
   "mimetype": "text/x-python",
   "name": "python",
   "nbconvert_exporter": "python",
   "pygments_lexer": "ipython3",
   "version": "3.9.19"
  }
 },
 "nbformat": 4,
 "nbformat_minor": 2
}
