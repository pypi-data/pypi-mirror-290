{
 "cells": [
  {
   "cell_type": "markdown",
   "id": "7a39ba89-0351-43ac-ad19-d69fed66aa2b",
   "metadata": {},
   "source": [
    "# APIs Profiling "
   ]
  },
  {
   "cell_type": "code",
   "execution_count": 1,
   "id": "39cb638f",
   "metadata": {},
   "outputs": [
    {
     "name": "stdout",
     "output_type": "stream",
     "text": [
      "Collecting git+https://github.com/c3di/im2im.git\n",
      "  Cloning https://github.com/c3di/im2im.git to /tmp/pip-req-build-q_0st31v\n",
      "  Running command git clone --filter=blob:none --quiet https://github.com/c3di/im2im.git /tmp/pip-req-build-q_0st31v\n",
      "  Resolved https://github.com/c3di/im2im.git to commit 74ab3ae85d3ad2eb1c8cc37f1c0bcbad3e5d82e7\n",
      "  Installing build dependencies ... \u001b[?25ldone\n",
      "\u001b[?25h  Getting requirements to build wheel ... \u001b[?25ldone\n",
      "\u001b[?25h  Preparing metadata (pyproject.toml) ... \u001b[?25ldone\n",
      "\u001b[?25hRequirement already satisfied: importlib-metadata in /home/fei/anaconda3/envs/im2im/lib/python3.10/site-packages (from im2im==0.0.4.dev48+g74ab3ae) (8.2.0)\n",
      "Requirement already satisfied: networkx in /home/fei/.local/lib/python3.10/site-packages (from im2im==0.0.4.dev48+g74ab3ae) (3.2.1)\n",
      "Requirement already satisfied: zipp>=0.5 in /home/fei/anaconda3/envs/im2im/lib/python3.10/site-packages (from importlib-metadata->im2im==0.0.4.dev48+g74ab3ae) (3.20.0)\n",
      "Note: you may need to restart the kernel to use updated packages.\n"
     ]
    }
   ],
   "source": [
    "%pip install git+https://github.com/c3di/im2im.git"
   ]
  },
  {
   "cell_type": "code",
   "execution_count": 2,
   "id": "9b7d646b",
   "metadata": {},
   "outputs": [
    {
     "name": "stdout",
     "output_type": "stream",
     "text": [
      "Requirement already satisfied: py-cpuinfo in /home/fei/anaconda3/envs/im2im/lib/python3.10/site-packages (9.0.0)\n",
      "Note: you may need to restart the kernel to use updated packages.\n",
      "Requirement already satisfied: gputil in /home/fei/anaconda3/envs/im2im/lib/python3.10/site-packages (1.4.0)\n",
      "Note: you may need to restart the kernel to use updated packages.\n",
      "CPU: Intel(R) Core(TM) i7-7700K CPU @ 4.20GHz\n",
      "GPU:0: NVIDIA GeForce GTX 1080 Ti\n"
     ]
    }
   ],
   "source": [
    "%pip install py-cpuinfo\n",
    "%pip install gputil\n",
    "\n",
    "import cpuinfo\n",
    "import GPUtil\n",
    "\n",
    "cpu_name = cpuinfo.get_cpu_info()['brand_raw']\n",
    "print(f\"CPU: {cpu_name}\")\n",
    "\n",
    "gpus = GPUtil.getGPUs()\n",
    "print(f\"GPU:0: {GPUtil.getGPUs()[0].name}\")"
   ]
  },
  {
   "cell_type": "markdown",
   "id": "885e935a",
   "metadata": {},
   "source": [
    "## im2im"
   ]
  },
  {
   "cell_type": "code",
   "execution_count": 3,
   "id": "8eb9c038",
   "metadata": {},
   "outputs": [],
   "source": [
    "from im2im import _code_generator\n",
    "\n",
    "def clear_cache_in_code_generator():\n",
    "    _code_generator._cache = {}"
   ]
  },
  {
   "cell_type": "code",
   "execution_count": 12,
   "id": "de7f8b36-ad5b-451c-8a65-ff04fdc6efc5",
   "metadata": {},
   "outputs": [
    {
     "name": "stdout",
     "output_type": "stream",
     "text": [
      "from image: <class 'numpy.ndarray'> (2000, 2000, 3) uint8\n",
      "to image: <class 'torch.Tensor'> torch.Size([1, 3, 2000, 2000]) torch.float32 cuda:0\n",
      "took 0.031001577999999995 seconds\n",
      "\n",
      "The conversion code is:\n",
      "import torch\n",
      "image = torch.from_numpy(to_be_converted)\n",
      "image = image.permute(2, 0, 1)\n",
      "image = image.unsqueeze(0)\n",
      "image = image / 255.0\n",
      "converted = image.cuda()\n"
     ]
    }
   ],
   "source": [
    "import cProfile\n",
    "import pstats\n",
    "import numpy as np\n",
    "from im2im import im2im, im2im_code, Image\n",
    "\n",
    "clear_cache_in_code_generator()\n",
    "\n",
    "image_size = (2000, 2000, 3)\n",
    "image = np.random.randint(0, 256, image_size, dtype=np.uint8)\n",
    "print(\"from image:\", type(image), image.shape, image.dtype)\n",
    "\n",
    "with cProfile.Profile() as profile:\n",
    "    to_be_converted = Image(image, \"numpy.rgb_uint8\")\n",
    "    converted:Image = im2im(to_be_converted, \"torch.gpu\")\n",
    "\n",
    "    results = pstats.Stats(profile)\n",
    "\n",
    "    im = converted.raw_image\n",
    "\n",
    "print(\"to image:\", type(im), im.shape, im.dtype, im.device)\n",
    "print(f\"took {results.total_tt} seconds\")\n",
    "\n",
    "print(f'\\nThe conversion code is:\\n{im2im_code(\"to_be_converted\", to_be_converted.metadata, \"converted\", converted.metadata)}')"
   ]
  },
  {
   "cell_type": "markdown",
   "id": "3f8a64a3",
   "metadata": {},
   "source": [
    "## im2im_code"
   ]
  },
  {
   "cell_type": "code",
   "execution_count": 14,
   "id": "6c0bcd9e-bea3-496f-9048-db58762babd9",
   "metadata": {},
   "outputs": [
    {
     "name": "stdout",
     "output_type": "stream",
     "text": [
      "The conversion code is:\n",
      "\n",
      "import torch\n",
      "image = torch.from_numpy(to_be_converted)\n",
      "image = image.permute(2, 0, 1)\n",
      "image = image.unsqueeze(0)\n",
      "image = image / 255.0\n",
      "converted = image.cuda()\n",
      "\n",
      "Generating such code took 0.0008920029999999999 seconds\n"
     ]
    }
   ],
   "source": [
    "from im2im import im2im_code, get_possible_metadata, find_target_metadata\n",
    "\n",
    "clear_cache_in_code_generator()\n",
    "\n",
    "with cProfile.Profile() as profile:\n",
    "    # the metadata can be found via preset or from image.metadata like previous example\n",
    "    source = get_possible_metadata(\"numpy.rgb_uint8\")\n",
    "    target = find_target_metadata(source, \"torch.gpu\")\n",
    "    code = im2im_code(\"to_be_converted\", source, \"converted\", target)\n",
    "\n",
    "    results = pstats.Stats(profile)\n",
    "    \n",
    "print(f'The conversion code is:\\n\\n{code}')\n",
    "print(f\"\\nGenerating such code took {results.total_tt} seconds\")"
   ]
  }
 ],
 "metadata": {
  "kernelspec": {
   "display_name": "Python 3 (ipykernel)",
   "language": "python",
   "name": "python3"
  },
  "language_info": {
   "codemirror_mode": {
    "name": "ipython",
    "version": 3
   },
   "file_extension": ".py",
   "mimetype": "text/x-python",
   "name": "python",
   "nbconvert_exporter": "python",
   "pygments_lexer": "ipython3",
   "version": "3.10.14"
  }
 },
 "nbformat": 4,
 "nbformat_minor": 5
}
