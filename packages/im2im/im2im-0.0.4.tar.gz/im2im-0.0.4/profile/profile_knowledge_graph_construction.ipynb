{
 "cells": [
  {
   "cell_type": "markdown",
   "id": "8d866c4b-5863-4852-bdb9-73e2b3ee33b2",
   "metadata": {},
   "source": [
    "# Knowledge Graph Construction Profiling"
   ]
  },
  {
   "cell_type": "code",
   "execution_count": 3,
   "id": "3082f080",
   "metadata": {},
   "outputs": [
    {
     "name": "stdout",
     "output_type": "stream",
     "text": [
      "Collecting git+https://github.com/c3di/im2im.git\n",
      "  Cloning https://github.com/c3di/im2im.git to /tmp/pip-req-build-nr62uijc\n",
      "  Running command git clone --filter=blob:none --quiet https://github.com/c3di/im2im.git /tmp/pip-req-build-nr62uijc\n",
      "  Resolved https://github.com/c3di/im2im.git to commit 74ab3ae85d3ad2eb1c8cc37f1c0bcbad3e5d82e7\n",
      "  Installing build dependencies ... \u001b[?25ldone\n",
      "\u001b[?25h  Getting requirements to build wheel ... \u001b[?25ldone\n",
      "\u001b[?25h  Preparing metadata (pyproject.toml) ... \u001b[?25ldone\n",
      "\u001b[?25hRequirement already satisfied: importlib-metadata in /home/fei/anaconda3/envs/im2im/lib/python3.10/site-packages (from im2im==0.0.4.dev48+g74ab3ae) (8.2.0)\n",
      "Requirement already satisfied: networkx in /home/fei/.local/lib/python3.10/site-packages (from im2im==0.0.4.dev48+g74ab3ae) (3.2.1)\n",
      "Requirement already satisfied: zipp>=0.5 in /home/fei/anaconda3/envs/im2im/lib/python3.10/site-packages (from importlib-metadata->im2im==0.0.4.dev48+g74ab3ae) (3.20.0)\n",
      "Note: you may need to restart the kernel to use updated packages.\n"
     ]
    }
   ],
   "source": [
    "%pip install git+https://github.com/c3di/im2im.git"
   ]
  },
  {
   "cell_type": "code",
   "execution_count": 2,
   "id": "c5bf55d4",
   "metadata": {},
   "outputs": [
    {
     "name": "stdout",
     "output_type": "stream",
     "text": [
      "Requirement already satisfied: py-cpuinfo in /home/fei/anaconda3/envs/im2im/lib/python3.10/site-packages (9.0.0)\n",
      "Note: you may need to restart the kernel to use updated packages.\n",
      "Requirement already satisfied: gputil in /home/fei/anaconda3/envs/im2im/lib/python3.10/site-packages (1.4.0)\n",
      "Note: you may need to restart the kernel to use updated packages.\n",
      "CPU: Intel(R) Core(TM) i7-7700K CPU @ 4.20GHz\n",
      "GPU:0: NVIDIA GeForce GTX 1080 Ti\n"
     ]
    }
   ],
   "source": [
    "%pip install py-cpuinfo\n",
    "%pip install gputil\n",
    "\n",
    "import cpuinfo\n",
    "import GPUtil\n",
    "\n",
    "cpu_name = cpuinfo.get_cpu_info()['brand_raw']\n",
    "print(f\"CPU: {cpu_name}\")\n",
    "\n",
    "gpus = GPUtil.getGPUs()\n",
    "print(f\"GPU:0: {GPUtil.getGPUs()[0].name}\")"
   ]
  },
  {
   "cell_type": "code",
   "execution_count": 1,
   "id": "998dadd7-aba4-4ca2-8276-69be6665fdbb",
   "metadata": {},
   "outputs": [
    {
     "name": "stdout",
     "output_type": "stream",
     "text": [
      "8 factories clusters, 63 factories in total,  12 manual edge creation.\n"
     ]
    }
   ],
   "source": [
    "from im2im.knowledge_graph_construction import (metadata_values, factories_clusters,\n",
    "                                                list_of_conversion_for_metadata_pair,\n",
    "                                                KnowledgeGraphConstructor)\n",
    "\n",
    "print(f\"{len(factories_clusters)} factories clusters, \"\n",
    "      f\"{sum([len(cluster[1]) for cluster in factories_clusters])} factories in total, \",\n",
    "      f\"{len(list_of_conversion_for_metadata_pair)} manual edge creation.\")"
   ]
  },
  {
   "cell_type": "code",
   "execution_count": 12,
   "id": "458fcc50-38a6-42a5-b556-d4e36e99cea4",
   "metadata": {},
   "outputs": [
    {
     "name": "stdout",
     "output_type": "stream",
     "text": [
      "Construct Knowledge Graph with 595 nodes and 6776 edges. from the scratch took 1.5437700630000006 seconds\n"
     ]
    }
   ],
   "source": [
    "import cProfile\n",
    "import pstats\n",
    "\n",
    "constructor = KnowledgeGraphConstructor(metadata_values, factories_clusters, list_of_conversion_for_metadata_pair)\n",
    "\n",
    "with cProfile.Profile() as profile:\n",
    "    constructor.build_from_scratch()\n",
    "\n",
    "    results = pstats.Stats(profile)\n",
    "\n",
    "print(f\"Construct {constructor.knowledge_graph} from the scratch took {results.total_tt} seconds\")"
   ]
  },
  {
   "cell_type": "code",
   "execution_count": 21,
   "id": "d8ffcf3d-40ad-4d56-8c36-94a960c6e252",
   "metadata": {},
   "outputs": [
    {
     "name": "stdout",
     "output_type": "stream",
     "text": [
      "Constructing the knowledge graph by loading from the file took 0.04051080200000001 seconds.\n"
     ]
    }
   ],
   "source": [
    "with cProfile.Profile() as profile:\n",
    "    constructor.load_knowledge_graph_from(constructor._know_graph_file_path)\n",
    "\n",
    "    results = pstats.Stats(profile)\n",
    "    \n",
    "print(f\"Constructing the knowledge graph by loading from the file took {results.total_tt} seconds.\")"
   ]
  }
 ],
 "metadata": {
  "kernelspec": {
   "display_name": "Python 3 (ipykernel)",
   "language": "python",
   "name": "python3"
  },
  "language_info": {
   "codemirror_mode": {
    "name": "ipython",
    "version": 3
   },
   "file_extension": ".py",
   "mimetype": "text/x-python",
   "name": "python",
   "nbconvert_exporter": "python",
   "pygments_lexer": "ipython3",
   "version": "3.10.14"
  }
 },
 "nbformat": 4,
 "nbformat_minor": 5
}
