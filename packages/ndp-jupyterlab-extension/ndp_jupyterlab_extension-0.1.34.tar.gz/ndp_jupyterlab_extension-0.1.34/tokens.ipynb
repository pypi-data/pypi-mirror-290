{
 "cells": [
  {
   "cell_type": "code",
   "execution_count": 2,
   "id": "7fff5658-f10a-4cd1-b61a-a2c2070f1ab7",
   "metadata": {},
   "outputs": [
    {
     "data": {
      "text/plain": [
       "{}"
      ]
     },
     "execution_count": 2,
     "metadata": {},
     "output_type": "execute_result"
    }
   ],
   "source": [
    "from keycloak import KeycloakOpenID\n",
    "\n",
    "# Configure client\n",
    "keycloak_openid = KeycloakOpenID(server_url=\"https://idp-test.nationaldataplatform.org\",\n",
    "                                 client_id=\"jupyterhub_test\",\n",
    "                                 realm_name=\"NDP\",\n",
    "                                 client_secret_key=\"TMEITmuyXyzPMdu7HHAKKHQesCdIZxoj\")\n",
    "\n",
    "# Get WellKnown\n",
    "config_well_known = keycloak_openid.well_known()\n",
    "\n",
    "# Get Code With Oauth Authorization Request\n",
    "auth_url = keycloak_openid.auth_url(\n",
    "    redirect_uri=\"your_call_back_url\",\n",
    "    scope=\"email\",\n",
    "    state=\"your_state_info\")\n",
    "\n",
    "# Get Token\n",
    "token = keycloak_openid.token(\"segurvich@ucsd.edu\", \"test1234\")\n",
    "\n",
    "# Get token using Token Exchange\n",
    "# token = keycloak_openid.exchange_token(token['access_token'], \"my_client\", \"other_client\", \"some_user\")\n",
    "\n",
    "# Get Userinfo\n",
    "userinfo = keycloak_openid.userinfo(token['access_token'])\n",
    "\n",
    "# Refresh token\n",
    "token = keycloak_openid.refresh_token(token['refresh_token'])\n",
    "\n",
    "# Logout\n",
    "keycloak_openid.logout(token['refresh_token'])"
   ]
  },
  {
   "cell_type": "code",
   "execution_count": 1,
   "id": "1de13fe8-e694-43d4-9328-38ee25251862",
   "metadata": {},
   "outputs": [],
   "source": [
    "import requests\n",
    "CLIENT_ID = 'jupyterhub_test'\n",
    "CLIENT_SECRET = 'TMEITmuyXyzPMdu7HHAKKHQesCdIZxoj'\n",
    "\n",
    "# Replace with your username and password\n",
    "USERNAME = 'segurvich@ucsd.edu'\n",
    "PASSWORD = 'test1234'\n",
    "\n",
    "# Token endpoint URL\n",
    "token_url = f\"https://idp-test.nationaldataplatform.org/realms/NDP/protocol/openid-connect/token\"\n",
    "\n",
    "# Request payload\n",
    "payload = {\n",
    "    'client_id': CLIENT_ID,\n",
    "    'client_secret': CLIENT_SECRET,\n",
    "    'grant_type': 'password',\n",
    "    'username': USERNAME,\n",
    "    'password': PASSWORD\n",
    "}\n",
    "\n",
    "# Make the POST request\n",
    "response = requests.post(token_url, data=payload)"
   ]
  },
  {
   "cell_type": "code",
   "execution_count": 2,
   "id": "c25e9b9f-79cf-4c61-9313-c04d4b8af9f5",
   "metadata": {},
   "outputs": [
    {
     "data": {
      "text/plain": [
       "{'access_token': 'eyJhbGciOiJSUzI1NiIsInR5cCIgOiAiSldUIiwia2lkIiA6ICJWbFJfUjhMNUFZN0FvOU5FSDA0MW9kSUJMczBMSk52bnQxU0ZTaDFjVDQ0In0.eyJleHAiOjE3MjMwNDY1OTMsImlhdCI6MTcyMzA0Mjk5MywianRpIjoiYjllYjg0ZDYtOThhOC00ZTk1LTlhZmEtMDJhYzI5Yjg0MWVhIiwiaXNzIjoiaHR0cHM6Ly9pZHAtdGVzdC5uYXRpb25hbGRhdGFwbGF0Zm9ybS5vcmcvcmVhbG1zL05EUCIsImF1ZCI6ImFjY291bnQiLCJzdWIiOiI1YWQwYTg0Yi0xNGU5LTQxOTgtOTRiYy0yNjkxOTViMjJhOTgiLCJ0eXAiOiJCZWFyZXIiLCJhenAiOiJqdXB5dGVyaHViX3Rlc3QiLCJzZXNzaW9uX3N0YXRlIjoiNGY2ZWI4ZDMtOTBkOC00Njk2LWE3YTEtZDczNGExYmY3NmEzIiwiYWNyIjoiMSIsImFsbG93ZWQtb3JpZ2lucyI6WyIqIl0sInJlYWxtX2FjY2VzcyI6eyJyb2xlcyI6WyJkZWZhdWx0LXJvbGVzLW5kcCIsIm9mZmxpbmVfYWNjZXNzIiwidW1hX2F1dGhvcml6YXRpb24iXX0sInJlc291cmNlX2FjY2VzcyI6eyJhY2NvdW50Ijp7InJvbGVzIjpbIm1hbmFnZS1hY2NvdW50IiwibWFuYWdlLWFjY291bnQtbGlua3MiLCJ2aWV3LXByb2ZpbGUiXX19LCJzY29wZSI6Imdyb3Vwc19tYXBwZXIgcHJvZmlsZSBpZF90b2tlbiBlbWFpbCIsInNpZCI6IjRmNmViOGQzLTkwZDgtNDY5Ni1hN2ExLWQ3MzRhMWJmNzZhMyIsImVtYWlsX3ZlcmlmaWVkIjp0cnVlLCJuYW1lIjoiU2VyZ2V5IEd1cnZpY2giLCJwcmVmZXJyZWRfdXNlcm5hbWUiOiJzZWd1cnZpY2hAdWNzZC5lZHUiLCJnaXZlbl9uYW1lIjoiU2VyZ2V5IiwiZmFtaWx5X25hbWUiOiJHdXJ2aWNoIiwiZW1haWwiOiJzZWd1cnZpY2hAdWNzZC5lZHUifQ.Dcbso4oHmJBTNR6PWhoqigklUloAMHMJ5mnfzd5BtwCzsEIDuHWBPBuFVOwG325523MzKlVcTxgocMG9tuwXGGoqH2T1Sr1ppDlpTEgoWJia5Tga0poSDuUwFGCFOmFtWFedq5hLvXNe_sHhJ4Q5FjMSe5uLbJDYEsR9pT377efL6_FRUAvH3UYjhHWCOtZkmhZTKz2lYh9pKqwUHFH1H2xKTM3yCWElRp5hVc464ZCsynJmYa4GKbIcK4m-nkjcigrYFqA6UTRsjt0L_YfxAol6jUb-sIvl4OT0hBOGDIrRPy-4ri3B-yeG_75Fr7fxQkruQqF0kVNjaKCnIMrXgg',\n",
       " 'expires_in': 3600,\n",
       " 'refresh_expires_in': 18000,\n",
       " 'refresh_token': 'eyJhbGciOiJIUzUxMiIsInR5cCIgOiAiSldUIiwia2lkIiA6ICI1OGZiMzE4Yi1mNDQxLTQ0MDYtOTUwMS03NDA3MzFhYTExMWMifQ.eyJleHAiOjE3MjMwNjA5OTMsImlhdCI6MTcyMzA0Mjk5MywianRpIjoiNTJhYTE0ZjctZmE0NC00NmZlLTg2NzItZGE5NTM0NjZiYTNkIiwiaXNzIjoiaHR0cHM6Ly9pZHAtdGVzdC5uYXRpb25hbGRhdGFwbGF0Zm9ybS5vcmcvcmVhbG1zL05EUCIsImF1ZCI6Imh0dHBzOi8vaWRwLXRlc3QubmF0aW9uYWxkYXRhcGxhdGZvcm0ub3JnL3JlYWxtcy9ORFAiLCJzdWIiOiI1YWQwYTg0Yi0xNGU5LTQxOTgtOTRiYy0yNjkxOTViMjJhOTgiLCJ0eXAiOiJSZWZyZXNoIiwiYXpwIjoianVweXRlcmh1Yl90ZXN0Iiwic2Vzc2lvbl9zdGF0ZSI6IjRmNmViOGQzLTkwZDgtNDY5Ni1hN2ExLWQ3MzRhMWJmNzZhMyIsInNjb3BlIjoiZ3JvdXBzX21hcHBlciBwcm9maWxlIGlkX3Rva2VuIGVtYWlsIiwic2lkIjoiNGY2ZWI4ZDMtOTBkOC00Njk2LWE3YTEtZDczNGExYmY3NmEzIn0.lpeiMIHcDhGo65nkkLTlsSEsS45vAzJURNJ-mj1WE3FgIqCVIxHXHisosuAIkwKVyl7yyq1aL0l_Z77avSy83g',\n",
       " 'token_type': 'Bearer',\n",
       " 'not-before-policy': 0,\n",
       " 'session_state': '4f6eb8d3-90d8-4696-a7a1-d734a1bf76a3',\n",
       " 'scope': 'groups_mapper profile id_token email'}"
      ]
     },
     "execution_count": 2,
     "metadata": {},
     "output_type": "execute_result"
    }
   ],
   "source": [
    "response.json()"
   ]
  },
  {
   "cell_type": "code",
   "execution_count": 11,
   "id": "4cf9ee2d-6a2d-414f-b08f-529be013bc9b",
   "metadata": {},
   "outputs": [
    {
     "name": "stdout",
     "output_type": "stream",
     "text": [
      "{\"access_token\":\"eyJhbGciOiJSUzI1NiIsInR5cCIgOiAiSldUIiwia2lkIiA6ICJWbFJfUjhMNUFZN0FvOU5FSDA0MW9kSUJMczBMSk52bnQxU0ZTaDFjVDQ0In0.eyJleHAiOjE3MjI5OTgwNTQsImlhdCI6MTcyMjk5NDQ1NCwianRpIjoiMmE0MjVjMzUtNzQ0Ny00ZTBhLWIyYzAtNTZmYjQwYTdkZDU4IiwiaXNzIjoiaHR0cHM6Ly9pZHAtdGVzdC5uYXRpb25hbGRhdGFwbGF0Zm9ybS5vcmcvcmVhbG1zL05EUCIsImF1ZCI6ImFjY291bnQiLCJzdWIiOiI1YWQwYTg0Yi0xNGU5LTQxOTgtOTRiYy0yNjkxOTViMjJhOTgiLCJ0eXAiOiJCZWFyZXIiLCJhenAiOiJweXRob25fdGVzdCIsInNlc3Npb25fc3RhdGUiOiJiNWFiNzY4Yy1lY2NjLTRmODAtYTFiZi1lZDhhODg1YjA5M2IiLCJhY3IiOiIxIiwiYWxsb3dlZC1vcmlnaW5zIjpbIioiXSwicmVhbG1fYWNjZXNzIjp7InJvbGVzIjpbImRlZmF1bHQtcm9sZXMtbmRwIiwib2ZmbGluZV9hY2Nlc3MiLCJ1bWFfYXV0aG9yaXphdGlvbiJdfSwicmVzb3VyY2VfYWNjZXNzIjp7ImFjY291bnQiOnsicm9sZXMiOlsibWFuYWdlLWFjY291bnQiLCJtYW5hZ2UtYWNjb3VudC1saW5rcyIsInZpZXctcHJvZmlsZSJdfX0sInNjb3BlIjoiZ3JvdXBzX21hcHBlciBwcm9maWxlIGlkX3Rva2VuIGVtYWlsIiwic2lkIjoiYjVhYjc2OGMtZWNjYy00ZjgwLWExYmYtZWQ4YTg4NWIwOTNiIiwiZW1haWxfdmVyaWZpZWQiOnRydWUsIm5hbWUiOiJTZXJnZXkgR3VydmljaCIsInByZWZlcnJlZF91c2VybmFtZSI6InNlZ3VydmljaEB1Y3NkLmVkdSIsImdpdmVuX25hbWUiOiJTZXJnZXkiLCJmYW1pbHlfbmFtZSI6Ikd1cnZpY2giLCJlbWFpbCI6InNlZ3VydmljaEB1Y3NkLmVkdSJ9.hAh8WUrBNWrHRVWzHvXm8GLDnO5D69_f9vXRqHq3DXyJFO4qRoPehNwOYWMYmFGQD4WF85WBpM62ymwe4F4lsqO75bGINvWZceObxt4NgVlij2MmlP-J84-9V5SN-XGG04Y0n37DdweruHtfhhzSfnFFC0k6X8QuPVpIphvBHLIl-fzZVdzQvmpKOLZMQ7kTBG2Gck9fyK5M6At-0XyPuyhLvoTYMSk1MljUW4qKPFNFM6fhucopoQrHeYkU-CqdmyknVuy9f-1lpzB_ajY4SiV8lZZZCbNoKVRibwJLtrGvxC9zsfzYXYXSXXpmXtyN3sTfayMQjKL3fBorA22yyQ\",\"expires_in\":3600,\"refresh_expires_in\":36000,\"refresh_token\":\"eyJhbGciOiJIUzUxMiIsInR5cCIgOiAiSldUIiwia2lkIiA6ICI1OGZiMzE4Yi1mNDQxLTQ0MDYtOTUwMS03NDA3MzFhYTExMWMifQ.eyJleHAiOjE3MjMwMzA0NTQsImlhdCI6MTcyMjk5NDQ1NCwianRpIjoiNDRlNThjMmMtZjEzNy00YmRkLWI4YzgtNWUxMDBiZTYwMGViIiwiaXNzIjoiaHR0cHM6Ly9pZHAtdGVzdC5uYXRpb25hbGRhdGFwbGF0Zm9ybS5vcmcvcmVhbG1zL05EUCIsImF1ZCI6Imh0dHBzOi8vaWRwLXRlc3QubmF0aW9uYWxkYXRhcGxhdGZvcm0ub3JnL3JlYWxtcy9ORFAiLCJzdWIiOiI1YWQwYTg0Yi0xNGU5LTQxOTgtOTRiYy0yNjkxOTViMjJhOTgiLCJ0eXAiOiJSZWZyZXNoIiwiYXpwIjoicHl0aG9uX3Rlc3QiLCJzZXNzaW9uX3N0YXRlIjoiYjVhYjc2OGMtZWNjYy00ZjgwLWExYmYtZWQ4YTg4NWIwOTNiIiwic2NvcGUiOiJncm91cHNfbWFwcGVyIHByb2ZpbGUgaWRfdG9rZW4gZW1haWwiLCJzaWQiOiJiNWFiNzY4Yy1lY2NjLTRmODAtYTFiZi1lZDhhODg1YjA5M2IifQ.97xmJlp-re4RdH514Wp4jJWGGy431cnS8bQKfvv5sxX0sKIf0UPh0BL2O5QKTUfPNkzjh3sKCxVkhzhMOPKp9Q\",\"token_type\":\"Bearer\",\"not-before-policy\":0,\"session_state\":\"b5ab768c-eccc-4f80-a1bf-ed8a885b093b\",\"scope\":\"groups_mapper profile id_token email\"}\n"
     ]
    }
   ],
   "source": [
    "import requests\n",
    "\n",
    "url = \"https://idp-test.nationaldataplatform.org/realms/NDP/protocol/openid-connect/token\"\n",
    "\n",
    "payload = {'client_id': 'python_test',\n",
    "'client_secret': 'TMEITmuyXyzPMdu7HHAKKHQesCdIZxoj',\n",
    "'grant_type': 'password',\n",
    "'username': 'segurvich@ucsd.edu',\n",
    "'password': 'test1234'}\n",
    "files=[\n",
    "\n",
    "]\n",
    "headers = {}\n",
    "\n",
    "response = requests.request(\"POST\", url, headers=headers, data=payload, files=files)\n",
    "\n",
    "print(response.text)"
   ]
  },
  {
   "cell_type": "code",
   "execution_count": null,
   "id": "cb6351ad-8914-41d9-8689-aca5a607dda4",
   "metadata": {},
   "outputs": [],
   "source": []
  }
 ],
 "metadata": {
  "kernelspec": {
   "display_name": "Python 3 (ipykernel)",
   "language": "python",
   "name": "python3"
  },
  "language_info": {
   "codemirror_mode": {
    "name": "ipython",
    "version": 3
   },
   "file_extension": ".py",
   "mimetype": "text/x-python",
   "name": "python",
   "nbconvert_exporter": "python",
   "pygments_lexer": "ipython3",
   "version": "3.12.4"
  }
 },
 "nbformat": 4,
 "nbformat_minor": 5
}
