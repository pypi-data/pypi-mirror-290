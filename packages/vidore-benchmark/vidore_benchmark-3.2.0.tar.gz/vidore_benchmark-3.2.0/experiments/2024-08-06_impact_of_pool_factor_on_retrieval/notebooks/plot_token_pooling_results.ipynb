{
 "cells": [
  {
   "cell_type": "markdown",
   "metadata": {},
   "source": [
    "## Imports"
   ]
  },
  {
   "cell_type": "code",
   "execution_count": null,
   "metadata": {},
   "outputs": [],
   "source": [
    "%load_ext autoreload\n",
    "%autoreload 2"
   ]
  },
  {
   "cell_type": "code",
   "execution_count": null,
   "metadata": {},
   "outputs": [],
   "source": [
    "import os\n",
    "from pathlib import Path\n",
    "\n",
    "import matplotlib.pyplot as plt\n",
    "import pandas as pd\n",
    "import seaborn as sns\n",
    "from vidore_benchmark.evaluation.eval_manager import EvalManager\n",
    "from vidore_benchmark.utils.constants import OUTPUT_DIR\n",
    "\n",
    "RESULTS_DIR = OUTPUT_DIR / \"token_pooling\"\n",
    "RESULTS_DIR.mkdir(exist_ok=True, parents=True)\n",
    "\n",
    "sns.set_style(\"whitegrid\")\n",
    "\n",
    "while \"experiments\" not in os.listdir():\n",
    "    os.chdir(\"..\")"
   ]
  },
  {
   "cell_type": "markdown",
   "metadata": {},
   "source": [
    "## Load data"
   ]
  },
  {
   "cell_type": "code",
   "execution_count": null,
   "metadata": {},
   "outputs": [],
   "source": [
    "metrics_paths = list(Path.cwd().glob(\"./experiments/2024-08-06_impact_of_pool_factor_on_retrieval/outputs/**/metrics/\"))\n",
    "eval_managers = [EvalManager.from_dir(str(path)) for path in metrics_paths]\n",
    "list_df = [eval_manager.melted for eval_manager in eval_managers]\n",
    "\n",
    "df = pd.concat(list_df, ignore_index=True)\n",
    "df"
   ]
  },
  {
   "cell_type": "markdown",
   "metadata": {},
   "source": [
    "## Data preprocessing"
   ]
  },
  {
   "cell_type": "code",
   "execution_count": null,
   "metadata": {},
   "outputs": [],
   "source": [
    "# Extract pool factor and model name from file name\n",
    "df[\"pool_factor\"] = df[\"model\"].str.extract(r\"pool_factor_(\\d+)\").astype(int)\n",
    "df[\"model\"] = \"vidore/colpali\"\n",
    "\n",
    "# Keep only metric of interest\n",
    "METRIC_OF_INTEREST = \"ndcg_at_5\"\n",
    "df = df[df[\"metric\"] == METRIC_OF_INTEREST].copy()\n",
    "\n",
    "# Compute relative performance\n",
    "df[\"max_score\"] = df.groupby([\"model\", \"dataset\"])[\"score\"].transform(\"max\")\n",
    "df[\"relative_performance\"] = df[\"score\"] / df[\"max_score\"]\n",
    "df[\"relative_performance_percent\"] = df[\"relative_performance\"] * 100\n",
    "df = df.drop(columns=[\"max_score\"])\n",
    "\n",
    "# Compute relative storage\n",
    "df[\"relative_storage\"] = 1 / df[\"pool_factor\"]\n",
    "df[\"relative_storage_percent\"] = df[\"relative_storage\"] * 100"
   ]
  },
  {
   "cell_type": "markdown",
   "metadata": {},
   "source": [
    "## Sanitize DataFrame"
   ]
  },
  {
   "cell_type": "code",
   "execution_count": null,
   "metadata": {},
   "outputs": [],
   "source": [
    "column_mapping = {\n",
    "    \"model\": \"Model\",\n",
    "    \"dataset\": \"Dataset\",\n",
    "    \"pool_factor\": \"Pool Factor\",\n",
    "    \"score\": \"NDCG@5\",\n",
    "    \"relative_performance\": \"Relative NDCG@5\",\n",
    "    \"relative_performance_percent\": \"Relative NDCG@5 (%)\",\n",
    "    \"relative_storage\": \"Relative Storage\",\n",
    "    \"relative_storage_percent\": \"Relative Storage (%)\",\n",
    "}\n",
    "\n",
    "df_sanitized = df.rename(columns=column_mapping)"
   ]
  },
  {
   "cell_type": "markdown",
   "metadata": {},
   "source": [
    "## Plots"
   ]
  },
  {
   "cell_type": "markdown",
   "metadata": {},
   "source": [
    "### Figure 1"
   ]
  },
  {
   "cell_type": "code",
   "execution_count": null,
   "metadata": {},
   "outputs": [],
   "source": [
    "fig, ax = plt.subplots(figsize=(8, 5))\n",
    "sns.lineplot(data=df_sanitized, x=\"Pool Factor\", y=\"NDCG@5\", hue=\"Dataset\")\n",
    "fig.tight_layout()\n",
    "savepath = RESULTS_DIR / f\"pool_factor_vs_{METRIC_OF_INTEREST}.png\"\n",
    "fig.savefig(str(savepath))"
   ]
  },
  {
   "cell_type": "markdown",
   "metadata": {},
   "source": [
    "### Figure 1bis"
   ]
  },
  {
   "cell_type": "code",
   "execution_count": null,
   "metadata": {},
   "outputs": [],
   "source": [
    "df_with_mean = df_sanitized.groupby(\"Pool Factor\")[[\"Relative NDCG@5 (%)\"]].mean().reset_index()\n",
    "df_with_mean[\"Model\"] = \"vidore/colpali\"\n",
    "df_with_mean[\"Dataset\"] = \"Average\"\n",
    "\n",
    "# df_with_mean = pd.concat([df_sanitized, df_with_mean], ignore_index=True)\n",
    "df_with_mean"
   ]
  },
  {
   "cell_type": "code",
   "execution_count": null,
   "metadata": {},
   "outputs": [],
   "source": [
    "fig, ax = plt.subplots(figsize=(8, 5))\n",
    "\n",
    "sns.lineplot(data=df_sanitized, x=\"Pool Factor\", y=\"Relative NDCG@5 (%)\", hue=\"Dataset\", linewidth=1.5, alpha=0.5)\n",
    "sns.lineplot(\n",
    "    data=df_with_mean, x=\"Pool Factor\", y=\"Relative NDCG@5 (%)\", color=\"red\", linewidth=3.0, alpha=1, label=\"Average\"\n",
    ")\n",
    "\n",
    "fig.tight_layout()\n",
    "savepath = RESULTS_DIR / f\"pool_factor_vs_relative_{METRIC_OF_INTEREST}.png\"\n",
    "fig.savefig(str(savepath))"
   ]
  },
  {
   "cell_type": "markdown",
   "metadata": {},
   "source": [
    "### Figure 2"
   ]
  },
  {
   "cell_type": "code",
   "execution_count": null,
   "metadata": {},
   "outputs": [],
   "source": [
    "df_sanitized_agg = (\n",
    "    df_sanitized.groupby([\"Model\", \"Pool Factor\"])[[\"Relative NDCG@5 (%)\", \"Relative Storage (%)\"]].mean().reset_index()\n",
    ")\n",
    "\n",
    "# Set relative performance to 100 for pool factor 1\n",
    "df_sanitized_agg.loc[df_sanitized_agg[\"Pool Factor\"] == 1, \"Relative NDCG@5 (%)\"] = 100\n",
    "\n",
    "df_sanitized_agg"
   ]
  },
  {
   "cell_type": "code",
   "execution_count": null,
   "metadata": {},
   "outputs": [],
   "source": [
    "fig, ax = plt.subplots(figsize=(6, 6))\n",
    "sns.scatterplot(data=df_sanitized_agg, x=\"Relative Storage (%)\", y=\"Relative NDCG@5 (%)\")\n",
    "fig.tight_layout()\n",
    "savepath = RESULTS_DIR / f\"storage_vs_{METRIC_OF_INTEREST}.png\"\n",
    "\n",
    "plt.axvline(x=100, color=\"red\", linestyle=\"--\")\n",
    "plt.axhline(y=100, color=\"red\", linestyle=\"--\")\n",
    "\n",
    "fig.savefig(str(savepath))"
   ]
  },
  {
   "cell_type": "code",
   "execution_count": null,
   "metadata": {},
   "outputs": [],
   "source": []
  }
 ],
 "metadata": {
  "kernelspec": {
   "display_name": ".venv",
   "language": "python",
   "name": "python3"
  },
  "language_info": {
   "codemirror_mode": {
    "name": "ipython",
    "version": 3
   },
   "file_extension": ".py",
   "mimetype": "text/x-python",
   "name": "python",
   "nbconvert_exporter": "python",
   "pygments_lexer": "ipython3",
   "version": "3.11.6"
  }
 },
 "nbformat": 4,
 "nbformat_minor": 2
}
