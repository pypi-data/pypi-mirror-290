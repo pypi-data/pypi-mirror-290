{
 "cells": [
  {
   "attachments": {},
   "cell_type": "markdown",
   "metadata": {},
   "source": [
    "# Benchmarking Cell Tracking Challenge Data"
   ]
  },
  {
   "cell_type": "code",
   "execution_count": 1,
   "metadata": {},
   "outputs": [],
   "source": [
    "import os\n",
    "from pathlib import Path\n",
    "import pprint\n",
    "import urllib.request\n",
    "import zipfile\n",
    "\n",
    "from tqdm import tqdm\n",
    "\n",
    "from traccuracy import run_metrics\n",
    "from traccuracy.loaders import load_ctc_data\n",
    "from traccuracy.matchers import CTCMatcher, IOUMatcher\n",
    "from traccuracy.metrics import CTCMetrics, DivisionMetrics\n",
    "\n",
    "pp = pprint.PrettyPrinter(indent=4)"
   ]
  },
  {
   "cell_type": "code",
   "execution_count": 2,
   "metadata": {},
   "outputs": [],
   "source": [
    "url = \"http://data.celltrackingchallenge.net/training-datasets/Fluo-N2DL-HeLa.zip\"\n",
    "data_dir = 'downloads'\n",
    "\n",
    "if not os.path.exists(data_dir):\n",
    "    os.mkdir(data_dir)\n",
    "\n",
    "filename = url.split('/')[-1]\n",
    "file_path = os.path.join(data_dir, filename)\n",
    "ds_name = filename.split('.')[0]"
   ]
  },
  {
   "cell_type": "code",
   "execution_count": 3,
   "metadata": {},
   "outputs": [],
   "source": [
    "# Add a utility to make a progress bar when downloading the file\n",
    "class DownloadProgressBar(tqdm):\n",
    "    def update_to(self, b=1, bsize=1, tsize=None):\n",
    "        if tsize is not None:\n",
    "            self.total = tsize\n",
    "        self.update(b * bsize - self.n)\n",
    "\n",
    "if not os.path.exists(file_path):\n",
    "    print(f\"Downloading {ds_name} data from the CTC website\")\n",
    "    # Downloading data\n",
    "    with DownloadProgressBar(unit='B', unit_scale=True,\n",
    "                             miniters=1, desc=url.split('/')[-1]) as t:\n",
    "        urllib.request.urlretrieve(url, file_path, reporthook=t.update_to)\n",
    "    # Unzip the data\n",
    "    # TODO add a progress bar to zip as well\n",
    "    with zipfile.ZipFile(file_path, 'r') as zip_ref:\n",
    "        zip_ref.extractall(data_dir)"
   ]
  },
  {
   "cell_type": "code",
   "execution_count": 4,
   "metadata": {},
   "outputs": [
    {
     "name": "stderr",
     "output_type": "stream",
     "text": [
      "Loading TIFFs:   0%|          | 0/92 [00:00<?, ?it/s]"
     ]
    },
    {
     "name": "stderr",
     "output_type": "stream",
     "text": [
      "Loading TIFFs: 100%|██████████| 92/92 [00:00<00:00, 402.71it/s]\n",
      "Loading TIFFs: 100%|██████████| 92/92 [00:00<00:00, 609.62it/s]\n"
     ]
    }
   ],
   "source": [
    "\n",
    "gt_data = load_ctc_data(\n",
    "    'downloads/Fluo-N2DL-HeLa/01_GT/TRA',\n",
    "    'downloads/Fluo-N2DL-HeLa/01_GT/TRA/man_track.txt',\n",
    "    name='Hela-01_GT'\n",
    ")\n",
    "pred_data = load_ctc_data(\n",
    "    'sample-data/Fluo-N2DL-HeLa/01_RES', \n",
    "    'sample-data/Fluo-N2DL-HeLa/01_RES/res_track.txt',\n",
    "    name='Hela-01_RES'\n",
    ")"
   ]
  },
  {
   "attachments": {},
   "cell_type": "markdown",
   "metadata": {},
   "source": [
    "Run CTC metrics with additional evaluation of division events."
   ]
  },
  {
   "cell_type": "code",
   "execution_count": 5,
   "metadata": {},
   "outputs": [
    {
     "name": "stderr",
     "output_type": "stream",
     "text": [
      "Matching frames: 100%|██████████| 92/92 [00:01<00:00, 90.00it/s] \n",
      "Evaluating nodes: 100%|██████████| 8600/8600 [00:00<00:00, 645392.99it/s]\n",
      "Evaluating FP edges: 100%|██████████| 8535/8535 [00:00<00:00, 923996.20it/s]\n",
      "Evaluating FN edges: 100%|██████████| 8562/8562 [00:00<00:00, 990392.47it/s]\n"
     ]
    },
    {
     "name": "stdout",
     "output_type": "stream",
     "text": [
      "[   {   'gt': 'Hela-01_GT',\n",
      "        'matcher': {'name': 'CTCMatcher'},\n",
      "        'metric': {   'e_weights': {'fn': 1.5, 'fp': 1, 'ws': 1},\n",
      "                      'name': 'CTCMetrics',\n",
      "                      'v_weights': {'fn': 10, 'fp': 1, 'ns': 5}},\n",
      "        'pred': 'Hela-01_RES',\n",
      "        'results': {   'AOGM': 627.5,\n",
      "                       'DET': 0.9954855886097927,\n",
      "                       'TRA': 0.993676498745377,\n",
      "                       'fn_edges': 87,\n",
      "                       'fn_nodes': 39,\n",
      "                       'fp_edges': 60,\n",
      "                       'fp_nodes': 0,\n",
      "                       'ns_nodes': 0,\n",
      "                       'ws_edges': 47},\n",
      "        'version': '0.0.3.dev5+gf8c982c'},\n",
      "    {   'gt': 'Hela-01_GT',\n",
      "        'matcher': {'name': 'CTCMatcher'},\n",
      "        'metric': {'frame_buffer': (0, 1, 2), 'name': 'DivisionMetrics'},\n",
      "        'pred': 'Hela-01_RES',\n",
      "        'results': {   'Frame Buffer 0': {   'Division F1': 0.76,\n",
      "                                             'Division Precision': 0.7169811320754716,\n",
      "                                             'Division Recall': 0.8085106382978723,\n",
      "                                             'False Negative Divisions': 18,\n",
      "                                             'False Positive Divisions': 30,\n",
      "                                             'Mitotic Branching Correctness': 0.6129032258064516,\n",
      "                                             'True Positive Divisions': 76},\n",
      "                       'Frame Buffer 1': {   'Division F1': 0.76,\n",
      "                                             'Division Precision': 0.7169811320754716,\n",
      "                                             'Division Recall': 0.8085106382978723,\n",
      "                                             'False Negative Divisions': 18,\n",
      "                                             'False Positive Divisions': 30,\n",
      "                                             'Mitotic Branching Correctness': 0.6129032258064516,\n",
      "                                             'True Positive Divisions': 76},\n",
      "                       'Frame Buffer 2': {   'Division F1': 0.76,\n",
      "                                             'Division Precision': 0.7169811320754716,\n",
      "                                             'Division Recall': 0.8085106382978723,\n",
      "                                             'False Negative Divisions': 18,\n",
      "                                             'False Positive Divisions': 30,\n",
      "                                             'Mitotic Branching Correctness': 0.6129032258064516,\n",
      "                                             'True Positive Divisions': 76}},\n",
      "        'version': '0.0.3.dev5+gf8c982c'}]\n"
     ]
    }
   ],
   "source": [
    "ctc_results = run_metrics(\n",
    "    gt_data=gt_data, \n",
    "    pred_data=pred_data, \n",
    "    matcher=CTCMatcher(), \n",
    "    metrics=[CTCMetrics(), DivisionMetrics(frame_buffer=(0,1,2))],\n",
    ")\n",
    "pp.pprint(ctc_results)"
   ]
  },
  {
   "attachments": {},
   "cell_type": "markdown",
   "metadata": {},
   "source": [
    "Use an IOU matcher which supports a minimum threshold for overlap and run division metrics."
   ]
  },
  {
   "cell_type": "code",
   "execution_count": 6,
   "metadata": {},
   "outputs": [
    {
     "name": "stderr",
     "output_type": "stream",
     "text": [
      "Matching frames: 100%|██████████| 92/92 [00:15<00:00,  6.01it/s]\n"
     ]
    },
    {
     "name": "stdout",
     "output_type": "stream",
     "text": [
      "[   {   'gt': 'Hela-01_GT',\n",
      "        'matcher': {'iou_threshold': 0.1, 'name': 'IOUMatcher'},\n",
      "        'metric': {'frame_buffer': (0, 1, 2), 'name': 'DivisionMetrics'},\n",
      "        'pred': 'Hela-01_RES',\n",
      "        'results': {   'Frame Buffer 0': {   'Division F1': 0.711340206185567,\n",
      "                                             'Division Precision': 0.69,\n",
      "                                             'Division Recall': 0.7340425531914894,\n",
      "                                             'False Negative Divisions': 25,\n",
      "                                             'False Positive Divisions': 31,\n",
      "                                             'Mitotic Branching Correctness': 0.552,\n",
      "                                             'True Positive Divisions': 69},\n",
      "                       'Frame Buffer 1': {   'Division F1': 0.711340206185567,\n",
      "                                             'Division Precision': 0.69,\n",
      "                                             'Division Recall': 0.7340425531914894,\n",
      "                                             'False Negative Divisions': 25,\n",
      "                                             'False Positive Divisions': 31,\n",
      "                                             'Mitotic Branching Correctness': 0.552,\n",
      "                                             'True Positive Divisions': 69},\n",
      "                       'Frame Buffer 2': {   'Division F1': 0.711340206185567,\n",
      "                                             'Division Precision': 0.69,\n",
      "                                             'Division Recall': 0.7340425531914894,\n",
      "                                             'False Negative Divisions': 25,\n",
      "                                             'False Positive Divisions': 31,\n",
      "                                             'Mitotic Branching Correctness': 0.552,\n",
      "                                             'True Positive Divisions': 69}},\n",
      "        'version': '0.0.3.dev5+gf8c982c'}]\n"
     ]
    }
   ],
   "source": [
    "iou_results = run_metrics(\n",
    "    gt_data=gt_data, \n",
    "    pred_data=pred_data, \n",
    "    matcher=IOUMatcher(iou_threshold=0.1), \n",
    "    metrics=[DivisionMetrics(frame_buffer=(0,1,2))], \n",
    ")\n",
    "pp.pprint(iou_results)"
   ]
  },
  {
   "cell_type": "code",
   "execution_count": null,
   "metadata": {},
   "outputs": [],
   "source": []
  }
 ],
 "metadata": {
  "kernelspec": {
   "display_name": "tracking-metrics",
   "language": "python",
   "name": "python3"
  },
  "language_info": {
   "codemirror_mode": {
    "name": "ipython",
    "version": 3
   },
   "file_extension": ".py",
   "mimetype": "text/x-python",
   "name": "python",
   "nbconvert_exporter": "python",
   "pygments_lexer": "ipython3",
   "version": "3.10.12"
  },
  "orig_nbformat": 4
 },
 "nbformat": 4,
 "nbformat_minor": 2
}
