{
 "cells": [
  {
   "cell_type": "markdown",
   "metadata": {},
   "source": [
    "### Imports"
   ]
  },
  {
   "cell_type": "code",
   "execution_count": 1,
   "metadata": {},
   "outputs": [],
   "source": [
    "import numpy\n",
    "# prevent confusion\n",
    "from lclPyO3 import lclPyO3 as lcl_rust\n",
    "\n",
    "# termination functions\n",
    "from lclPyO3.termination.min_temperature_termination_criterion import MinTemperatureTerminationCriterion\n",
    "from lclPyO3.termination.max_seconds_termination_criterion import MaxSecondsTerminationCriterion\n",
    "\n",
    "# simulated annealing\n",
    "from lclPyO3.localsearch.simulatedannealing.simulated_annealing import SimulatedAnnealing\n",
    "from lclPyO3.localsearch.simulatedannealing.geometric_cooling_function import GeometricCoolingFunction\n",
    "from lclPyO3.localsearch.simulatedannealing.cnst_iterations_temp_function import CnstIterationsTempFunction\n",
    "\n",
    "# steepest descent \n",
    "from lclPyO3.localsearch.steepestdescent.steepest_descent import SteepestDescent\n",
    "\n",
    "# tabu search\n",
    "from lclPyO3.localsearch.tabusearch.sum_diff_state import SumDiffState\n",
    "from lclPyO3.localsearch.tabusearch.tabu_search import TabuSearch\n",
    "\n",
    "# variable neighbourhood search\n",
    "from lclPyO3.localsearch.vns.variable_neighbourhood import VariableNeighbourhood\n",
    "\n",
    "# move functions\n",
    "from lclPyO3.localsearch.move.tsp_array_swap import TspArraySwap\n",
    "from lclPyO3.localsearch.move.array_reverse_order import ArrayReverseOrder\n",
    "from lclPyO3.localsearch.move.multi_neighbourhood import MultiNeighbourhood\n",
    "\n",
    "# evaluation function\n",
    "from lclPyO3.evaluation.tsp_evaluation_function import TspEvaluationFunction\n",
    "\n",
    "# Problem class\n",
    "from lclPyO3.problem.array_problem import ArrayProblem"
   ]
  },
  {
   "cell_type": "markdown",
   "metadata": {},
   "source": [
    " #### rust setup TSP48"
   ]
  },
  {
   "cell_type": "code",
   "execution_count": 2,
   "metadata": {},
   "outputs": [],
   "source": [
    "rEval=lcl_rust.Evaluation.tsp_from_dist_matrix(\"../data/distanceMatrix\")\n",
    "\n",
    "rMove0=lcl_rust.MoveType.swap_tsp()\n",
    "rMove1=lcl_rust.MoveType.reverse()\n",
    "rProblemSwap=lcl_rust.Problem.array_problem(rMove0,rEval)\n",
    "rProblemReverse=lcl_rust.Problem.array_problem(rMove1,rEval)\n",
    "\n",
    "#simulated annealing\n",
    "rMinTemp=lcl_rust.Termination.min_temp(100)\n",
    "rCooling=lcl_rust.Cooling.geometric_cooling(0.95)\n",
    "rIter=lcl_rust.IterationsPerTemp.cnst_iter_temp(1500)\n",
    "rSimAnn=lcl_rust.LocalSearch.simulated_annealing(2000,True,rProblemSwap,rMinTemp,rCooling,rIter)\n",
    "\n",
    "#steepest descent\n",
    "rMax5=lcl_rust.Termination.max_sec(5)\n",
    "rSteepestDescent=lcl_rust.LocalSearch.steepest_descent(True,rProblemSwap,rMax5)\n",
    "\n",
    "#tabu search\n",
    "rTabuSearch=lcl_rust.LocalSearch.tabu_search(True,rProblemSwap,rMax5)\n",
    "\n",
    "#vns\n",
    "rMoveVNS=lcl_rust.MoveType.multi_neighbor([rMove0,rMove1])\n",
    "rProblemVNS=lcl_rust.Problem.array_problem(rMoveVNS,rEval)\n",
    "rVNS=lcl_rust.LocalSearch.vns(True,rProblemVNS,rMax5)"
   ]
  },
  {
   "cell_type": "markdown",
   "metadata": {},
   "source": [
    " #### python setup"
   ]
  },
  {
   "cell_type": "code",
   "execution_count": 3,
   "metadata": {},
   "outputs": [],
   "source": [
    "pData=numpy.loadtxt(\"../data/distanceMatrix\",dtype=float)\n",
    "\n",
    "#simulated annealing\n",
    "pMoveSA = TspArraySwap(pData.shape[0])\n",
    "pEvalSA=TspEvaluationFunction(pData,pMoveSA)\n",
    "pProblemSA=ArrayProblem(pEvalSA,pMoveSA,pData.shape[0])\n",
    "pMinTemp = MinTemperatureTerminationCriterion(100)\n",
    "pCooling = GeometricCoolingFunction(0.95)\n",
    "pIter = CnstIterationsTempFunction(1500)\n",
    "pSimAnn = SimulatedAnnealing(pProblemSA, pMinTemp, pCooling, pIter, logging=False, benchmarking=True)\n",
    "\n",
    "#steepest descent\n",
    "pMoveSD = TspArraySwap(pData.shape[0])\n",
    "pEvalSD=TspEvaluationFunction(pData,pMoveSD)\n",
    "pMax5SD=MaxSecondsTerminationCriterion(5)\n",
    "pProblemSD=ArrayProblem(pEvalSD,pMoveSD,pData.shape[0])\n",
    "pSteepestDescent=SteepestDescent(pProblemSD,pMax5SD,logging=False, benchmarking=True)\n",
    "\n",
    "#Tabu Search\n",
    "pMax5TB=MaxSecondsTerminationCriterion(5)\n",
    "pMoveTB = TspArraySwap(pData.shape[0])\n",
    "pEvalTB=TspEvaluationFunction(pData,pMoveTB)\n",
    "pProblemTB=ArrayProblem(pEvalTB,pMoveTB,pData.shape[0])\n",
    "pDiffState =SumDiffState()\n",
    "pTabuSearch=TabuSearch(pProblemTB,pMax5TB,pDiffState,logging=False, benchmarking=True)\n",
    "\n",
    "#vns\n",
    "pMax5VNS=MaxSecondsTerminationCriterion(5)\n",
    "pMove0 = TspArraySwap(pData.shape[0])\n",
    "pMove1 = ArrayReverseOrder(pData.shape[0])\n",
    "pMoveVNS = MultiNeighbourhood([pMove0,pMove0])\n",
    "\n",
    "pEvalVNS=TspEvaluationFunction(pData,pMoveVNS)\n",
    "pProblemVNS=ArrayProblem(pEvalVNS,pMoveVNS,pData.shape[0])\n",
    "pVNS = VariableNeighbourhood(pEvalVNS,pMoveVNS,logging=False, benchmarking=True)\n"
   ]
  },
  {
   "cell_type": "markdown",
   "metadata": {},
   "source": [
    "### Run tests"
   ]
  },
  {
   "cell_type": "code",
   "execution_count": 4,
   "metadata": {},
   "outputs": [],
   "source": [
    "rustBenchRes=lcl_rust.benchmark([rProblemSwap,rProblemReverse],[rSimAnn,rSteepestDescent,rTabuSearch],rMax5,10)\n"
   ]
  },
  {
   "cell_type": "code",
   "execution_count": 5,
   "metadata": {},
   "outputs": [
    {
     "name": "stdout",
     "output_type": "stream",
     "text": [
      "____Rust Results___\n",
      "|--- Runs for algorithm \n",
      "|--- Runs for seed \n",
      "(5000246200, 36218.0, 36391.0, 31138063)\n",
      "(5000001300, 37641.0, 37641.0, 31158027)\n",
      "(5000001500, 36055.0, 36061.0, 32648012)\n",
      "(5000001200, 35594.0, 35594.0, 32871227)\n",
      "(5000001500, 35418.0, 35418.0, 33083807)\n",
      "(5000001300, 34287.0, 34287.0, 31400704)\n",
      "(5000001200, 35349.0, 35398.0, 32362621)\n",
      "(5000001100, 36086.0, 36086.0, 32684038)\n",
      "(5000001400, 36667.0, 36667.0, 32761289)\n",
      "(5000001200, 36044.0, 36107.0, 32929614)\n",
      "|--- Runs for seed \n",
      "(5000001600, 34349.0, 34349.0, 32550940)\n",
      "(5000001400, 34071.0, 34071.0, 32610242)\n",
      "(5000001800, 33809.0, 33809.0, 32795395)\n",
      "(5000001400, 34540.0, 34540.0, 31795921)\n",
      "(5000001400, 34281.0, 34281.0, 32038061)\n",
      "(5000001200, 34078.0, 34078.0, 32562547)\n",
      "(5000001500, 34420.0, 34562.0, 31759393)\n",
      "(5000001200, 33581.0, 33581.0, 32630408)\n",
      "(5000003000, 33970.0, 33970.0, 31788629)\n",
      "(5000010800, 34234.0, 34234.0, 32438214)\n",
      "|--- Runs for algorithm \n",
      "|--- Runs for seed \n",
      "(1181000, 55658.0, 55658.0, 42)\n",
      "(1423700, 55658.0, 55658.0, 42)\n",
      "(1147100, 55658.0, 55658.0, 42)\n",
      "(1170900, 55658.0, 55658.0, 42)\n",
      "(1104800, 55658.0, 55658.0, 42)\n",
      "(1403500, 55658.0, 55658.0, 42)\n",
      "(1244100, 55658.0, 55658.0, 42)\n",
      "(1158600, 55658.0, 55658.0, 42)\n",
      "(1160700, 55658.0, 55658.0, 42)\n",
      "(1119100, 55658.0, 55658.0, 42)\n",
      "|--- Runs for seed \n",
      "(1968700, 35608.0, 35608.0, 50)\n",
      "(1739300, 35608.0, 35608.0, 50)\n",
      "(1720600, 35608.0, 35608.0, 50)\n",
      "(1707700, 35608.0, 35608.0, 50)\n",
      "(2026700, 35608.0, 35608.0, 50)\n",
      "(1803200, 35608.0, 35608.0, 50)\n",
      "(1774000, 35608.0, 35608.0, 50)\n",
      "(1725300, 35608.0, 35608.0, 50)\n",
      "(1833900, 35608.0, 35608.0, 50)\n",
      "(1738400, 35608.0, 35608.0, 50)\n",
      "|--- Runs for algorithm \n",
      "|--- Runs for seed \n",
      "(5864700, 55658.0, 55658.0, 44)\n",
      "(6282700, 55658.0, 55658.0, 44)\n",
      "(6058400, 55658.0, 55658.0, 44)\n",
      "(5841700, 55658.0, 55658.0, 44)\n",
      "(6261000, 55658.0, 55658.0, 44)\n",
      "(6145100, 55658.0, 55658.0, 44)\n",
      "(6248400, 55658.0, 55658.0, 44)\n",
      "(6246600, 55658.0, 55658.0, 44)\n",
      "(6029100, 55658.0, 55658.0, 44)\n",
      "(6073800, 55658.0, 55658.0, 44)\n",
      "|--- Runs for seed \n",
      "(8299500, 35608.0, 35608.0, 52)\n",
      "(8187400, 35608.0, 35608.0, 52)\n",
      "(7905500, 35608.0, 35608.0, 52)\n",
      "(8732800, 35608.0, 35608.0, 52)\n",
      "(8248700, 35608.0, 35608.0, 52)\n",
      "(8204700, 35608.0, 35608.0, 52)\n",
      "(7957400, 35608.0, 35608.0, 52)\n",
      "(8107100, 35608.0, 35608.0, 52)\n",
      "(8358700, 35608.0, 35608.0, 52)\n",
      "(8101500, 35608.0, 35608.0, 52)\n"
     ]
    }
   ],
   "source": [
    "print('____Rust Results___')\n",
    "for alg in rustBenchRes:\n",
    "    print('|--- Runs for algorithm ')\n",
    "    for prob in alg:\n",
    "        print('|--- Runs for seed ')\n",
    "        for seed in prob:\n",
    "            print(seed)\n",
    "# pTime=pRes.data.time[-1:][0]\n",
    "# rTime=rRes[-1:][0][0]/10**9\n",
    "# print(\"Python time: \"+ str(pTime))\n",
    "# print(\"Rust time: \"+ str(rTime))\n",
    "# print(\"Procentuele versnelling: \"+ str(((pTime-rTime)/pTime)*100))\n",
    "# print(\"Aantal keer sneller: \"+ str(pTime/rTime))\n"
   ]
  }
 ],
 "metadata": {
  "kernelspec": {
   "display_name": "Python 3",
   "language": "python",
   "name": "python3"
  },
  "language_info": {
   "codemirror_mode": {
    "name": "ipython",
    "version": 3
   },
   "file_extension": ".py",
   "mimetype": "text/x-python",
   "name": "python",
   "nbconvert_exporter": "python",
   "pygments_lexer": "ipython3",
   "version": "3.12.5"
  }
 },
 "nbformat": 4,
 "nbformat_minor": 2
}
