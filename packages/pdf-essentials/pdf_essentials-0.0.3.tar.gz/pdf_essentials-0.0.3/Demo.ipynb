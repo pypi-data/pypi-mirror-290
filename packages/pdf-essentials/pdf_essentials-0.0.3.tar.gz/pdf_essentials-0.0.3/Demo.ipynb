{
 "cells": [
  {
   "cell_type": "code",
   "execution_count": 1,
   "metadata": {},
   "outputs": [],
   "source": [
    "import pdf_essentials as PDF"
   ]
  },
  {
   "cell_type": "markdown",
   "metadata": {},
   "source": [
    "### Split by page ranges"
   ]
  },
  {
   "cell_type": "code",
   "execution_count": 2,
   "metadata": {},
   "outputs": [
    {
     "name": "stdout",
     "output_type": "stream",
     "text": [
      "All PDF parts saved successfully.\n"
     ]
    },
    {
     "data": {
      "text/plain": [
       "True"
      ]
     },
     "execution_count": 2,
     "metadata": {},
     "output_type": "execute_result"
    }
   ],
   "source": [
    "input_pdf = r\"tests/doc_with_4_pages.pdf\"\n",
    "output_dir = r\"tests\"\n",
    "page_ranges = [(1, 2),\n",
    "               (3, 4)]\n",
    "\n",
    "PDF.split_pdf_by_page_ranges(input_pdf, page_ranges, output_dir)"
   ]
  },
  {
   "cell_type": "markdown",
   "metadata": {},
   "source": [
    "### Merge multiple PDF files"
   ]
  },
  {
   "cell_type": "code",
   "execution_count": 3,
   "metadata": {},
   "outputs": [
    {
     "name": "stdout",
     "output_type": "stream",
     "text": [
      "PDFs merged successfully into 'tests/doc_with_4_pages_merged.pdf'.\n"
     ]
    },
    {
     "data": {
      "text/plain": [
       "True"
      ]
     },
     "execution_count": 3,
     "metadata": {},
     "output_type": "execute_result"
    }
   ],
   "source": [
    "pdf_files = [\"tests/doc_with_4_pages_part_1_pages_1-2.pdf\", \n",
    "             \"tests/doc_with_4_pages_part_2_pages_3-4.pdf\"]\n",
    "\n",
    "PDF.merge_pdfs(pdf_files, \"tests/doc_with_4_pages_merged.pdf\")"
   ]
  },
  {
   "cell_type": "markdown",
   "metadata": {},
   "source": [
    "### Extract pages"
   ]
  },
  {
   "cell_type": "code",
   "execution_count": 4,
   "metadata": {},
   "outputs": [
    {
     "name": "stdout",
     "output_type": "stream",
     "text": [
      "Extracted PDF pages saved to 'tests/test_extracted_page_1_and_page_3.pdf'.\n"
     ]
    },
    {
     "data": {
      "text/plain": [
       "True"
      ]
     },
     "execution_count": 4,
     "metadata": {},
     "output_type": "execute_result"
    }
   ],
   "source": [
    "input_pdf = r\"tests/doc_with_4_pages.pdf\"\n",
    "output_pdf = \"tests/test_extracted_page_1_and_page_3.pdf\"\n",
    "page_indices = [1, 3]\n",
    "\n",
    "PDF.extract_pdf_pages(input_pdf, output_pdf, page_indices)"
   ]
  },
  {
   "cell_type": "markdown",
   "metadata": {},
   "source": [
    "### Re-arrange pages"
   ]
  },
  {
   "cell_type": "code",
   "execution_count": 5,
   "metadata": {},
   "outputs": [
    {
     "name": "stdout",
     "output_type": "stream",
     "text": [
      "Rearranged PDF saved to 'tests/test_rearranged_to_order_2_1_4_3.pdf'.\n"
     ]
    },
    {
     "data": {
      "text/plain": [
       "True"
      ]
     },
     "execution_count": 5,
     "metadata": {},
     "output_type": "execute_result"
    }
   ],
   "source": [
    "input_pdf = r\"tests/doc_with_4_pages.pdf\"\n",
    "output_pdf = \"tests/test_rearranged_to_order_2_1_4_3.pdf\"\n",
    "page_order = [2, 1, 4, 3]\n",
    "\n",
    "PDF.rearrange_pdf(input_pdf, output_pdf, page_order)"
   ]
  },
  {
   "cell_type": "markdown",
   "metadata": {},
   "source": [
    "### Delete pages"
   ]
  },
  {
   "cell_type": "code",
   "execution_count": 6,
   "metadata": {},
   "outputs": [
    {
     "name": "stdout",
     "output_type": "stream",
     "text": [
      "PDF pages deleted successfully.\n"
     ]
    },
    {
     "data": {
      "text/plain": [
       "True"
      ]
     },
     "execution_count": 6,
     "metadata": {},
     "output_type": "execute_result"
    }
   ],
   "source": [
    "input_pdf = r\"tests/doc_with_4_pages.pdf\"\n",
    "output_pdf = \"tests/test_deletion_now_page_2_and_page_4.pdf\"\n",
    "pages_to_delete = [1, 3]\n",
    "\n",
    "PDF.delete_pdf_pages(input_pdf, output_pdf, pages_to_delete)"
   ]
  },
  {
   "cell_type": "markdown",
   "metadata": {},
   "source": [
    "### Add page numbers"
   ]
  },
  {
   "cell_type": "code",
   "execution_count": 7,
   "metadata": {},
   "outputs": [
    {
     "name": "stdout",
     "output_type": "stream",
     "text": [
      "Page numbers added and saved to 'tests/test_added_page_numbers.pdf'.\n"
     ]
    },
    {
     "data": {
      "text/plain": [
       "True"
      ]
     },
     "execution_count": 7,
     "metadata": {},
     "output_type": "execute_result"
    }
   ],
   "source": [
    "input_pdf = r\"tests/doc_with_4_pages.pdf\"\n",
    "output_pdf = \"tests/test_added_page_numbers.pdf\"\n",
    "page_number_position = PDF.PageNumberPosition.Left\n",
    "\n",
    "PDF.add_page_numbers(input_pdf, output_pdf, page_number_position)"
   ]
  },
  {
   "cell_type": "markdown",
   "metadata": {},
   "source": [
    "### Remove metadata"
   ]
  },
  {
   "cell_type": "code",
   "execution_count": 8,
   "metadata": {},
   "outputs": [
    {
     "name": "stdout",
     "output_type": "stream",
     "text": [
      "Metadata removed and saved to 'tests/test_removed_metadata_doc_with_4_pages.pdf'.\n"
     ]
    },
    {
     "data": {
      "text/plain": [
       "True"
      ]
     },
     "execution_count": 8,
     "metadata": {},
     "output_type": "execute_result"
    }
   ],
   "source": [
    "input_pdf = r\"tests/doc_with_4_pages.pdf\"\n",
    "output_pdf = r\"tests/test_removed_metadata_doc_with_4_pages.pdf\"\n",
    "\n",
    "PDF.remove_pdf_metadata(input_pdf, output_pdf)"
   ]
  },
  {
   "cell_type": "markdown",
   "metadata": {},
   "source": [
    "### Rotate pages"
   ]
  },
  {
   "cell_type": "code",
   "execution_count": 9,
   "metadata": {},
   "outputs": [
    {
     "name": "stdout",
     "output_type": "stream",
     "text": [
      "Rotated PDF saved successfully to 'tests/test_rotated_doc_with_2_images.pdf'.\n"
     ]
    },
    {
     "data": {
      "text/plain": [
       "True"
      ]
     },
     "execution_count": 9,
     "metadata": {},
     "output_type": "execute_result"
    }
   ],
   "source": [
    "input_pdf = 'tests/doc_with_2_images.pdf'\n",
    "output_pdf = 'tests/test_rotated_doc_with_2_images.pdf'\n",
    "page_rotation_dict = {1: 90,\n",
    "                      2: -90,\n",
    "                      3: 180}\n",
    "\n",
    "PDF.rotate_pages(input_pdf,\n",
    "                 output_pdf,\n",
    "                 global_rotation=180,\n",
    "                 page_rotation_dict=page_rotation_dict)"
   ]
  },
  {
   "cell_type": "markdown",
   "metadata": {},
   "source": [
    "### Redact words/substrings"
   ]
  },
  {
   "cell_type": "code",
   "execution_count": 10,
   "metadata": {},
   "outputs": [
    {
     "name": "stdout",
     "output_type": "stream",
     "text": [
      "Redacted PDF saved to 'tests/test_redaction_doc_about_python.pdf'.\n"
     ]
    },
    {
     "data": {
      "text/plain": [
       "True"
      ]
     },
     "execution_count": 10,
     "metadata": {},
     "output_type": "execute_result"
    }
   ],
   "source": [
    "input_pdf = r\"tests/doc_about_python.pdf\"\n",
    "output_pdf = r\"tests/test_redaction_doc_about_python.pdf\"\n",
    "words_to_anonymize = [\"Python\", \"programming\", \"release\"]\n",
    "\n",
    "# overlay_color=(237,248,177),\n",
    "# overlay_color=\"DarkSlateGray\",\n",
    "# overlay_color=\"#756bb1\"\n",
    "# overlay_color=\"#F0F\"\n",
    "\n",
    "PDF.redact_strings(input_pdf,\n",
    "                   output_pdf,\n",
    "                   words_to_anonymize,\n",
    "                   overlay_color=\"DarkSlateGray\",\n",
    "                   match_whole_word=False)"
   ]
  },
  {
   "cell_type": "markdown",
   "metadata": {},
   "source": [
    "### Crop pages according to individual or global margins"
   ]
  },
  {
   "cell_type": "code",
   "execution_count": 11,
   "metadata": {},
   "outputs": [
    {
     "name": "stdout",
     "output_type": "stream",
     "text": [
      "PDF cropped and saved successfully to 'tests/test_cropped_doc_with_2_images.pdf'.\n"
     ]
    },
    {
     "data": {
      "text/plain": [
       "True"
      ]
     },
     "execution_count": 11,
     "metadata": {},
     "output_type": "execute_result"
    }
   ],
   "source": [
    "input_pdf = r'tests/doc_with_2_images.pdf'\n",
    "output_pdf = r'tests/test_cropped_doc_with_2_images.pdf'\n",
    "global_margins = {'left': 60, 'right': 60, 'top': 30, 'bottom': 30}\n",
    "page_margins = {1: {'left': 50, 'top': 50},\n",
    "                2: {'top': 300, 'bottom': 300}}\n",
    "\n",
    "PDF.crop_pdf(input_pdf, output_pdf, global_margins, page_margins)"
   ]
  },
  {
   "cell_type": "markdown",
   "metadata": {},
   "source": [
    "### Highlight substrings, whole words or regex patterns"
   ]
  },
  {
   "cell_type": "code",
   "execution_count": 2,
   "metadata": {},
   "outputs": [
    {
     "name": "stdout",
     "output_type": "stream",
     "text": [
      "Success: The PDF has been saved to 'tests/output_highlighted_doc_about_python.pdf'.\n"
     ]
    },
    {
     "data": {
      "text/plain": [
       "True"
      ]
     },
     "execution_count": 2,
     "metadata": {},
     "output_type": "execute_result"
    }
   ],
   "source": [
    "input_pdf = r\"tests/doc_about_python.pdf\"\n",
    "output_pdf = r\"tests/output_highlighted_doc_about_python.pdf\"\n",
    "\n",
    "PDF.highlight_text_in_pdf(input_pdf,\n",
    "                          output_pdf,\n",
    "                          search_specs=[(PDF.SearchType.REGEX, \"Py[a-z]+n\", \"XXX\"), (PDF.SearchType.WHOLE_WORD, \"a\", \"XXX\")],\n",
    "                          annotation_type=PDF.AnnotationType.HIGHLIGHT,\n",
    "                          color=\"green\")"
   ]
  },
  {
   "cell_type": "markdown",
   "metadata": {},
   "source": [
    "### Remove images from individual PDF pages"
   ]
  },
  {
   "cell_type": "code",
   "execution_count": 12,
   "metadata": {},
   "outputs": [
    {
     "name": "stdout",
     "output_type": "stream",
     "text": [
      "MuPDF error: syntax error: no XObject subtype specified\n",
      "\n",
      "MuPDF error: syntax error: no XObject subtype specified\n",
      "\n",
      "Images removed from page 1.\n",
      "MuPDF error: syntax error: no XObject subtype specified\n",
      "\n",
      "MuPDF error: syntax error: no XObject subtype specified\n",
      "\n",
      "Images removed from page 3.\n",
      "Images successfully removed and placeholders added. Saved to 'tests/test_removed_images_from_doc_with_2_images.pdf'.\n"
     ]
    },
    {
     "data": {
      "text/plain": [
       "True"
      ]
     },
     "execution_count": 12,
     "metadata": {},
     "output_type": "execute_result"
    }
   ],
   "source": [
    "input_pdf = r'tests/doc_with_2_images.pdf'\n",
    "output_pdf = r'tests/test_removed_images_from_doc_with_2_images.pdf'\n",
    "pages_with_images = [1, 3]\n",
    "\n",
    "PDF.remove_images_and_add_placeholder(input_pdf, output_pdf, pages_with_images)"
   ]
  },
  {
   "cell_type": "markdown",
   "metadata": {},
   "source": [
    "### Convert PDF to PDF/A"
   ]
  },
  {
   "cell_type": "code",
   "execution_count": 13,
   "metadata": {},
   "outputs": [
    {
     "name": "stdout",
     "output_type": "stream",
     "text": [
      "PDF successfully converted to PDF/A and saved to 'tests/pdf_a_doc_about_python.pdf'.\n"
     ]
    },
    {
     "data": {
      "text/plain": [
       "True"
      ]
     },
     "execution_count": 13,
     "metadata": {},
     "output_type": "execute_result"
    }
   ],
   "source": [
    "input_pdf = r\"tests/doc_about_python.pdf\"\n",
    "output_pdf_a = r\"tests/pdf_a_doc_about_python.pdf\"\n",
    "\n",
    "PDF.convert_to_pdfa(input_pdf, output_pdf_a)"
   ]
  },
  {
   "cell_type": "markdown",
   "metadata": {},
   "source": [
    "### Validate if a PDF complies with PDF/A"
   ]
  },
  {
   "cell_type": "code",
   "execution_count": 14,
   "metadata": {},
   "outputs": [
    {
     "data": {
      "text/plain": [
       "True"
      ]
     },
     "execution_count": 14,
     "metadata": {},
     "output_type": "execute_result"
    }
   ],
   "source": [
    "PDF.check_pdfa_compliance(output_pdf_a)"
   ]
  },
  {
   "cell_type": "markdown",
   "metadata": {},
   "source": [
    "### Enable text copy given a protected PDF"
   ]
  },
  {
   "cell_type": "code",
   "execution_count": null,
   "metadata": {},
   "outputs": [],
   "source": [
    "input_pdf = 'CONFIDENTIAL'\n",
    "output_pdf = r\"tests/test_enabled_text_copy.pdf\"\n",
    "\n",
    "PDF.enable_text_copy(input_pdf, output_pdf)"
   ]
  },
  {
   "cell_type": "markdown",
   "metadata": {},
   "source": [
    "### Make form fields read-only"
   ]
  },
  {
   "cell_type": "code",
   "execution_count": null,
   "metadata": {},
   "outputs": [],
   "source": [
    "input_pdf = 'CONFIDENTIAL'\n",
    "output_pdf = r\"tests/test_read_only_form_fields.pdf\"\n",
    "\n",
    "PDF.make_pdf_read_only(input_pdf, output_pdf)"
   ]
  },
  {
   "cell_type": "code",
   "execution_count": null,
   "metadata": {},
   "outputs": [],
   "source": []
  },
  {
   "cell_type": "code",
   "execution_count": null,
   "metadata": {},
   "outputs": [],
   "source": []
  }
 ],
 "metadata": {
  "kernelspec": {
   "display_name": "Python 3 (ipykernel)",
   "language": "python",
   "name": "python3"
  },
  "language_info": {
   "codemirror_mode": {
    "name": "ipython",
    "version": 3
   },
   "file_extension": ".py",
   "mimetype": "text/x-python",
   "name": "python",
   "nbconvert_exporter": "python",
   "pygments_lexer": "ipython3",
   "version": "3.12.2"
  },
  "varInspector": {
   "cols": {
    "lenName": 16,
    "lenType": 16,
    "lenVar": 40
   },
   "kernels_config": {
    "python": {
     "delete_cmd_postfix": "",
     "delete_cmd_prefix": "del ",
     "library": "var_list.py",
     "varRefreshCmd": "print(var_dic_list())"
    },
    "r": {
     "delete_cmd_postfix": ") ",
     "delete_cmd_prefix": "rm(",
     "library": "var_list.r",
     "varRefreshCmd": "cat(var_dic_list()) "
    }
   },
   "types_to_exclude": [
    "module",
    "function",
    "builtin_function_or_method",
    "instance",
    "_Feature"
   ],
   "window_display": false
  }
 },
 "nbformat": 4,
 "nbformat_minor": 2
}
