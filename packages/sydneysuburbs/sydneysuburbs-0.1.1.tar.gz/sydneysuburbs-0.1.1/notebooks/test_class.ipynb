{
 "cells": [
  {
   "cell_type": "code",
   "execution_count": null,
   "id": "e87233df-ea20-49a7-aeb7-a3031875fa7e",
   "metadata": {},
   "outputs": [],
   "source": [
    "## Set notebook to auto reload updated modules\n",
    "%load_ext autoreload\n",
    "%autoreload 2"
   ]
  },
  {
   "cell_type": "code",
   "execution_count": null,
   "id": "ad9e170d-620e-4a3e-90e7-d4ff7c23ad54",
   "metadata": {},
   "outputs": [],
   "source": [
    "from sydneysuburbs.suburb_network import SuburbNetwork"
   ]
  },
  {
   "cell_type": "code",
   "execution_count": null,
   "id": "5782ebbb-cce4-4d08-ab64-25823d1a2b0d",
   "metadata": {},
   "outputs": [],
   "source": [
    "sn = SuburbNetwork(name=\"test\", filename=\"test.geojson\")"
   ]
  },
  {
   "cell_type": "code",
   "execution_count": null,
   "id": "5098a437-3e93-49e2-a1a9-d5ec28213ed1",
   "metadata": {},
   "outputs": [],
   "source": [
    "# add iron cove bridge\n",
    "sn.add_bridge(\"rozelle\", \"drummoyne\")\n",
    "\n",
    "# add anzac bridge\n",
    "sn.add_bridge(\"rozelle\", \"pyrmont\")"
   ]
  },
  {
   "cell_type": "code",
   "execution_count": null,
   "id": "7ca380e4-b751-44fb-8edd-014cb96facf0",
   "metadata": {},
   "outputs": [],
   "source": [
    "sn.get_suburb_by_name(\"ashfield\").postcode"
   ]
  }
 ],
 "metadata": {
  "kernelspec": {
   "display_name": "Python 3 (ipykernel)",
   "language": "python",
   "name": "python3"
  },
  "language_info": {
   "codemirror_mode": {
    "name": "ipython",
    "version": 3
   },
   "file_extension": ".py",
   "mimetype": "text/x-python",
   "name": "python",
   "nbconvert_exporter": "python",
   "pygments_lexer": "ipython3",
   "version": "3.12.4"
  }
 },
 "nbformat": 4,
 "nbformat_minor": 5
}
