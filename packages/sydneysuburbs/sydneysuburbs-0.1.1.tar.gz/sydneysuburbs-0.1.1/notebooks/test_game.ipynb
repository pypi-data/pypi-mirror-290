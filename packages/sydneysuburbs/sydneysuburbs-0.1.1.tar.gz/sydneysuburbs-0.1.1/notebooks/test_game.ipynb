{
 "cells": [
  {
   "cell_type": "code",
   "execution_count": null,
   "id": "8a3255ea-8141-4a5a-b692-ccce3fa6725a",
   "metadata": {},
   "outputs": [],
   "source": [
    "## set notebook to auto reload updated modules\n",
    "%load_ext autoreload\n",
    "%autoreload 2"
   ]
  },
  {
   "cell_type": "code",
   "execution_count": null,
   "id": "5cf38625-09db-4f18-8559-ca2c3dd57e44",
   "metadata": {},
   "outputs": [],
   "source": [
    "from sydneysuburbs.generators import generate_inner_west\n",
    "from sydneysuburbs.suburb_game import SuburbGame"
   ]
  },
  {
   "cell_type": "code",
   "execution_count": null,
   "id": "d9b19342-3293-4468-87a9-9a0c2053bac4",
   "metadata": {},
   "outputs": [],
   "source": [
    "sg = SuburbGame(suburb_network=generate_inner_west())"
   ]
  },
  {
   "cell_type": "code",
   "execution_count": null,
   "id": "2e759b56-b044-408b-bce5-ff4c21992551",
   "metadata": {},
   "outputs": [],
   "source": [
    "g = sg.suburb_network.graph\n",
    "sg.start_game(start=\"concord\", end=\"ashfield\")"
   ]
  },
  {
   "cell_type": "code",
   "execution_count": null,
   "id": "a69e4682-9d35-49e8-b0d9-56f999b74501",
   "metadata": {},
   "outputs": [],
   "source": [
    "def print_status(sg, name):\n",
    "    \"\"\"Prints guess status.\"\"\"\n",
    "    print(f\"Guess: {name}, score: {sg.guess_scores[-1]}\")\n",
    "    print(f\"Guesses remaining = {sg.guesses_remaining}\")"
   ]
  },
  {
   "cell_type": "code",
   "execution_count": null,
   "id": "178a9765-cd98-4c2b-b41b-43f195057536",
   "metadata": {},
   "outputs": [],
   "source": [
    "sg.start_game(start=\"concord\", end=\"ashfield\")\n",
    "# sg.start_random_game(max_length=6)\n",
    "print(f\"{sg.suburb_network.suburbs[sg.start]} -> {sg.suburb_network.suburbs[sg.end]}\")\n",
    "print(f\"Length = {sg.length}\")\n",
    "print(f\"Allowable Guesses = {sg.allowable_guesses}\")\n",
    "# sg.plot_game()"
   ]
  },
  {
   "cell_type": "code",
   "execution_count": null,
   "id": "ec613057-9072-4600-a061-886bac8213a5",
   "metadata": {},
   "outputs": [],
   "source": [
    "name = sg.guess(\"burwood\")\n",
    "print_status(sg, name)"
   ]
  },
  {
   "cell_type": "code",
   "execution_count": null,
   "id": "9eaea7a8-9731-43c6-a7a4-72babe5dc500",
   "metadata": {},
   "outputs": [],
   "source": [
    "name = sg.guess(\"tempe\")\n",
    "print_status(sg, name)"
   ]
  },
  {
   "cell_type": "code",
   "execution_count": null,
   "id": "9ea9a851-feca-4666-84a8-c8df14da3521",
   "metadata": {},
   "outputs": [],
   "source": [
    "name = sg.guess(\"five dock\")\n",
    "print_status(sg, name)"
   ]
  },
  {
   "cell_type": "code",
   "execution_count": null,
   "id": "c73e0dcd-5e3f-4869-8061-08e94906ac83",
   "metadata": {},
   "outputs": [],
   "source": [
    "name = sg.guess(\"croydon\")\n",
    "print_status(sg, name)"
   ]
  },
  {
   "cell_type": "code",
   "execution_count": null,
   "id": "630ea57a-7864-497a-a43e-36fed62709aa",
   "metadata": {},
   "outputs": [],
   "source": [
    "sg.is_game_finished()"
   ]
  },
  {
   "cell_type": "code",
   "execution_count": null,
   "id": "997b7170-c4d4-4f3b-847c-663224f31f1a",
   "metadata": {},
   "outputs": [],
   "source": [
    "sg.plot_game(sg.is_game_finished())"
   ]
  },
  {
   "cell_type": "code",
   "execution_count": null,
   "id": "52448de4-8c6a-4431-bd4d-f88d0ce585a1",
   "metadata": {},
   "outputs": [],
   "source": [
    "import topojson as tp"
   ]
  },
  {
   "cell_type": "code",
   "execution_count": null,
   "id": "d795fd62-68ee-4826-bd2b-c38ce8ea4288",
   "metadata": {},
   "outputs": [],
   "source": [
    "topo = tp.Topology(sg.suburb_network.df, prequantize=False)"
   ]
  },
  {
   "cell_type": "code",
   "execution_count": null,
   "id": "e0993c87-9767-4498-95c5-e5a4b1898c7f",
   "metadata": {},
   "outputs": [],
   "source": [
    "simp = topo.toposimplify(20)\n",
    "sg.suburb_network.df_gps = simp.to_gdf().to_crs(epsg=4326)"
   ]
  },
  {
   "cell_type": "code",
   "execution_count": null,
   "id": "a32e9ada-4f1e-4db0-8398-2a202ace2b7b",
   "metadata": {},
   "outputs": [],
   "source": [
    "sg.plot_game(sg.is_game_finished())"
   ]
  }
 ],
 "metadata": {
  "kernelspec": {
   "display_name": "Python 3 (ipykernel)",
   "language": "python",
   "name": "python3"
  },
  "language_info": {
   "codemirror_mode": {
    "name": "ipython",
    "version": 3
   },
   "file_extension": ".py",
   "mimetype": "text/x-python",
   "name": "python",
   "nbconvert_exporter": "python",
   "pygments_lexer": "ipython3",
   "version": "3.12.4"
  }
 },
 "nbformat": 4,
 "nbformat_minor": 5
}
