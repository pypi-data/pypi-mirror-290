{
 "cells": [
  {
   "cell_type": "code",
   "execution_count": null,
   "id": "45ff0791-97b5-4f96-8b71-dfc929e4f641",
   "metadata": {},
   "outputs": [],
   "source": [
    "from geopandas import read_file"
   ]
  },
  {
   "cell_type": "code",
   "execution_count": null,
   "id": "6b415270-35cb-4c01-b2b1-83e95ed713de",
   "metadata": {},
   "outputs": [],
   "source": [
    "fn = \"../src/sydneysuburbs/data/test.geojson\"\n",
    "subs = read_file(\n",
    "    filename=fn, columns=[\"suburbname\", \"postcode\", \"Shape__Length\", \"Shape__Area\"]\n",
    ")"
   ]
  },
  {
   "cell_type": "code",
   "execution_count": null,
   "id": "165c11bf-3084-4929-8001-299840374b74",
   "metadata": {},
   "outputs": [],
   "source": [
    "subs = subs.to_crs(epsg=7856)"
   ]
  },
  {
   "cell_type": "code",
   "execution_count": null,
   "id": "cba5394d-eb52-4b7e-8cf2-72dabd94a91f",
   "metadata": {},
   "outputs": [],
   "source": [
    "subs[\"centroid\"] = subs.centroid"
   ]
  },
  {
   "cell_type": "code",
   "execution_count": null,
   "id": "fb273ec7-420d-43c9-9b7b-43c114b77dba",
   "metadata": {},
   "outputs": [],
   "source": [
    "for row in subs.itertuples(index=True, name=\"Pandas\"):\n",
    "    print(row.Index, row.suburbname, row.postcode, row.Shape__Length)\n",
    "    print(type(row.Index))\n",
    "    print(type(row.suburbname))\n",
    "    print(type(row.postcode))\n",
    "    print(type(row.Shape__Length))\n",
    "    break"
   ]
  },
  {
   "cell_type": "code",
   "execution_count": null,
   "id": "3988b1a1-0c1a-479c-849d-b38569a5e351",
   "metadata": {},
   "outputs": [],
   "source": [
    "subs"
   ]
  },
  {
   "cell_type": "code",
   "execution_count": null,
   "id": "b5b12de6-d0c2-45ca-965d-34dc54d64882",
   "metadata": {},
   "outputs": [],
   "source": [
    "from libpysal.weights import Rook"
   ]
  },
  {
   "cell_type": "code",
   "execution_count": null,
   "id": "2d291e2d-9fbf-46bb-9b67-0a344158dce6",
   "metadata": {},
   "outputs": [],
   "source": [
    "weights = Rook.from_dataframe(df=subs, use_index=True)"
   ]
  },
  {
   "cell_type": "code",
   "execution_count": null,
   "id": "c6537e97-f8ae-4ff0-9734-3e1554bc93dd",
   "metadata": {},
   "outputs": [],
   "source": [
    "ax = subs.plot(edgecolor=\"k\", facecolor=\"w\")\n",
    "f, ax = weights.plot(\n",
    "    gdf=subs,\n",
    "    ax=ax,\n",
    "    edge_kws={\"color\": \"r\", \"linestyle\": \":\", \"linewidth\": 1},\n",
    "    node_kws={\"marker\": \"\"},\n",
    ")"
   ]
  },
  {
   "cell_type": "code",
   "execution_count": null,
   "id": "b5e4ed1d-947c-4503-b7b8-930357d88d8b",
   "metadata": {},
   "outputs": [],
   "source": [
    "ash_id = subs[subs[\"suburbname\"] == \"ASHFIELD\"].index.tolist()[0]"
   ]
  },
  {
   "cell_type": "code",
   "execution_count": null,
   "id": "6904f5f2-f0ee-426d-8367-5d87bc083781",
   "metadata": {},
   "outputs": [],
   "source": [
    "ash_nbs = weights.neighbors[ash_id]"
   ]
  },
  {
   "cell_type": "code",
   "execution_count": null,
   "id": "97c205c0-289f-43a0-b0fb-9f11d5c7df5b",
   "metadata": {},
   "outputs": [],
   "source": [
    "subs.iloc[ash_nbs]"
   ]
  },
  {
   "cell_type": "code",
   "execution_count": null,
   "id": "1fbcfa18-5f0e-4981-bfd3-ed3a2a05f116",
   "metadata": {},
   "outputs": [],
   "source": [
    "conc_id = subs[subs[\"suburbname\"] == \"CONCORD\"].index.tolist()[0]\n",
    "conc_nbs = weights.neighbors[conc_id]"
   ]
  },
  {
   "cell_type": "code",
   "execution_count": null,
   "id": "b8b133fb-3e4d-4960-84c8-bafa91ff4d3f",
   "metadata": {},
   "outputs": [],
   "source": [
    "subs.iloc[conc_nbs]"
   ]
  },
  {
   "cell_type": "code",
   "execution_count": null,
   "id": "a1ada6c5-4a85-44e3-963b-378267106754",
   "metadata": {},
   "outputs": [],
   "source": [
    "graph = weights.to_networkx()"
   ]
  },
  {
   "cell_type": "code",
   "execution_count": null,
   "id": "01614aa6-ec84-4ad4-96ad-c5811d14a5b9",
   "metadata": {},
   "outputs": [],
   "source": [
    "import networkx as nx\n",
    "import numpy as np"
   ]
  },
  {
   "cell_type": "code",
   "execution_count": null,
   "id": "d891af57-258c-41b6-b456-0cacc67cb3d3",
   "metadata": {},
   "outputs": [],
   "source": [
    "cs = np.column_stack((subs[\"centroid\"].x, subs[\"centroid\"].y))\n",
    "positions = dict(zip(graph.nodes, cs, strict=False))"
   ]
  },
  {
   "cell_type": "code",
   "execution_count": null,
   "id": "2a71d6d9-5619-44d6-8264-0dbe9232ca69",
   "metadata": {},
   "outputs": [],
   "source": [
    "ax = subs.plot(linewidth=1, edgecolor=\"grey\", facecolor=\"lightblue\")\n",
    "nx.draw(graph, positions, ax=ax, node_size=5, node_color=\"r\")"
   ]
  },
  {
   "cell_type": "code",
   "execution_count": null,
   "id": "3ea2eb32-702d-493a-9fb8-d139c160283f",
   "metadata": {},
   "outputs": [],
   "source": [
    "bal_id = subs[subs[\"suburbname\"] == \"BALMAIN\"].index.tolist()[0]\n",
    "sp = nx.all_shortest_paths(G=graph, source=conc_id, target=bal_id)"
   ]
  },
  {
   "cell_type": "code",
   "execution_count": null,
   "id": "d9fe2de0-e67f-4a2d-9cf4-025094d1ccc9",
   "metadata": {},
   "outputs": [],
   "source": [
    "for p in sp:\n",
    "    print(subs.iloc[p])"
   ]
  }
 ],
 "metadata": {
  "kernelspec": {
   "display_name": "Python 3 (ipykernel)",
   "language": "python",
   "name": "python3"
  },
  "language_info": {
   "codemirror_mode": {
    "name": "ipython",
    "version": 3
   },
   "file_extension": ".py",
   "mimetype": "text/x-python",
   "name": "python",
   "nbconvert_exporter": "python",
   "pygments_lexer": "ipython3",
   "version": "3.12.4"
  }
 },
 "nbformat": 4,
 "nbformat_minor": 5
}
