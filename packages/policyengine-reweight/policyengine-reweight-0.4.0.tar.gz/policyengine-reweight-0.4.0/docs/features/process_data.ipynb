{
 "cells": [
  {
   "cell_type": "markdown",
   "metadata": {},
   "source": [
    "# The process_data file\n",
    "\n",
    "The process_data file in this repo is used to process, once monthly, survey data from PolicyEngine UK and PolicyEngine US, using the reweight function.\n",
    "\n",
    "## generate_country_weights\n",
    "\n",
    "This is a helper function that uses reweight to generate optimized weights for a specific country and year.\n",
    "\n",
    "## generate_country_csv\n",
    "\n",
    "This is a helper function that generates optimized weights for a country over multiple years, and then saves these weights as a CSV file.\n",
    "\n",
    "## Main body of code\n",
    "\n",
    "First, `generate_country_csv` is used to generate weights files for both the UK and the US. Then, a GitHub release is generated on the reweight repo, to which the two CSV files are uploaded with a simple helper function called `upload_file`.\n",
    "\n",
    "## Notes\n",
    "\n",
    "If you're developing on this, replace \"pmberg\" with your username, and make an environment variable titled API_GITHUB_TOKEN containing an appropriate GitHub API token.\n",
    "\n",
    "Also, the UK data sources are not publicly available, so if you're developing on this, you need authorization to get an API key that works with them. If you lack the necessary permissions at any stage, the code will not run."
   ]
  }
 ],
 "metadata": {
  "language_info": {
   "name": "python"
  }
 },
 "nbformat": 4,
 "nbformat_minor": 2
}
