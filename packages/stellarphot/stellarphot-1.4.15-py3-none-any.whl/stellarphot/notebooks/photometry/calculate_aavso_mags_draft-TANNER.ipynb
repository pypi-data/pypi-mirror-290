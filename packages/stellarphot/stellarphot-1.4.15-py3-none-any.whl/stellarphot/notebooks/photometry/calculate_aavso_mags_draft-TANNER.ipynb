{
 "cells": [
  {
   "cell_type": "code",
   "execution_count": 1,
   "id": "6d973d4c-b1db-4f8b-82a2-e64990c07776",
   "metadata": {},
   "outputs": [],
   "source": [
    "from pathlib import Path\n",
    "\n",
    "import numpy as np\n",
    "\n",
    "from astropy.coordinates import SkyCoord\n",
    "from astropy.table import Table\n",
    "from astropy.time import Time\n",
    "from astropy.timeseries import TimeSeries\n",
    "\n",
    "from matplotlib import pyplot as plt\n",
    "\n",
    "from stellarphot.differential_photometry import vsx_mags\n"
   ]
  },
  {
   "cell_type": "code",
   "execution_count": 2,
   "id": "294fa9a6-5522-414b-ad96-73da98cb3eea",
   "metadata": {},
   "outputs": [],
   "source": [
    "folder_with_files = '.'\n",
    "\n",
    "your_photometry_file = 'UCAC4-combined-data.csv'\n",
    "comp_stars_file = 'aavso2-UCAC4.csv'\n",
    "name_of_variable = ''\n",
    "\n",
    "# Enter the check star label (2 or 3 digit number) below \n",
    "check_star_label = '139'\n",
    "\n",
    "# Our filter names vs filter names in comparison star table\n",
    "filter_mapping = dict(\n",
    "    rp='rp',\n",
    "    B='B',\n",
    "    V='V',\n",
    ")"
   ]
  },
  {
   "cell_type": "code",
   "execution_count": 3,
   "id": "ef5cce53-08f1-4de5-9814-23be33285f5b",
   "metadata": {},
   "outputs": [],
   "source": [
    "p = Path(folder_with_files)\n",
    "your_photometry_file = p / your_photometry_file\n",
    "comp_stars_file = p / comp_stars_file"
   ]
  },
  {
   "cell_type": "code",
   "execution_count": 4,
   "id": "110085f6-4c91-4e55-9ced-fb64936acf69",
   "metadata": {},
   "outputs": [],
   "source": [
    "var_coord = SkyCoord(ra=\"18:48:26.61\", dec=\"+23:09:04.1\", frame=\"icrs\", unit=(\"hour\", \"degree\"))\n",
    "\n",
    "vc = dict(coords=var_coord)"
   ]
  },
  {
   "cell_type": "code",
   "execution_count": 5,
   "id": "7cd3031f-59ef-4b21-bad9-0075fc9b679a",
   "metadata": {},
   "outputs": [],
   "source": [
    "your_photometry = Table.read(your_photometry_file)\n",
    "your_photometry['RA'].unit = 'degree'\n",
    "your_photometry['Dec'].unit = 'degree'\n",
    "\n",
    "your_photometry['band'] = your_photometry['filter']\n",
    "\n",
    "comp_stars = Table.read(comp_stars_file)\n",
    "comp_stars['RAJ2000'].unit = 'degree'\n",
    "comp_stars['DEJ2000'].unit = 'degree'\n",
    "\n"
   ]
  },
  {
   "cell_type": "code",
   "execution_count": 6,
   "id": "cdab5216-9a6a-4db4-8508-f5e0b5dd0ece",
   "metadata": {},
   "outputs": [],
   "source": [
    "comp_stars_check_only = comp_stars[comp_stars['label'] == int(check_star_label)]\n",
    "check_star_auid = comp_stars_check_only['auid'][0]"
   ]
  },
  {
   "cell_type": "code",
   "execution_count": 7,
   "id": "aa43ad37-6ef2-4d29-b1cd-2b1652ac8ec9",
   "metadata": {},
   "outputs": [],
   "source": [
    "comp_stars_no_check = comp_stars[comp_stars['auid'] != check_star_auid]"
   ]
  },
  {
   "cell_type": "markdown",
   "id": "23411fe8-7cd2-455d-ac74-058ec5df9c37",
   "metadata": {},
   "source": [
    "## The cell below does just one filter..."
   ]
  },
  {
   "cell_type": "code",
   "execution_count": 8,
   "id": "77fd8792-f47b-41ef-a489-f82f05b4d68f",
   "metadata": {},
   "outputs": [],
   "source": [
    "this_filter = 'rp'\n",
    "\n",
    "this_phot = your_photometry[your_photometry['band'] == this_filter]\n",
    "                                                                                                                                                                                                                                                                                                                                                                                              \n",
    "this_phot_grp = this_phot.group_by('BJD')\n",
    "\n",
    "airmass = []\n",
    "times = []\n",
    "cal_mag = []\n",
    "cal_mag_err = []\n",
    "date_obs = []\n",
    "for time, rows in zip(this_phot_grp.groups.keys, this_phot_grp.groups):\n",
    "    mag, err = vsx_mags.calc_vmag(vc, rows, comp_stars_no_check, band=filter_mapping[this_filter], star_data_mag_column=f'mag_inst')\n",
    "    cal_mag.append(mag)\n",
    "    cal_mag_err.append(err)\n",
    "    times.append(time[0])\n",
    "    date_obs.append(rows['date-obs'][0])\n",
    "    airmass.append(rows['airmass'][0])\n",
    "    "
   ]
  },
  {
   "cell_type": "code",
   "execution_count": 9,
   "id": "cc814ba5-d71d-46ce-924c-3f0889b27729",
   "metadata": {},
   "outputs": [],
   "source": [
    "table = Table(data=[times, cal_mag, cal_mag_err, airmass, date_obs], names=['time', 'mag', 'err', 'airmass', 'date-obs'])\n",
    "table['day']  = [np.floor(bjd) for bjd in table['time']]\n",
    "\n",
    "table = table.group_by('day')\n",
    "\n",
    "table_grouped = table"
   ]
  },
  {
   "cell_type": "code",
   "execution_count": 10,
   "id": "2bda30f8-ad17-4d66-aff3-760de65e01d7",
   "metadata": {},
   "outputs": [
    {
     "data": {
      "text/html": [
       "<div><i>Table length=177</i>\n",
       "<table id=\"table4498566608\" class=\"table-striped table-bordered table-condensed\">\n",
       "<thead><tr><th>time</th><th>mag</th><th>err</th><th>airmass</th><th>date-obs</th><th>day</th></tr></thead>\n",
       "<thead><tr><th>float64</th><th>float64</th><th>float64</th><th>float64</th><th>str23</th><th>float64</th></tr></thead>\n",
       "<tr><td>2460125.7373243696</td><td>14.426393650722513</td><td>0.21048202518444192</td><td>1.127</td><td>2023-06-30T05:34:01.560</td><td>2460125.0</td></tr>\n",
       "<tr><td>2460125.738824489</td><td>14.326757938031916</td><td>0.2369040832079295</td><td>1.125</td><td>2023-06-30T05:36:11.169</td><td>2460125.0</td></tr>\n",
       "<tr><td>2460125.7403208003</td><td>14.249253558443701</td><td>0.15794226892649824</td><td>1.123</td><td>2023-06-30T05:38:20.449</td><td>2460125.0</td></tr>\n",
       "<tr><td>2460125.741881117</td><td>14.254429925640814</td><td>0.2410264405242706</td><td>1.12</td><td>2023-06-30T05:40:35.259</td><td>2460125.0</td></tr>\n",
       "<tr><td>2460125.743308573</td><td>14.445630080629297</td><td>0.23623099011529708</td><td>1.119</td><td>2023-06-30T05:42:38.590</td><td>2460125.0</td></tr>\n",
       "<tr><td>2460125.744808577</td><td>14.269249034504444</td><td>0.35127847623226127</td><td>1.117</td><td>2023-06-30T05:44:48.189</td><td>2460125.0</td></tr>\n",
       "<tr><td>...</td><td>...</td><td>...</td><td>...</td><td>...</td><td>...</td></tr>\n",
       "<tr><td>2460156.6760678627</td><td>14.468251607410204</td><td>0.2494323124549899</td><td>1.101</td><td>2023-07-31T04:06:09.900</td><td>2460156.0</td></tr>\n",
       "<tr><td>2460156.679594268</td><td>14.454406713366854</td><td>0.22590605729420712</td><td>1.098</td><td>2023-07-31T04:11:14.589</td><td>2460156.0</td></tr>\n",
       "<tr><td>2460156.6831073742</td><td>14.47325519140857</td><td>0.1768009992377727</td><td>1.096</td><td>2023-07-31T04:16:18.129</td><td>2460156.0</td></tr>\n",
       "<tr><td>2460156.686643165</td><td>14.498076499250486</td><td>0.16073150497168323</td><td>1.095</td><td>2023-07-31T04:21:23.629</td><td>2460156.0</td></tr>\n",
       "<tr><td>2460156.690185912</td><td>14.570629125680254</td><td>0.177378882098725</td><td>1.094</td><td>2023-07-31T04:26:29.730</td><td>2460156.0</td></tr>\n",
       "<tr><td>2460156.693701217</td><td>14.44612886202416</td><td>0.16513918611633857</td><td>1.093</td><td>2023-07-31T04:31:33.460</td><td>2460156.0</td></tr>\n",
       "<tr><td>2460156.697228432</td><td>14.519327382416918</td><td>0.26694356758806437</td><td>1.092</td><td>2023-07-31T04:36:38.219</td><td>2460156.0</td></tr>\n",
       "</table></div>"
      ],
      "text/plain": [
       "<Table length=177>\n",
       "       time               mag         ...         date-obs           day   \n",
       "     float64            float64       ...          str23           float64 \n",
       "------------------ ------------------ ... ----------------------- ---------\n",
       "2460125.7373243696 14.426393650722513 ... 2023-06-30T05:34:01.560 2460125.0\n",
       " 2460125.738824489 14.326757938031916 ... 2023-06-30T05:36:11.169 2460125.0\n",
       "2460125.7403208003 14.249253558443701 ... 2023-06-30T05:38:20.449 2460125.0\n",
       " 2460125.741881117 14.254429925640814 ... 2023-06-30T05:40:35.259 2460125.0\n",
       " 2460125.743308573 14.445630080629297 ... 2023-06-30T05:42:38.590 2460125.0\n",
       " 2460125.744808577 14.269249034504444 ... 2023-06-30T05:44:48.189 2460125.0\n",
       "               ...                ... ...                     ...       ...\n",
       "2460156.6760678627 14.468251607410204 ... 2023-07-31T04:06:09.900 2460156.0\n",
       " 2460156.679594268 14.454406713366854 ... 2023-07-31T04:11:14.589 2460156.0\n",
       "2460156.6831073742  14.47325519140857 ... 2023-07-31T04:16:18.129 2460156.0\n",
       " 2460156.686643165 14.498076499250486 ... 2023-07-31T04:21:23.629 2460156.0\n",
       " 2460156.690185912 14.570629125680254 ... 2023-07-31T04:26:29.730 2460156.0\n",
       " 2460156.693701217  14.44612886202416 ... 2023-07-31T04:31:33.460 2460156.0\n",
       " 2460156.697228432 14.519327382416918 ... 2023-07-31T04:36:38.219 2460156.0"
      ]
     },
     "execution_count": 10,
     "metadata": {},
     "output_type": "execute_result"
    }
   ],
   "source": [
    "table"
   ]
  },
  {
   "cell_type": "code",
   "execution_count": 28,
   "id": "c2564919-46e9-4ce9-b6ec-a4dbf04a1a41",
   "metadata": {},
   "outputs": [
    {
     "data": {
      "text/plain": [
       "(15.564678974954333, 12.26918357235381)"
      ]
     },
     "execution_count": 28,
     "metadata": {},
     "output_type": "execute_result"
    },
    {
     "data": {
      "image/png": "[encoded data removed]",
      "text/plain": [
       "<Figure size 432x288 with 1 Axes>"
      ]
     },
     "metadata": {
      "needs_background": "light"
     },
     "output_type": "display_data"
    }
   ],
   "source": [
    "for group in table_grouped.groups: \n",
    "    time0 = group['time'][0]\n",
    "    plt.plot(label = group['day'])\n",
    "    plt.errorbar(group['time']-time0,group['mag'], yerr=group['err'], fmt = 's', label = f'{time0:.2f}', alpha=0.3)\n",
    "plt.grid()\n",
    "plt.ylabel('Magnitude')\n",
    "plt.xlabel('Time since begining of observation (Days)')\n",
    "plt.legend()\n",
    "plt.ylim(*plt.ylim()[::-1])\n"
   ]
  },
  {
   "cell_type": "code",
   "execution_count": 12,
   "id": "3498a8bc-c6d3-4cc5-be08-bdb3e1ccd3c1",
   "metadata": {},
   "outputs": [],
   "source": [
    "check = comp_stars[comp_stars['auid'] == check_star_auid]\n",
    "check_coord = SkyCoord(ra=check['RAJ2000'][0], dec=check['DEJ2000'][0], unit='degree')"
   ]
  },
  {
   "cell_type": "code",
   "execution_count": 13,
   "id": "255bdf25-44c4-43f4-85c3-36d2c8a787e0",
   "metadata": {},
   "outputs": [],
   "source": [
    "your_coords = SkyCoord(ra=your_photometry['RA'], dec=your_photometry['Dec'])"
   ]
  },
  {
   "cell_type": "code",
   "execution_count": 14,
   "id": "65d3dab3-c4bd-4206-8773-2dfa274df0be",
   "metadata": {},
   "outputs": [],
   "source": [
    "kc = dict(coords=check_coord)\n",
    "\n",
    "airmass_k = []\n",
    "times_k = []\n",
    "cal_mag_k = []\n",
    "cal_mag_err_k = []\n",
    "date_obs = []\n",
    "for time, rows in zip(this_phot_grp.groups.keys, this_phot_grp.groups):\n",
    "    mag, err = vsx_mags.calc_vmag(kc, rows, comp_stars_no_check, band=filter_mapping[this_filter], star_data_mag_column=f'mag_inst')\n",
    "    cal_mag_k.append(mag)\n",
    "    cal_mag_err_k.append(err)\n",
    "    times_k.append(time[0])\n",
    "    date_obs.append(rows['date-obs'][0])\n",
    "    airmass_k.append(rows['airmass'][0])\n",
    "    \n",
    "assert times_k == times"
   ]
  },
  {
   "cell_type": "code",
   "execution_count": 15,
   "id": "811274f8-5138-4d51-9b47-217f7f40b956",
   "metadata": {},
   "outputs": [
    {
     "data": {
      "text/html": [
       "<div><i>Table length=177</i>\n",
       "<table id=\"table4505713584\" class=\"table-striped table-bordered table-condensed\">\n",
       "<thead><tr><th>time</th><th>mag</th><th>err</th><th>airmass</th><th>date-obs</th><th>day</th></tr></thead>\n",
       "<thead><tr><th>float64</th><th>float64</th><th>float64</th><th>float64</th><th>str23</th><th>float64</th></tr></thead>\n",
       "<tr><td>2460125.7373243696</td><td>13.721044308521517</td><td>0.21048202518444079</td><td>1.127</td><td>2023-06-30T05:34:01.560</td><td>2460125.0</td></tr>\n",
       "<tr><td>2460125.738824489</td><td>13.725432854095732</td><td>0.23690408320792894</td><td>1.125</td><td>2023-06-30T05:36:11.169</td><td>2460125.0</td></tr>\n",
       "<tr><td>2460125.7403208003</td><td>13.77585311675374</td><td>0.1579422689264986</td><td>1.123</td><td>2023-06-30T05:38:20.449</td><td>2460125.0</td></tr>\n",
       "<tr><td>2460125.741881117</td><td>13.690738738817632</td><td>0.24102644052427105</td><td>1.12</td><td>2023-06-30T05:40:35.259</td><td>2460125.0</td></tr>\n",
       "<tr><td>2460125.743308573</td><td>13.738770881710632</td><td>0.23623099011529658</td><td>1.119</td><td>2023-06-30T05:42:38.590</td><td>2460125.0</td></tr>\n",
       "<tr><td>2460125.744808577</td><td>13.78716609453941</td><td>0.3512784762322605</td><td>1.117</td><td>2023-06-30T05:44:48.189</td><td>2460125.0</td></tr>\n",
       "<tr><td>...</td><td>...</td><td>...</td><td>...</td><td>...</td><td>...</td></tr>\n",
       "<tr><td>2460156.6760678627</td><td>13.704287675449635</td><td>0.24943231245499015</td><td>1.101</td><td>2023-07-31T04:06:09.900</td><td>2460156.0</td></tr>\n",
       "<tr><td>2460156.679594268</td><td>13.660903794283971</td><td>0.22590605729420649</td><td>1.098</td><td>2023-07-31T04:11:14.589</td><td>2460156.0</td></tr>\n",
       "<tr><td>2460156.6831073742</td><td>13.690383028851464</td><td>0.17680099923777232</td><td>1.096</td><td>2023-07-31T04:16:18.129</td><td>2460156.0</td></tr>\n",
       "<tr><td>2460156.686643165</td><td>13.731072388069322</td><td>0.16073150497168376</td><td>1.095</td><td>2023-07-31T04:21:23.629</td><td>2460156.0</td></tr>\n",
       "<tr><td>2460156.690185912</td><td>13.814185185627037</td><td>0.1773788820987256</td><td>1.094</td><td>2023-07-31T04:26:29.730</td><td>2460156.0</td></tr>\n",
       "<tr><td>2460156.693701217</td><td>13.739812844457086</td><td>0.16513918611633926</td><td>1.093</td><td>2023-07-31T04:31:33.460</td><td>2460156.0</td></tr>\n",
       "<tr><td>2460156.697228432</td><td>13.683348391573926</td><td>0.26694356758806365</td><td>1.092</td><td>2023-07-31T04:36:38.219</td><td>2460156.0</td></tr>\n",
       "</table></div>"
      ],
      "text/plain": [
       "<Table length=177>\n",
       "       time               mag         ...         date-obs           day   \n",
       "     float64            float64       ...          str23           float64 \n",
       "------------------ ------------------ ... ----------------------- ---------\n",
       "2460125.7373243696 13.721044308521517 ... 2023-06-30T05:34:01.560 2460125.0\n",
       " 2460125.738824489 13.725432854095732 ... 2023-06-30T05:36:11.169 2460125.0\n",
       "2460125.7403208003  13.77585311675374 ... 2023-06-30T05:38:20.449 2460125.0\n",
       " 2460125.741881117 13.690738738817632 ... 2023-06-30T05:40:35.259 2460125.0\n",
       " 2460125.743308573 13.738770881710632 ... 2023-06-30T05:42:38.590 2460125.0\n",
       " 2460125.744808577  13.78716609453941 ... 2023-06-30T05:44:48.189 2460125.0\n",
       "               ...                ... ...                     ...       ...\n",
       "2460156.6760678627 13.704287675449635 ... 2023-07-31T04:06:09.900 2460156.0\n",
       " 2460156.679594268 13.660903794283971 ... 2023-07-31T04:11:14.589 2460156.0\n",
       "2460156.6831073742 13.690383028851464 ... 2023-07-31T04:16:18.129 2460156.0\n",
       " 2460156.686643165 13.731072388069322 ... 2023-07-31T04:21:23.629 2460156.0\n",
       " 2460156.690185912 13.814185185627037 ... 2023-07-31T04:26:29.730 2460156.0\n",
       " 2460156.693701217 13.739812844457086 ... 2023-07-31T04:31:33.460 2460156.0\n",
       " 2460156.697228432 13.683348391573926 ... 2023-07-31T04:36:38.219 2460156.0"
      ]
     },
     "execution_count": 15,
     "metadata": {},
     "output_type": "execute_result"
    }
   ],
   "source": [
    "table_k = Table(data=[times_k, cal_mag_k, cal_mag_err_k, airmass_k, date_obs], \n",
    "                names=['time', 'mag', 'err', 'airmass', 'date-obs'])\n",
    "table_k['day']  = table['day']\n",
    "\n",
    "table_k = table_k.group_by('day')\n",
    "\n",
    "table_grouped_k = table_k\n",
    "table_k"
   ]
  },
  {
   "cell_type": "code",
   "execution_count": 27,
   "id": "ec9f67a5-b11b-4509-a135-5bafc4f152a4",
   "metadata": {},
   "outputs": [
    {
     "data": {
      "text/plain": [
       "<matplotlib.legend.Legend at 0x10d339090>"
      ]
     },
     "execution_count": 27,
     "metadata": {},
     "output_type": "execute_result"
    },
    {
     "data": {
      "image/png": "[encoded data removed]",
      "text/plain": [
       "<Figure size 432x288 with 1 Axes>"
      ]
     },
     "metadata": {
      "needs_background": "light"
     },
     "output_type": "display_data"
    }
   ],
   "source": [
    "for group in table_grouped_k.groups: \n",
    "    time0 = group['time'][0]\n",
    "    plt.plot(label = group['day'])\n",
    "    plt.errorbar(group['time']-time0,group['mag'], yerr=group['err'], fmt = 's', label = f'{time0:.2f}', alpha=0.3)\n",
    "plt.grid()\n",
    "plt.ylabel('Magnitude')\n",
    "plt.xlabel('Time since begining of observation (Days)')\n",
    "plt.title('Check star')\n",
    "plt.legend()\n",
    "#plt.ylim(15.2, 14.7)\n"
   ]
  },
  {
   "cell_type": "code",
   "execution_count": 17,
   "id": "9d78f9e7-d00d-4905-b376-d9e7a1dbf56f",
   "metadata": {},
   "outputs": [],
   "source": [
    "from stellarphot.io import AAVSOExtendedFileFormat, AAVSOExtendedFileFormatColumns"
   ]
  },
  {
   "cell_type": "code",
   "execution_count": 18,
   "id": "ff96d781-6a47-46d3-a7e5-55df2f6db574",
   "metadata": {},
   "outputs": [],
   "source": [
    "aef = AAVSOExtendedFileFormat(\"WTAA\")\n",
    "aef_cols = AAVSOExtendedFileFormatColumns"
   ]
  },
  {
   "cell_type": "code",
   "execution_count": 19,
   "id": "9643f70d-937b-4a3c-870f-9b9fe9f2f548",
   "metadata": {},
   "outputs": [],
   "source": [
    "aef.filter = \"SR\"\n",
    "aef.chart = \"dhfakfhdajf\"\n",
    "aef.ensemble = True\n",
    "aef.starid = \"UCAC4 ....\"\n",
    "aef.kname = \"000-BPQ-388\"\n",
    "\n"
   ]
  },
  {
   "cell_type": "code",
   "execution_count": 20,
   "id": "37cf4c04-7e3b-4998-a0b3-e7bc619b4044",
   "metadata": {},
   "outputs": [],
   "source": [
    "table['date-obs-jd'] = Time(table['date-obs'], scale='utc').jd"
   ]
  },
  {
   "cell_type": "code",
   "execution_count": 21,
   "id": "a1e2c105-679f-44b8-9eda-cb6fdf73a7bf",
   "metadata": {},
   "outputs": [],
   "source": [
    "aef.set_data_columns(table, \n",
    "                     {\"airmass\": aef_cols.AIRMASS, \n",
    "                      \"mag\": aef_cols.VARIABLE_MAG, \n",
    "                      \"err\": aef_cols.VARIABLE_MAG_ERROR, \n",
    "                      \"date-obs-jd\": aef_cols.JD})"
   ]
  },
  {
   "cell_type": "code",
   "execution_count": 22,
   "id": "e68de8c4-c9b7-4efa-b112-51af717d1f16",
   "metadata": {},
   "outputs": [],
   "source": [
    "aef.set_data_columns(table_k,\n",
    "                     {\"mag\": aef_cols.CHECK_STAR_MAG}) "
   ]
  },
  {
   "cell_type": "code",
   "execution_count": 31,
   "id": "a4184700-add6-4340-bba7-4dfcfed147bf",
   "metadata": {},
   "outputs": [
    {
     "data": {
      "text/html": [
       "<div><i>Table length=177</i>\n",
       "<table id=\"table4515867824\" class=\"table-striped table-bordered table-condensed\">\n",
       "<thead><tr><th>STARID</th><th>DATE</th><th>MAGNITUDE</th><th>MAGERR</th><th>FILTER</th><th>TRANS</th><th>MTYPE</th><th>CNAME</th><th>CMAG</th><th>KNAME</th><th>KMAG</th><th>AIRMASS</th><th>GROUP</th><th>CHART</th><th>NOTES</th></tr></thead>\n",
       "<thead><tr><th>str10</th><th>float64</th><th>float64</th><th>float64</th><th>str2</th><th>str2</th><th>str3</th><th>str8</th><th>str2</th><th>str11</th><th>float64</th><th>float64</th><th>str2</th><th>str11</th><th>str7</th></tr></thead>\n",
       "<tr><td>UCAC4 ....</td><td>2460125.7319625</td><td>14.426393650722513</td><td>0.21048202518444192</td><td>SR</td><td>NO</td><td>STD</td><td>ENSEMBLE</td><td>na</td><td>000-BPQ-388</td><td>13.721044308521517</td><td>1.127</td><td>na</td><td>dhfakfhdajf</td><td>Testing</td></tr>\n",
       "<tr><td>UCAC4 ....</td><td>2460125.733462604</td><td>14.326757938031916</td><td>0.2369040832079295</td><td>SR</td><td>NO</td><td>STD</td><td>ENSEMBLE</td><td>na</td><td>000-BPQ-388</td><td>13.725432854095732</td><td>1.125</td><td>na</td><td>dhfakfhdajf</td><td>Testing</td></tr>\n",
       "<tr><td>UCAC4 ....</td><td>2460125.7349589006</td><td>14.249253558443701</td><td>0.15794226892649824</td><td>SR</td><td>NO</td><td>STD</td><td>ENSEMBLE</td><td>na</td><td>000-BPQ-388</td><td>13.77585311675374</td><td>1.123</td><td>na</td><td>dhfakfhdajf</td><td>Testing</td></tr>\n",
       "<tr><td>UCAC4 ....</td><td>2460125.736519201</td><td>14.254429925640814</td><td>0.2410264405242706</td><td>SR</td><td>NO</td><td>STD</td><td>ENSEMBLE</td><td>na</td><td>000-BPQ-388</td><td>13.690738738817632</td><td>1.12</td><td>na</td><td>dhfakfhdajf</td><td>Testing</td></tr>\n",
       "<tr><td>UCAC4 ....</td><td>2460125.7379466435</td><td>14.445630080629297</td><td>0.23623099011529708</td><td>SR</td><td>NO</td><td>STD</td><td>ENSEMBLE</td><td>na</td><td>000-BPQ-388</td><td>13.738770881710632</td><td>1.119</td><td>na</td><td>dhfakfhdajf</td><td>Testing</td></tr>\n",
       "<tr><td>UCAC4 ....</td><td>2460125.739446632</td><td>14.269249034504444</td><td>0.35127847623226127</td><td>SR</td><td>NO</td><td>STD</td><td>ENSEMBLE</td><td>na</td><td>000-BPQ-388</td><td>13.78716609453941</td><td>1.117</td><td>na</td><td>dhfakfhdajf</td><td>Testing</td></tr>\n",
       "<tr><td>...</td><td>...</td><td>...</td><td>...</td><td>...</td><td>...</td><td>...</td><td>...</td><td>...</td><td>...</td><td>...</td><td>...</td><td>...</td><td>...</td><td>...</td></tr>\n",
       "<tr><td>UCAC4 ....</td><td>2460156.670947917</td><td>14.468251607410204</td><td>0.2494323124549899</td><td>SR</td><td>NO</td><td>STD</td><td>ENSEMBLE</td><td>na</td><td>000-BPQ-388</td><td>13.704287675449635</td><td>1.101</td><td>na</td><td>dhfakfhdajf</td><td>Testing</td></tr>\n",
       "<tr><td>UCAC4 ....</td><td>2460156.67447441</td><td>14.454406713366854</td><td>0.22590605729420712</td><td>SR</td><td>NO</td><td>STD</td><td>ENSEMBLE</td><td>na</td><td>000-BPQ-388</td><td>13.660903794283971</td><td>1.098</td><td>na</td><td>dhfakfhdajf</td><td>Testing</td></tr>\n",
       "<tr><td>UCAC4 ....</td><td>2460156.677987604</td><td>14.47325519140857</td><td>0.1768009992377727</td><td>SR</td><td>NO</td><td>STD</td><td>ENSEMBLE</td><td>na</td><td>000-BPQ-388</td><td>13.690383028851464</td><td>1.096</td><td>na</td><td>dhfakfhdajf</td><td>Testing</td></tr>\n",
       "<tr><td>UCAC4 ....</td><td>2460156.6815234837</td><td>14.498076499250486</td><td>0.16073150497168323</td><td>SR</td><td>NO</td><td>STD</td><td>ENSEMBLE</td><td>na</td><td>000-BPQ-388</td><td>13.731072388069322</td><td>1.095</td><td>na</td><td>dhfakfhdajf</td><td>Testing</td></tr>\n",
       "<tr><td>UCAC4 ....</td><td>2460156.6850663195</td><td>14.570629125680254</td><td>0.177378882098725</td><td>SR</td><td>NO</td><td>STD</td><td>ENSEMBLE</td><td>na</td><td>000-BPQ-388</td><td>13.814185185627037</td><td>1.094</td><td>na</td><td>dhfakfhdajf</td><td>Testing</td></tr>\n",
       "<tr><td>UCAC4 ....</td><td>2460156.688581713</td><td>14.44612886202416</td><td>0.16513918611633857</td><td>SR</td><td>NO</td><td>STD</td><td>ENSEMBLE</td><td>na</td><td>000-BPQ-388</td><td>13.739812844457086</td><td>1.093</td><td>na</td><td>dhfakfhdajf</td><td>Testing</td></tr>\n",
       "<tr><td>UCAC4 ....</td><td>2460156.6921090162</td><td>14.519327382416918</td><td>0.26694356758806437</td><td>SR</td><td>NO</td><td>STD</td><td>ENSEMBLE</td><td>na</td><td>000-BPQ-388</td><td>13.683348391573926</td><td>1.092</td><td>na</td><td>dhfakfhdajf</td><td>Testing</td></tr>\n",
       "</table></div>"
      ],
      "text/plain": [
       "<Table length=177>\n",
       "  STARID          DATE            MAGNITUDE      ... GROUP    CHART     NOTES \n",
       "  str10         float64            float64       ...  str2    str11      str7 \n",
       "---------- ------------------ ------------------ ... ----- ----------- -------\n",
       "UCAC4 ....    2460125.7319625 14.426393650722513 ...    na dhfakfhdajf Testing\n",
       "UCAC4 ....  2460125.733462604 14.326757938031916 ...    na dhfakfhdajf Testing\n",
       "UCAC4 .... 2460125.7349589006 14.249253558443701 ...    na dhfakfhdajf Testing\n",
       "UCAC4 ....  2460125.736519201 14.254429925640814 ...    na dhfakfhdajf Testing\n",
       "UCAC4 .... 2460125.7379466435 14.445630080629297 ...    na dhfakfhdajf Testing\n",
       "UCAC4 ....  2460125.739446632 14.269249034504444 ...    na dhfakfhdajf Testing\n",
       "       ...                ...                ... ...   ...         ...     ...\n",
       "UCAC4 ....  2460156.670947917 14.468251607410204 ...    na dhfakfhdajf Testing\n",
       "UCAC4 ....   2460156.67447441 14.454406713366854 ...    na dhfakfhdajf Testing\n",
       "UCAC4 ....  2460156.677987604  14.47325519140857 ...    na dhfakfhdajf Testing\n",
       "UCAC4 .... 2460156.6815234837 14.498076499250486 ...    na dhfakfhdajf Testing\n",
       "UCAC4 .... 2460156.6850663195 14.570629125680254 ...    na dhfakfhdajf Testing\n",
       "UCAC4 ....  2460156.688581713  14.44612886202416 ...    na dhfakfhdajf Testing\n",
       "UCAC4 .... 2460156.6921090162 14.519327382416918 ...    na dhfakfhdajf Testing"
      ]
     },
     "execution_count": 31,
     "metadata": {},
     "output_type": "execute_result"
    }
   ],
   "source": [
    "aef.ensemble = True\n",
    "aef.notes = \"Testing\"\n",
    "wrong_table = aef.to_table()\n",
    "wrong_table"
   ]
  },
  {
   "cell_type": "code",
   "execution_count": 26,
   "id": "3b6adc16-e540-4e5a-bd78-abc02cb48475",
   "metadata": {},
   "outputs": [],
   "source": [
    "aef.write('UCAC4-woohoo.csv')"
   ]
  },
  {
   "cell_type": "code",
   "execution_count": null,
   "id": "29140da4-3f59-4a3e-b463-606c334632ba",
   "metadata": {},
   "outputs": [],
   "source": []
  }
 ],
 "metadata": {
  "kernelspec": {
   "display_name": "Python 3 (ipykernel)",
   "language": "python",
   "name": "python3"
  },
  "language_info": {
   "codemirror_mode": {
    "name": "ipython",
    "version": 3
   },
   "file_extension": ".py",
   "mimetype": "text/x-python",
   "name": "python",
   "nbconvert_exporter": "python",
   "pygments_lexer": "ipython3",
   "version": "3.10.6"
  }
 },
 "nbformat": 4,
 "nbformat_minor": 5
}
