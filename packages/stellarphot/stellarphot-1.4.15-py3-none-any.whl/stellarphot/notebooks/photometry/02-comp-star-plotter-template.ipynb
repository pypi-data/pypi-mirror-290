{
 "cells": [
  {
   "cell_type": "markdown",
   "metadata": {},
   "source": [
    "# Comparison star generator"
   ]
  },
  {
   "cell_type": "code",
   "execution_count": null,
   "metadata": {},
   "outputs": [],
   "source": [
    "import re\n",
    "\n",
    "import requests\n",
    "\n",
    "from astropy.coordinates import SkyCoord\n",
    "\n",
    "from stellarphot.visualization.comparison_functions import ComparisonViewer\n"
   ]
  },
  {
   "cell_type": "markdown",
   "metadata": {},
   "source": [
    "## Change the settings in this cell as needed"
   ]
  },
  {
   "cell_type": "code",
   "execution_count": null,
   "metadata": {},
   "outputs": [],
   "source": [
    "bright_mag_limit = 9\n",
    "dim_mag_limit = 16\n",
    "Cmag = 10\n",
    "\n",
    "# 👉 File to save apertures in\n",
    "aperture_output_file = 'aperture_locations.csv'\n",
    "\n",
    "# 👉 File to exoplanet info in\n",
    "tess_info_output_file = 'tess-info.pickle'"
   ]
  },
  {
   "cell_type": "code",
   "execution_count": null,
   "metadata": {},
   "outputs": [],
   "source": [
    "comp_viewer = ComparisonViewer(\n",
    "                           target_mag=Cmag,\n",
    "                           bright_mag_limit=bright_mag_limit,\n",
    "                           dim_mag_limit=dim_mag_limit,\n",
    "                           targets_from_file=None,\n",
    "                           aperture_output_file=aperture_output_file,\n",
    "                          )\n",
    "comp_viewer.box"
   ]
  },
  {
   "cell_type": "code",
   "execution_count": null,
   "metadata": {},
   "outputs": [],
   "source": [
    "import pickle\n",
    "\n",
    "with open(tess_info_output_file, 'wb') as f:\n",
    "    pickle.dump(comp_viewer.toi_info, f)\n",
    "    "
   ]
  },
  {
   "cell_type": "code",
   "execution_count": null,
   "metadata": {},
   "outputs": [],
   "source": [
    "comp_viewer.toi_info.tic_id"
   ]
  },
  {
   "cell_type": "code",
   "execution_count": null,
   "metadata": {},
   "outputs": [],
   "source": []
  }
 ],
 "metadata": {
  "kernelspec": {
   "display_name": "Python 3 (ipykernel)",
   "language": "python",
   "name": "python3"
  },
  "language_info": {
   "codemirror_mode": {
    "name": "ipython",
    "version": 3
   },
   "file_extension": ".py",
   "mimetype": "text/x-python",
   "name": "python",
   "nbconvert_exporter": "python",
   "pygments_lexer": "ipython3",
   "version": "3.10.6"
  }
 },
 "nbformat": 4,
 "nbformat_minor": 4
}
