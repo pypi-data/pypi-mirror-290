{
 "cells": [
  {
   "cell_type": "code",
   "execution_count": 1,
   "id": "a59075c1-b880-4b4f-a403-8c5ddd743700",
   "metadata": {},
   "outputs": [
    {
     "name": "stdout",
     "output_type": "stream",
     "text": [
      "\n",
      "ipyautoui is used to quickly and efficiently create ipywidgets from pydantic schema.\n",
      "\n",
      "The module has the capability to take a pydantic schema and create a ipywidget from that schema.\n",
      "The main features being that you can produce a widget from many field types and also save the\n",
      "data as a JSON easily.\n",
      "\n",
      "ipyautoui is designed to be extensible. \n",
      "all widgets, as a minimum must satisfy the following criteria: \n",
      "- be initiated by the following keyword arguments (in addition to others as required):\n",
      "    - schema\n",
      "    - value\n",
      "- the schema must be a valid jsonschema and where possible use the terms defined in jsonschema\n",
      "\n",
      "Example::\n",
      "\n",
      "    from ipyautoui.constants import DISPLAY_AUTOUI_SCHEMA_EXAMPLE\n",
      "    DISPLAY_AUTOUI_SCHEMA_EXAMPLE()\n",
      "    \n",
      "\n"
     ]
    }
   ],
   "source": [
    "from ipyautoui import AutoUi\n",
    "import json\n",
    "from pydantic import BaseModel, Field\n",
    "from ipyautoui.constants import DIR_MODULE\n",
    "from ipyautoui._utils import display_pydantic_json\n",
    "import ipyautoui\n",
    "\n",
    "print(ipyautoui.__doc__)\n"
   ]
  },
  {
   "cell_type": "code",
   "execution_count": 2,
   "id": "90de384a-0397-433b-a197-e3053af5c72b",
   "metadata": {},
   "outputs": [
    {
     "data": {
      "application/vnd.jupyter.widget-view+json": {
       "model_id": "5a3d12f31d7e4d96922ec2687840064e",
       "version_major": 2,
       "version_minor": 0
      },
      "text/plain": [
       "AutoUi(children=(VBox(children=(HBox(), HBox(children=(ToggleButton(value=False, icon='code', layout=Layout(di…"
      ]
     },
     "metadata": {},
     "output_type": "display_data"
    }
   ],
   "source": [
    "# create a pydantic model (or a json-schema) defining the fields of interest\n",
    "class AutoUiExample(BaseModel):\n",
    "    text: str = Field(default=\"Test\", description=\"This description is very important\")\n",
    "\n",
    "\n",
    "data = {\"text\": \"this is a value\"}\n",
    "ui = AutoUi(schema=AutoUiExample, value=data)\n",
    "display(ui)"
   ]
  },
  {
   "cell_type": "code",
   "execution_count": 3,
   "id": "2dd8501a-4d7b-46a3-8e6d-8f7fe923beb2",
   "metadata": {},
   "outputs": [
    {
     "name": "stdout",
     "output_type": "stream",
     "text": [
      "Save Location is: test.simpleaui.json\n"
     ]
    }
   ],
   "source": [
    "import pathlib\n",
    "\n",
    "save_path = pathlib.Path(\".\") / \"test.simpleaui.json\"\n",
    "print(f\"Save Location is: {save_path}\")"
   ]
  },
  {
   "cell_type": "code",
   "execution_count": 4,
   "id": "077433fd-6e76-4c75-9bb7-8844df9009bf",
   "metadata": {},
   "outputs": [
    {
     "data": {
      "application/vnd.jupyter.widget-view+json": {
       "model_id": "39fed4a340634d96a6bbed19b984f382",
       "version_major": 2,
       "version_minor": 0
      },
      "text/plain": [
       "AutoRenderer(children=(VBox(children=(HBox(children=(SaveButtonBar(children=(ToggleButton(value=False, button_…"
      ]
     },
     "metadata": {},
     "output_type": "display_data"
    }
   ],
   "source": [
    "ui.file(path=save_path)\n",
    "AutoUiRenderer = AutoUi.create_autoui_renderer(\n",
    "    schema=AutoUiExample, fn_onsave=lambda: print(\"done\")\n",
    ")\n",
    "ui_simple = AutoUiRenderer(path=save_path)\n",
    "display(ui_simple)"
   ]
  },
  {
   "cell_type": "code",
   "execution_count": 5,
   "id": "fb288a18-0740-4eb5-a229-6187329806ca",
   "metadata": {},
   "outputs": [
    {
     "data": {
      "application/vnd.jupyter.widget-view+json": {
       "model_id": "83d20660524a4f1fa60f29c16b880159",
       "version_major": 2,
       "version_minor": 0
      },
      "text/plain": [
       "Tab(children=(AutoRenderer(children=(VBox(children=(HBox(children=(SaveButtonBar(children=(ToggleButton(value=…"
      ]
     },
     "metadata": {},
     "output_type": "display_data"
    }
   ],
   "source": [
    "\n",
    "from ipyautoui.test_schema import TestAutoLogic  # the schema shown in the file above\n",
    "import ipywidgets as widgets\n",
    "from ipyautoui._utils import display_python_module\n",
    "from IPython.display import Markdown\n",
    "\n",
    "DIR_EXAMPLE = pathlib.Path(\".\")\n",
    "\n",
    "save_path = DIR_EXAMPLE / \"test.complexaui.json\"\n",
    "TestAutoLogic().file(path=save_path)\n",
    "\n",
    "AutoUiRenderer = AutoUi.create_autoui_renderer(\n",
    "    schema=TestAutoLogic, fn_onsave=lambda: print(\"this isnt working\")\n",
    ")\n",
    "ui_complex = AutoUiRenderer(path=save_path)\n",
    "ui_complex.file(path=save_path)\n",
    "\n",
    "\n",
    "s_py = display_python_module(ipyautoui.test_schema, show=False, return_str=True)\n",
    "out_py = widgets.Output()\n",
    "with out_py:\n",
    "    display(Markdown(s_py))\n",
    "\n",
    "s_sch = f\"\"\"\n",
    "```json\n",
    "{json.dumps(TestAutoLogic.schema(), indent=4)}\n",
    "```\n",
    "\"\"\"\n",
    "out_sch = widgets.Output()\n",
    "with out_sch:\n",
    "    display(Markdown(s_sch))\n",
    "\n",
    "\n",
    "s_js = f\"\"\"\n",
    "```json\n",
    "{json.dumps(ui_complex.value, indent=4)}\n",
    "```\n",
    "\"\"\"\n",
    "out_json = widgets.Output()\n",
    "with out_json:\n",
    "    display(Markdown(s_js))\n",
    "\n",
    "tab = widgets.Tab([ui_complex, out_py, out_sch, out_json])\n",
    "titles = {0: \"AutoUi\", 1: \"pydantic-model\", 2: \"jsonschema\", 3: \"autoui value\"}\n",
    "tab._titles = titles\n",
    "tab"
   ]
  },
  {
   "cell_type": "code",
   "execution_count": null,
   "id": "3a109c71-a9e3-415f-916c-1a6e7bbd82a9",
   "metadata": {},
   "outputs": [],
   "source": []
  }
 ],
 "metadata": {
  "kernelspec": {
   "display_name": "Python 3 (ipykernel)",
   "language": "python",
   "name": "python3"
  },
  "language_info": {
   "codemirror_mode": {
    "name": "ipython",
    "version": 3
   },
   "file_extension": ".py",
   "mimetype": "text/x-python",
   "name": "python",
   "nbconvert_exporter": "python",
   "pygments_lexer": "ipython3",
   "version": "3.10.5"
  }
 },
 "nbformat": 4,
 "nbformat_minor": 5
}
