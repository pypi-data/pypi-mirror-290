{
 "cells": [
  {
   "cell_type": "code",
   "execution_count": null,
   "metadata": {},
   "outputs": [],
   "source": [
    "from astropy.coordinates import SkyCoord\n",
    "import astropy.units as u\n",
    "from astropy.table import Table\n",
    "from astropy.time import Time\n",
    "\n",
    "import ipywidgets as ipw\n",
    "\n",
    "import matplotlib.pyplot as plt\n",
    "\n",
    "import numpy as np\n",
    "\n",
    "from stellarphot.differential_photometry.aij_rel_fluxes import *\n",
    "from stellarphot.visualization.fits_opener import FitsOpener"
   ]
  },
  {
   "cell_type": "markdown",
   "metadata": {},
   "source": [
    "### Choose photometry and aperture files"
   ]
  },
  {
   "cell_type": "code",
   "execution_count": null,
   "metadata": {},
   "outputs": [],
   "source": [
    "fo = FitsOpener(title=\"Select your photometry file\", filter_pattern=[\"*.csv\"])\n",
    "fo2 = FitsOpener(title=\"Select your aperture file\", filter_pattern=[\"*.csv\", \"*.fits\"])"
   ]
  },
  {
   "cell_type": "code",
   "execution_count": null,
   "metadata": {},
   "outputs": [],
   "source": [
    "box = ipw.VBox()\n",
    "box.children = [fo.file_chooser, fo2.file_chooser]\n",
    "box"
   ]
  },
  {
   "cell_type": "markdown",
   "metadata": {},
   "source": [
    "### Run the remaining cells"
   ]
  },
  {
   "cell_type": "code",
   "execution_count": null,
   "metadata": {},
   "outputs": [],
   "source": [
    "aperture_file = fo2.path\n",
    "photometry_file = fo.path\n",
    "\n",
    "output_file = photometry_file.stem + \"-relative-flux\" + photometry_file.suffix"
   ]
  },
  {
   "cell_type": "code",
   "execution_count": null,
   "metadata": {},
   "outputs": [],
   "source": [
    "photometry = Table.read(photometry_file)\n",
    "del_rows = photometry['file'] == 'image_file.fits'\n",
    "photometry = photometry[~del_rows]"
   ]
  },
  {
   "cell_type": "code",
   "execution_count": null,
   "metadata": {},
   "outputs": [],
   "source": [
    "comp_table = Table.read(aperture_file)"
   ]
  },
  {
   "cell_type": "code",
   "execution_count": null,
   "metadata": {},
   "outputs": [],
   "source": [
    "comp_table['coord'] = SkyCoord(ra=[c.split(',')[0] for c in comp_table['coord']],\n",
    "                            dec=[c.split(',')[1] for c in comp_table['coord']],\n",
    "                            unit='degree',\n",
    "                            frame='icrs')"
   ]
  },
  {
   "cell_type": "code",
   "execution_count": null,
   "metadata": {},
   "outputs": [],
   "source": [
    "comp_bool = comp_table['marker name'] == ['APASS comparison']\n",
    "only_comp_stars = comp_table[comp_bool]\n",
    "coords = only_comp_stars['coord']"
   ]
  },
  {
   "cell_type": "code",
   "execution_count": null,
   "metadata": {},
   "outputs": [],
   "source": [
    "ra = [i.ra for i in coords]\n",
    "dec = [i.dec for i in coords]\n",
    "comp_coords = Table()\n",
    "comp_coords['RA'] = ra * u.degree\n",
    "comp_coords['Dec'] = dec * u.degree"
   ]
  },
  {
   "cell_type": "markdown",
   "metadata": {},
   "source": [
    "### Calculate flux"
   ]
  },
  {
   "cell_type": "code",
   "execution_count": null,
   "metadata": {},
   "outputs": [],
   "source": [
    "# calculate flux\n",
    "flux_table = calc_aij_relative_flux(photometry, comp_coords)\n"
   ]
  },
  {
   "cell_type": "code",
   "execution_count": null,
   "metadata": {},
   "outputs": [],
   "source": [
    "flux_table.write(output_file, overwrite=True)"
   ]
  },
  {
   "cell_type": "code",
   "execution_count": null,
   "metadata": {},
   "outputs": [],
   "source": []
  }
 ],
 "metadata": {
  "kernelspec": {
   "display_name": "Python 3 (ipykernel)",
   "language": "python",
   "name": "python3"
  },
  "language_info": {
   "codemirror_mode": {
    "name": "ipython",
    "version": 3
   },
   "file_extension": ".py",
   "mimetype": "text/x-python",
   "name": "python",
   "nbconvert_exporter": "python",
   "pygments_lexer": "ipython3",
   "version": "3.10.6"
  }
 },
 "nbformat": 4,
 "nbformat_minor": 4
}
