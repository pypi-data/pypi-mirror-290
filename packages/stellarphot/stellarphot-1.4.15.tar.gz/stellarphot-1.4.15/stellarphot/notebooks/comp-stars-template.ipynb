{
 "cells": [
  {
   "attachments": {},
   "cell_type": "markdown",
   "metadata": {},
   "source": [
    "# Comparison star generator"
   ]
  },
  {
   "attachments": {},
   "cell_type": "markdown",
   "metadata": {},
   "source": [
    "## For information about your TESS target\n",
    "\n",
    "1. Go to https://exofop.ipac.caltech.edu/tess/\n",
    "2. Enter the TIC number in the TIC search box\n",
    "2. Use the RA/Dec for the `ra` and `dec` variables in the cell below.\n",
    "3. Use the \"TESS mag\" for the variable `Cmag` in the cell below.\n",
    "4. Use the \"depth\" for the variable `depth` in the cell below."
   ]
  },
  {
   "cell_type": "code",
   "execution_count": null,
   "metadata": {},
   "outputs": [],
   "source": [
    "import functools\n",
    "import re\n",
    "from pathlib import Path\n",
    "import requests\n",
    "\n",
    "import numpy as np\n",
    "\n",
    "from astropy import units as u\n",
    "from astropy.table import Table\n",
    "from astropy.coordinates import SkyCoord\n",
    "\n",
    "from stellarphot.visualization.comparison_functions import (\n",
    "    read_file, set_up, crossmatch_APASS2VSX, mag_scale, in_field, wrap, make_markers,\n",
    "    viewer\n",
    ")\n",
    "from stellarphot.visualization.seeing_profile_functions import set_keybindings"
   ]
  },
  {
   "attachments": {},
   "cell_type": "markdown",
   "metadata": {},
   "source": [
    "## Change the settings in this cell as needed"
   ]
  },
  {
   "cell_type": "code",
   "execution_count": null,
   "metadata": {},
   "outputs": [],
   "source": [
    "directory_with_images = '.'\n",
    "\n",
    "#This could be any image from roughly the middle of the sequence.\n",
    "sample_image_for_finding_stars = 'TIC_470127886.01-S001-R001-C001-rp.fit'\n",
    "\n",
    "# This name should be one of the \"aliases\" for the object if it is a TIC object\n",
    "object_of_interest = 'TYC 4612-401-1'\n",
    "\n",
    "# Get these variable from ExoFOP-TESS or Exoplanet ETD\n",
    "ra_object = '22:04:28.27'\n",
    "dec_object = '81:33:57.42'\n",
    "\n",
    "Cmag = 10.76 # Use TESS magnitude for this\n",
    "depth = 13280 / 1000 # Depth should be in parts per thousand, ExoFOP gives it in ppm.\n",
    "\n",
    "aperture_output_file = 'aperture_locations.fits'\n",
    "\n",
    "TESS_target = False  # change to False (capitalized) if this is NOT a TESS object\n",
    "\n",
    "if TESS_target:\n",
    "    server = \"https://www.astro.louisville.edu\"\n",
    "    gaia_aperture_url = server + f\"/cgi-bin/gaia_to_aij/upload_request.cgi?ra={ra_object}&dec={dec_object}&mag={Cmag}&depth={depth}\"\n",
    "\n",
    "    result = requests.get(gaia_aperture_url)\n",
    "    links = re.search('href=\"(.+)\"', result.text.replace('\\n', ''), )\n",
    "\n",
    "    target_file_contents = requests.get(server + links[1])\n",
    "    with open('gaia_stars.radec', 'wt') as f:\n",
    "        f.write(target_file_contents.text)\n",
    "    targets_from_file = read_file('gaia_stars.radec')\n",
    "else:\n",
    "    targets_from_file = []"
   ]
  },
  {
   "cell_type": "code",
   "execution_count": null,
   "metadata": {},
   "outputs": [],
   "source": [
    "coordinate = SkyCoord(ra=ra_object, dec=dec_object, unit=(\"hour\", \"degree\"))"
   ]
  },
  {
   "cell_type": "code",
   "execution_count": null,
   "metadata": {},
   "outputs": [],
   "source": [
    "ccd, vsx = \\\n",
    "    set_up(sample_image_for_finding_stars,\n",
    "           directory_with_images=directory_with_images\n",
    "           )\n",
    "\n",
    "apass, vsx_apass_angle, targets_apass_angle = crossmatch_APASS2VSX(ccd, targets_from_file, vsx)\n",
    "\n",
    "apass_good_coord, good_stars = mag_scale(Cmag, apass, vsx_apass_angle,\n",
    "                                         targets_apass_angle,\n",
    "                                         brighter_dmag=3,\n",
    "                                         dimmer_dmag=2)\n",
    "\n",
    "apass_comps = in_field(apass_good_coord, ccd, apass, good_stars)\n",
    "\n",
    "box, iw = viewer()\n",
    "\n",
    "make_markers(iw, ccd, targets_from_file, vsx, apass_comps,\n",
    "             name_or_coord=coordinate)\n",
    "\n",
    "box"
   ]
  },
  {
   "attachments": {},
   "cell_type": "markdown",
   "metadata": {},
   "source": [
    "### Get the table of marked stars."
   ]
  },
  {
   "cell_type": "code",
   "execution_count": null,
   "metadata": {},
   "outputs": [],
   "source": [
    "all_table = iw.get_markers(marker_name='all')\n",
    "elims = np.array([name.startswith('elim')\n",
    "                 for name in all_table['marker name']])\n",
    "elim_table = all_table[elims]\n",
    "comp_table = all_table[~elims]"
   ]
  },
  {
   "attachments": {},
   "cell_type": "markdown",
   "metadata": {},
   "source": [
    "### Remove any that are marked for elimination as comparisons."
   ]
  },
  {
   "cell_type": "code",
   "execution_count": null,
   "metadata": {},
   "outputs": [],
   "source": [
    "index, d2d, d3d = elim_table['coord'].match_to_catalog_sky(comp_table['coord'])\n",
    "comp_table.remove_rows(index)"
   ]
  },
  {
   "attachments": {},
   "cell_type": "markdown",
   "metadata": {},
   "source": [
    "### Sort the table"
   ]
  },
  {
   "cell_type": "code",
   "execution_count": null,
   "metadata": {},
   "outputs": [],
   "source": [
    "if targets_from_file:\n",
    "    target_coord = targets_from_file['coords'][0]\n",
    "else:\n",
    "    target_coord = SkyCoord(ra=ra_object, dec=dec_object, unit=(\"hour\", \"degree\"))\n",
    "\n",
    "# Calculate how far each is from target\n",
    "comp_table['separation'] = target_coord.separation(comp_table['coord'])\n",
    "\n",
    "# Add dummy column for sorting in the order we want\n",
    "comp_table['sort'] = np.zeros(len(comp_table))\n",
    "\n",
    "# Set sort order\n",
    "apass_mark = comp_table['marker name'] == 'APASS comparison'\n",
    "vsx_mark = comp_table['marker name'] == 'VSX'\n",
    "tess_mark = ((comp_table['marker name'] == 'TESS Targets') | \n",
    "        (comp_table['separation'] < 0.3 * u.arcsec))\n",
    "\n",
    "\n",
    "comp_table['sort'][apass_mark] = 2\n",
    "comp_table['sort'][vsx_mark] = 1\n",
    "comp_table['sort'][tess_mark] = 0\n",
    "\n",
    "# Ensure the target is always first\n",
    "\n",
    "\n",
    "# Sort the table\n",
    "comp_table.sort(['sort', 'separation'])\n",
    "\n",
    "# Assign the IDs\n",
    "comp_table['id'] = range(1, len(comp_table) + 1)"
   ]
  },
  {
   "attachments": {},
   "cell_type": "markdown",
   "metadata": {},
   "source": [
    "### Display information on variables"
   ]
  },
  {
   "cell_type": "code",
   "execution_count": null,
   "metadata": {},
   "outputs": [],
   "source": [
    "new_vsx_mark = comp_table['marker name'] == 'VSX'\n",
    "idx, _, _ = comp_table['coord'][new_vsx_mark].match_to_catalog_sky(vsx['coords'])\n",
    "for our_name, vsx_name in zip(comp_table['id'][new_vsx_mark], vsx['Name'][idx]):\n",
    "    print(f'Our id number: {our_name}, VSX name: {vsx_name}')"
   ]
  },
  {
   "attachments": {},
   "cell_type": "markdown",
   "metadata": {},
   "source": [
    "### Label the stars with numbers"
   ]
  },
  {
   "cell_type": "code",
   "execution_count": null,
   "metadata": {},
   "outputs": [],
   "source": [
    "for star in comp_table:\n",
    "    star_id = star['id']\n",
    "    if star['marker name'] == 'TESS Targets':\n",
    "        iw._marker = functools.partial(iw.dc.Text, text=f'T{star_id}', fontsize=20, fontscale=False, color='green')\n",
    "        iw.add_markers(Table(data=[[star['x']+20], [star['y']-20]], names=['x', 'y']))\n",
    "\n",
    "    elif star['marker name'] == 'APASS comparison':\n",
    "        iw._marker = functools.partial(iw.dc.Text, text=f'C{star_id}', fontsize=20, fontscale=False, color='red')\n",
    "        iw.add_markers(Table(data=[[star['x']+20], [star['y']-20]], names=['x', 'y']))\n",
    "\n",
    "    elif star['marker name'] == 'VSX':\n",
    "        iw._marker = functools.partial(iw.dc.Text, text=f'V{star_id}', fontsize=20, fontscale=False, color='blue')\n",
    "        iw.add_markers(Table(data=[[star['x']+20], [star['y']-20]], names=['x', 'y']))\n",
    "    else:\n",
    "        print(f\"Unrecognized marker name: {star['marker name']}\")\n",
    "        "
   ]
  },
  {
   "cell_type": "code",
   "execution_count": null,
   "metadata": {},
   "outputs": [],
   "source": [
    "comp_table.write(aperture_output_file, overwrite=True)"
   ]
  },
  {
   "attachments": {},
   "cell_type": "markdown",
   "metadata": {},
   "source": [
    "### Add 2.5 arcmin circle (do this after writing comparison table!)\n",
    "\n",
    "Otherwise the comparison table will contain an extra entry for this circle."
   ]
  },
  {
   "cell_type": "code",
   "execution_count": null,
   "metadata": {},
   "outputs": [],
   "source": [
    "if targets_from_file:\n",
    "    target = targets_from_file[0]\n",
    "    iw.marker = {'color': 'yellow', 'radius': 268, 'type': 'circle'}\n",
    "    iw.add_markers(target, skycoord_colname='coords',\n",
    "                   use_skycoord=True, marker_name='target')"
   ]
  },
  {
   "cell_type": "code",
   "execution_count": null,
   "metadata": {},
   "outputs": [],
   "source": []
  }
 ],
 "metadata": {
  "kernelspec": {
   "display_name": "Python 3",
   "language": "python",
   "name": "python3"
  },
  "language_info": {
   "codemirror_mode": {
    "name": "ipython",
    "version": 3
   },
   "file_extension": ".py",
   "mimetype": "text/x-python",
   "name": "python",
   "nbconvert_exporter": "python",
   "pygments_lexer": "ipython3",
   "version": "3.8.3"
  }
 },
 "nbformat": 4,
 "nbformat_minor": 4
}
