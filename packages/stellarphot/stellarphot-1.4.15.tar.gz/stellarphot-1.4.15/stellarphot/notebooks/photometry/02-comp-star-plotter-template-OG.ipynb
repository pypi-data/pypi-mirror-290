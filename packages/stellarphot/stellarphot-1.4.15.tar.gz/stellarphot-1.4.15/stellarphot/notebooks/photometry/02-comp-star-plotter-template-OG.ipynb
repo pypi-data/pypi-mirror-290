{
 "cells": [
  {
   "cell_type": "markdown",
   "metadata": {},
   "source": [
    "# Comparison star generator"
   ]
  },
  {
   "cell_type": "markdown",
   "metadata": {},
   "source": [
    "## For information about your TESS target\n",
    "\n",
    "1. Go to https://exofop.ipac.caltech.edu/tess/\n",
    "2. Enter the TIC number in the TIC search box\n",
    "2. Use the RA/Dec for the `ra` and `dec` variables in the cell below.\n",
    "3. Use the \"TESS mag\" for the variable `Cmag` in the cell below.\n",
    "4. Use the \"depth\" for the variable `depth` in the cell below."
   ]
  },
  {
   "cell_type": "code",
   "execution_count": null,
   "metadata": {},
   "outputs": [],
   "source": [
    "import functools\n",
    "import re\n",
    "from pathlib import Path\n",
    "import requests\n",
    "\n",
    "import numpy as np\n",
    "\n",
    "from astropy import units as u\n",
    "from astropy.table import Table\n",
    "from astropy.coordinates import SkyCoord\n",
    "\n",
    "from stellarphot.visualization.comparison_functions import (\n",
    "    read_file, set_up, match, mag_scale, in_field, wrap, make_markers,\n",
    "    viewer\n",
    ")\n",
    "from stellarphot.visualization.seeing_profile_functions import set_keybindings"
   ]
  },
  {
   "cell_type": "markdown",
   "metadata": {},
   "source": [
    "## Change the settings in this cell as needed"
   ]
  },
  {
   "cell_type": "code",
   "execution_count": null,
   "metadata": {},
   "outputs": [],
   "source": [
    "directory_with_images = '..'\n",
    "\n",
    "# 👉 This could be any image from roughly the middle of the sequence.\n",
    "sample_image_for_finding_stars = 'TIC_237205154.01-S001-R013-C001-rp.fit'\n",
    "\n",
    "# 👉 You will be able to use this name later to pull out the data you want\n",
    "object_of_interest = 'TIC_237205154.01'\n",
    "\n",
    "# 👉 Get these variable from ExoFOP-TESS or Exoplanet ETD\n",
    " \n",
    "ra_object = '19:34:19.97'\n",
    "dec_object = '76:39:39.91'\n",
    "\n",
    "Cmag = 13.0024 # 👉 Use TESS magnitude from ExoFOP-TESSfor this\n",
    "depth = 16908.821 / 1000 # 👉 Depth should be in parts per thousand, ExoFOP gives it in ppm.\n",
    "\n",
    "bright_mag_limit = 9\n",
    "dim_mag_limit = 16\n",
    "\n",
    "# 👉 File to save apertures in\n",
    "aperture_output_file = 'aperture_locations.fits'\n",
    "\n",
    "TESS_target = True  # change to False (capitalized) if this is NOT a TESS object\n",
    "\n",
    "if TESS_target:\n",
    "    server = \"https://www.astro.louisville.edu\"\n",
    "    gaia_aperture_url = server + f\"/cgi-bin/gaia_to_aij/upload_request.cgi?ra={ra_object}&dec={dec_object}&mag={Cmag}&depth={depth}\"\n",
    "\n",
    "    result = requests.get(gaia_aperture_url)\n",
    "    links = re.search('href=\"(.+)\"', result.text.replace('\\n', ''), )\n",
    "\n",
    "    target_file_contents = requests.get(server + links[1])\n",
    "    with open('gaia_stars.radec', 'wt') as f:\n",
    "        f.write(target_file_contents.text)\n",
    "    targets_from_file = read_file('gaia_stars.radec')\n",
    "else:\n",
    "    targets_from_file = []"
   ]
  },
  {
   "cell_type": "code",
   "execution_count": null,
   "metadata": {},
   "outputs": [],
   "source": [
    "coordinate = SkyCoord(ra=ra_object, dec=dec_object, unit=(\"hour\", \"degree\"))"
   ]
  },
  {
   "cell_type": "code",
   "execution_count": null,
   "metadata": {},
   "outputs": [],
   "source": [
    "ccd, vsx = \\\n",
    "    set_up(sample_image_for_finding_stars,\n",
    "           directory_with_images=directory_with_images\n",
    "           )\n",
    "\n",
    "apass, vsx_apass_angle, targets_apass_angle = match(ccd, targets_from_file, vsx)\n",
    "\n",
    "apass_good_coord, good_stars = mag_scale(Cmag, apass, vsx_apass_angle,\n",
    "                                         targets_apass_angle,\n",
    "                                         brighter_dmag=Cmag - bright_mag_limit,\n",
    "                                         dimmer_dmag=dim_mag_limit - Cmag)\n",
    "\n",
    "apass_comps = in_field(apass_good_coord, ccd, apass, good_stars)\n",
    "\n",
    "box, iw = viewer()\n",
    "\n",
    "make_markers(iw, ccd, targets_from_file, vsx, apass_comps,\n",
    "             name_or_coord=coordinate)\n",
    "\n",
    "box"
   ]
  },
  {
   "cell_type": "markdown",
   "metadata": {},
   "source": [
    "### Get the table of marked stars."
   ]
  },
  {
   "cell_type": "code",
   "execution_count": null,
   "metadata": {},
   "outputs": [],
   "source": [
    "all_table = iw.get_markers(marker_name='all')\n",
    "elims = np.array([name.startswith('elim')\n",
    "                 for name in all_table['marker name']])\n",
    "elim_table = all_table[elims]\n",
    "comp_table = all_table[~elims]"
   ]
  },
  {
   "cell_type": "markdown",
   "metadata": {},
   "source": [
    "### Remove any that are marked for elimination as comparisons."
   ]
  },
  {
   "cell_type": "code",
   "execution_count": null,
   "metadata": {},
   "outputs": [],
   "source": [
    "index, d2d, d3d = elim_table['coord'].match_to_catalog_sky(comp_table['coord'])\n",
    "comp_table.remove_rows(index)"
   ]
  },
  {
   "cell_type": "markdown",
   "metadata": {},
   "source": [
    "### Sort the table"
   ]
  },
  {
   "cell_type": "code",
   "execution_count": null,
   "metadata": {},
   "outputs": [],
   "source": [
    "if targets_from_file:\n",
    "    target_coord = targets_from_file['coords'][0]\n",
    "else:\n",
    "    target_coord = SkyCoord(ra=ra_object, dec=dec_object, unit=(\"hour\", \"degree\"))\n",
    "\n",
    "# Calculate how far each is from target\n",
    "comp_table['separation'] = target_coord.separation(comp_table['coord'])\n",
    "\n",
    "# Add dummy column for sorting in the order we want\n",
    "comp_table['sort'] = np.zeros(len(comp_table))\n",
    "\n",
    "# Set sort order\n",
    "apass_mark = comp_table['marker name'] == 'APASS comparison'\n",
    "vsx_mark = comp_table['marker name'] == 'VSX'\n",
    "tess_mark = ((comp_table['marker name'] == 'TESS Targets') | \n",
    "        (comp_table['separation'] < 0.3 * u.arcsec))\n",
    "\n",
    "\n",
    "comp_table['sort'][apass_mark] = 2\n",
    "comp_table['sort'][vsx_mark] = 1\n",
    "comp_table['sort'][tess_mark] = 0\n",
    "\n",
    "# Ensure the target is always first\n",
    "\n",
    "\n",
    "# Sort the table\n",
    "comp_table.sort(['sort', 'separation'])\n",
    "\n",
    "# Assign the IDs\n",
    "comp_table['id'] = range(1, len(comp_table) + 1)"
   ]
  },
  {
   "cell_type": "markdown",
   "metadata": {},
   "source": [
    "### Display information on variables"
   ]
  },
  {
   "cell_type": "code",
   "execution_count": null,
   "metadata": {},
   "outputs": [],
   "source": [
    "new_vsx_mark = comp_table['marker name'] == 'VSX'\n",
    "vsx_dict = {}\n",
    "idx, _, _ = comp_table['coord'][new_vsx_mark].match_to_catalog_sky(vsx['coords'])\n",
    "for our_name, vsx_name in zip(comp_table['id'][new_vsx_mark], vsx['Name'][idx]):\n",
    "    print(f'Our id number: {our_name}, VSX name: {vsx_name}')\n",
    "    vsx_dict[f'V{our_name}'] = vsx_name"
   ]
  },
  {
   "cell_type": "markdown",
   "metadata": {},
   "source": [
    "### Label the stars with numbers"
   ]
  },
  {
   "cell_type": "code",
   "execution_count": null,
   "metadata": {},
   "outputs": [],
   "source": [
    "plot_names = []\n",
    "for star in comp_table:\n",
    "    star_id = star['id']\n",
    "    if star['marker name'] == 'TESS Targets':\n",
    "        label = f'T{star_id}'\n",
    "        iw._marker = functools.partial(iw.dc.Text, text=label, fontsize=20, fontscale=False, color='green')\n",
    "        iw.add_markers(Table(data=[[star['x']+20], [star['y']-20]], names=['x', 'y']))\n",
    "\n",
    "    elif star['marker name'] == 'APASS comparison':\n",
    "        label = f'C{star_id}'\n",
    "        iw._marker = functools.partial(iw.dc.Text, text=label, fontsize=20, fontscale=False, color='red')\n",
    "        iw.add_markers(Table(data=[[star['x']+20], [star['y']-20]], names=['x', 'y']))\n",
    "\n",
    "    elif star['marker name'] == 'VSX':\n",
    "        label = f'V{star_id}'\n",
    "        iw._marker = functools.partial(iw.dc.Text, text=label, fontsize=20, fontscale=False, color='blue')\n",
    "        iw.add_markers(Table(data=[[star['x']+20], [star['y']-20]], names=['x', 'y']))\n",
    "    else:\n",
    "        label = f'U{star_id}'\n",
    "        print(f\"Unrecognized marker name: {star['marker name']}\")\n",
    "    plot_names.append(label)"
   ]
  },
  {
   "cell_type": "code",
   "execution_count": null,
   "metadata": {},
   "outputs": [],
   "source": [
    "comp_table['plot_label'] = [plot_names]"
   ]
  },
  {
   "cell_type": "code",
   "execution_count": null,
   "metadata": {},
   "outputs": [],
   "source": [
    "comp_table.write(aperture_output_file, overwrite=True)"
   ]
  },
  {
   "cell_type": "markdown",
   "metadata": {},
   "source": [
    "### Add 2.5 arcmin circle (do this after writing comparison table!)\n",
    "\n",
    "Otherwise the comparison table will contain an extra entry for this circle."
   ]
  },
  {
   "cell_type": "code",
   "execution_count": null,
   "metadata": {},
   "outputs": [],
   "source": [
    "if targets_from_file:\n",
    "    target = targets_from_file[0]\n",
    "    iw.marker = {'color': 'yellow', 'radius': 268, 'type': 'circle'}\n",
    "    iw.add_markers(target, skycoord_colname='coords',\n",
    "                   use_skycoord=True, marker_name='target')"
   ]
  },
  {
   "cell_type": "code",
   "execution_count": null,
   "metadata": {},
   "outputs": [],
   "source": []
  }
 ],
 "metadata": {
  "kernelspec": {
   "display_name": "Python 3 (ipykernel)",
   "language": "python",
   "name": "python3"
  },
  "language_info": {
   "codemirror_mode": {
    "name": "ipython",
    "version": 3
   },
   "file_extension": ".py",
   "mimetype": "text/x-python",
   "name": "python",
   "nbconvert_exporter": "python",
   "pygments_lexer": "ipython3",
   "version": "3.10.6"
  }
 },
 "nbformat": 4,
 "nbformat_minor": 4
}
