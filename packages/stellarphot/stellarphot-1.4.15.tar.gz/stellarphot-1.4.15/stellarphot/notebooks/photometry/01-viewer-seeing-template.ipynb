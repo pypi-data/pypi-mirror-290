{
 "cells": [
  {
   "cell_type": "markdown",
   "metadata": {},
   "source": [
    "# Seeing profile\n",
    "\n",
    "This notebook lets you measure the *seeing profile* of a star, which is essentially the size of a star in the image.\n",
    "\n",
    "\n",
    "## Instructions\n",
    "\n",
    "Fill in the name of the file you want to look at  in the cell below, then run the whole notebook.\n",
    "\n",
    "You can change the filename if you want to look at another image."
   ]
  },
  {
   "cell_type": "code",
   "execution_count": null,
   "metadata": {},
   "outputs": [],
   "source": [
    "from stellarphot.visualization.seeing_profile_functions import SeeingProfileWidget"
   ]
  },
  {
   "cell_type": "code",
   "execution_count": null,
   "metadata": {},
   "outputs": [],
   "source": [
    "seeing_profile = SeeingProfileWidget()"
   ]
  },
  {
   "cell_type": "markdown",
   "metadata": {
    "tags": []
   },
   "source": [
    "## The cell below displays the viewer\n",
    "\n",
    "### Left-click and drag to pan\n",
    "### Scroll or use the +/- keys to zoom in/out\n",
    "### Shift-click to display seeing profiles for stars"
   ]
  },
  {
   "cell_type": "code",
   "execution_count": null,
   "metadata": {},
   "outputs": [],
   "source": [
    "seeing_profile.box"
   ]
  },
  {
   "cell_type": "code",
   "execution_count": null,
   "metadata": {},
   "outputs": [],
   "source": []
  }
 ],
 "metadata": {
  "kernelspec": {
   "display_name": "Python 3 (ipykernel)",
   "language": "python",
   "name": "python3"
  },
  "language_info": {
   "codemirror_mode": {
    "name": "ipython",
    "version": 3
   },
   "file_extension": ".py",
   "mimetype": "text/x-python",
   "name": "python",
   "nbconvert_exporter": "python",
   "pygments_lexer": "ipython3",
   "version": "3.10.6"
  }
 },
 "nbformat": 4,
 "nbformat_minor": 4
}
