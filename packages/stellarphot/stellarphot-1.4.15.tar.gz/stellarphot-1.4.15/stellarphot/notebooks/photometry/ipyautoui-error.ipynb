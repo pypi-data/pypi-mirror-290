{
 "cells": [
  {
   "cell_type": "code",
   "execution_count": 1,
   "id": "68f6ee6c-36d5-4cdd-88be-d929b4329cd0",
   "metadata": {},
   "outputs": [],
   "source": [
    "from pydantic import BaseModel, Field, conint, root_validator, ValidationError\n",
    "from ipyautoui import AutoUi"
   ]
  },
  {
   "cell_type": "markdown",
   "id": "4c8ddf86-1e5f-4e39-9fca-35fe3115cfe8",
   "metadata": {},
   "source": [
    "## Define a simple class with validation"
   ]
  },
  {
   "cell_type": "code",
   "execution_count": 2,
   "id": "0d5af426-3e76-4d99-aae9-9f21a2fd7616",
   "metadata": {},
   "outputs": [],
   "source": [
    "class ApertureSettings(BaseModel):\n",
    "    radius : conint(ge=1) = Field(default=1)\n",
    "    inner_annulus : conint(ge=1) = Field(default=2)\n",
    "    outer_annulus : conint(ge=1) = Field(default=3)\n",
    "\n",
    "    class Config:\n",
    "        validate_assignment = True\n",
    "        validate_all = True\n",
    "\n",
    "    @root_validator(skip_on_failure=True)\n",
    "    def check_annuli(cls, values):\n",
    "        if values['inner_annulus'] >= values['outer_annulus']:\n",
    "            raise ValueError('inner_annulus must be smaller than outer_annulus')\n",
    "        if values['radius'] >= values['inner_annulus']:\n",
    "            raise ValueError('radius must be smaller than inner_annulus')\n",
    "        return values"
   ]
  },
  {
   "cell_type": "markdown",
   "id": "a18bdb83-a3b2-4564-a15f-55731b76ec08",
   "metadata": {},
   "source": [
    "### Make an AutoUi and an observer"
   ]
  },
  {
   "cell_type": "code",
   "execution_count": 7,
   "id": "59751ee1-c4b9-4fb5-95c2-6bb3f60c276d",
   "metadata": {},
   "outputs": [],
   "source": [
    "ui = AutoUi(ApertureSettings)"
   ]
  },
  {
   "cell_type": "code",
   "execution_count": 8,
   "id": "84411619-f463-408b-9578-526c1a69db10",
   "metadata": {},
   "outputs": [],
   "source": [
    "counter = 0\n",
    "def my_observer(change):\n",
    "    global counter\n",
    "    counter += 1\n",
    "    print(f\"My observer call {counter}\")\n",
    "    try: \n",
    "        ApertureSettings(**ui.value)\n",
    "    except ValidationError:\n",
    "        print(\"    Bad state\")\n",
    "    else: \n",
    "        print(\"    Good state\")\n",
    "            \n",
    "ui.observe(my_observer, names=\"_value\")"
   ]
  },
  {
   "cell_type": "markdown",
   "id": "e1f465eb-4f7f-4efe-aaf3-17cecdafa92f",
   "metadata": {},
   "source": [
    "### Set the value of the widget"
   ]
  },
  {
   "cell_type": "code",
   "execution_count": 9,
   "id": "ad37249c-23f7-481b-97c8-8f2eb3b94926",
   "metadata": {},
   "outputs": [
    {
     "name": "stdout",
     "output_type": "stream",
     "text": [
      "My observer call 1\n",
      "    Good state\n",
      "My observer call 2\n",
      "    Bad state\n",
      "My observer call 3\n",
      "    Bad state\n",
      "My observer call 4\n",
      "    Good state\n"
     ]
    }
   ],
   "source": [
    "ui.value = dict(radius=2, inner_annulus=4, outer_annulus=8)"
   ]
  },
  {
   "cell_type": "code",
   "execution_count": 6,
   "id": "d31fac3c-0f8d-4dcf-9282-fc65d0895a7e",
   "metadata": {},
   "outputs": [
    {
     "data": {
      "text/plain": [
       "{'radius': 2, 'inner_annulus': 4, 'outer_annulus': 8}"
      ]
     },
     "execution_count": 6,
     "metadata": {},
     "output_type": "execute_result"
    }
   ],
   "source": [
    "ui.value"
   ]
  },
  {
   "cell_type": "code",
   "execution_count": null,
   "id": "6879daa3-a269-42cb-a519-b124a73c6096",
   "metadata": {},
   "outputs": [],
   "source": []
  }
 ],
 "metadata": {
  "kernelspec": {
   "display_name": "Python 3 (ipykernel)",
   "language": "python",
   "name": "python3"
  },
  "language_info": {
   "codemirror_mode": {
    "name": "ipython",
    "version": 3
   },
   "file_extension": ".py",
   "mimetype": "text/x-python",
   "name": "python",
   "nbconvert_exporter": "python",
   "pygments_lexer": "ipython3",
   "version": "3.10.6"
  }
 },
 "nbformat": 4,
 "nbformat_minor": 5
}
