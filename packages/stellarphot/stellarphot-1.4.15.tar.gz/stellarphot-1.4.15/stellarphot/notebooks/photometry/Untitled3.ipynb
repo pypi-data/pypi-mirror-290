{
 "cells": [
  {
   "cell_type": "raw",
   "id": "1399d1da-add7-41f9-95f3-d37b421f4705",
   "metadata": {},
   "source": []
  },
  {
   "cell_type": "code",
   "execution_count": 2,
   "id": "cd068b93-6bb5-4fdb-bd43-bc4cd5d5e27e",
   "metadata": {},
   "outputs": [],
   "source": [
    "from astrowidgets import ImageWidget"
   ]
  },
  {
   "cell_type": "code",
   "execution_count": 8,
   "id": "6a132d97-6d53-4a19-b4cf-10d61fb0dffb",
   "metadata": {},
   "outputs": [],
   "source": [
    "iw = ImageWidget()\n",
    "iw.load_fits(\"Divided flat.fit\")"
   ]
  },
  {
   "cell_type": "code",
   "execution_count": 9,
   "id": "ed848c36-798e-4dc5-9243-d714f84162a7",
   "metadata": {},
   "outputs": [
    {
     "data": {
      "application/vnd.jupyter.widget-view+json": {
       "model_id": "f3a5f4ee0cc94cab88803cc37680546e",
       "version_major": 2,
       "version_minor": 0
      },
      "text/plain": [
       "ImageWidget(children=(Image(value=b'\\xff\\xd8\\xff\\xe0\\x00\\x10JFIF\\x00\\x01\\x01\\x00\\x00\\x01\\x00\\x01\\x00\\x00\\xff\\x…"
      ]
     },
     "execution_count": 9,
     "metadata": {},
     "output_type": "execute_result"
    }
   ],
   "source": [
    "iw"
   ]
  },
  {
   "cell_type": "code",
   "execution_count": null,
   "id": "8054ea59-e5de-4662-a566-0d07c96394e9",
   "metadata": {},
   "outputs": [],
   "source": []
  }
 ],
 "metadata": {
  "kernelspec": {
   "display_name": "Python 3 (ipykernel)",
   "language": "python",
   "name": "python3"
  },
  "language_info": {
   "codemirror_mode": {
    "name": "ipython",
    "version": 3
   },
   "file_extension": ".py",
   "mimetype": "text/x-python",
   "name": "python",
   "nbconvert_exporter": "python",
   "pygments_lexer": "ipython3",
   "version": "3.10.6"
  }
 },
 "nbformat": 4,
 "nbformat_minor": 5
}
