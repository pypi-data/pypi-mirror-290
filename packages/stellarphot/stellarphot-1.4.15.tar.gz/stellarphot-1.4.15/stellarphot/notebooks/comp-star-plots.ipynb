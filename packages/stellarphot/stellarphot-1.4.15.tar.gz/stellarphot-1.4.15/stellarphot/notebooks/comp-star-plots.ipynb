{
 "cells": [
  {
   "cell_type": "code",
   "execution_count": null,
   "metadata": {
    "collapsed": false
   },
   "outputs": [],
   "source": [
    "from __future__ import print_function, division\n",
    "\n",
    "import numpy as np\n",
    "\n",
    "%matplotlib inline\n",
    "\n",
    "#import matplotlib.pyplot as plt\n",
    "\n",
    "from stellarphot.io import parse_aij_table\n",
    "\n",
    "from stellarphot.visualization import multi_night\n",
    "\n",
    "from astropy.table import Table, Column"
   ]
  },
  {
   "attachments": {},
   "cell_type": "markdown",
   "metadata": {},
   "source": [
    "## Set the name of your file in the cell below\n",
    "\n",
    "The function below can read in either a raw AIJ file or csv files with the same information."
   ]
  },
  {
   "cell_type": "code",
   "execution_count": null,
   "metadata": {
    "collapsed": false
   },
   "outputs": [],
   "source": [
    "sources = parse_aij_table('')"
   ]
  },
  {
   "attachments": {},
   "cell_type": "markdown",
   "metadata": {},
   "source": [
    "## Set EITHER the list of known variables or the list of comparison stars\n",
    "\n",
    "Do **NOT** set both.\n",
    "\n",
    "The one you do NOT want to use should be set to `None`"
   ]
  },
  {
   "cell_type": "code",
   "execution_count": null,
   "metadata": {
    "collapsed": false
   },
   "outputs": [],
   "source": [
    "# List of stars you think ARE variable \n",
    "known_variables = None # Change to list of stars in the field that you know vary, or None\n",
    "\n",
    "# List of stars you think ARE NOT variable\n",
    "keepers = [4, 9, 64, 103] # Change to list of comparisons you want to use, or None\n",
    "\n",
    "# Check that settings are sensible\n",
    "\n",
    "if known_variables is None and keepers is None:\n",
    "    raise ValueError('You must set either known_variables or keepers to a list')\n",
    "\n",
    "if known_variables is not None and keepers is not None:\n",
    "    raise ValueError('Only ONE of known_variables and keeps can be set. '\n",
    "                     'The other should be set to None.')"
   ]
  },
  {
   "attachments": {},
   "cell_type": "markdown",
   "metadata": {},
   "source": [
    "## Calculate comparison counts, AIJ-style\n",
    "\n",
    "Which is to say that we calculate the comparison counts as the unweighted sum of the counts of all of the comparison stars, exceluding any known variables from the set."
   ]
  },
  {
   "cell_type": "code",
   "execution_count": null,
   "metadata": {
    "collapsed": false
   },
   "outputs": [],
   "source": [
    "comp_counts = np.zeros_like(sources[0].counts)\n",
    "for source in sources:\n",
    "    if keepers:\n",
    "        if source.id not in keepers: \n",
    "            # Variables shouldn't be in the comparison set\n",
    "            continue\n",
    "    elif known_variables:\n",
    "        if source.id in known_variables:\n",
    "            # Variables should not be in comparison set\n",
    "            continue\n",
    "    comp_counts += source.counts"
   ]
  },
  {
   "cell_type": "code",
   "execution_count": null,
   "metadata": {
    "collapsed": true
   },
   "outputs": [],
   "source": [
    "gain = 1.5"
   ]
  },
  {
   "cell_type": "code",
   "execution_count": null,
   "metadata": {
    "collapsed": false
   },
   "outputs": [],
   "source": [
    "mags = []\n",
    "mag_err = []\n",
    "for source in sources:\n",
    "    mag = -2.5 * np.log10(source.counts / comp_counts)\n",
    "    err = source.error \n",
    "    snr = gain * source.counts / err\n",
    "    mag_e = 1/snr\n",
    "    mags.append(mag)\n",
    "    mag_err.append(mag_e)"
   ]
  },
  {
   "attachments": {},
   "cell_type": "markdown",
   "metadata": {},
   "source": [
    "### Find unique date for each night\n",
    "\n",
    "We need to do this to group the data by night."
   ]
  },
  {
   "cell_type": "code",
   "execution_count": null,
   "metadata": {
    "collapsed": false
   },
   "outputs": [],
   "source": [
    "night = np.floor(sources[0].bjd_tdb + 0.5) - 1\n",
    "\n",
    "unique_nights = np.unique(night)\n",
    "\n",
    "unique_nights = set(unique_nights) #- set([2457072.0])\n",
    "unique_nights = sorted(unique_nights)\n",
    "number_of_nights = len(unique_nights)\n",
    "print(set(unique_nights))"
   ]
  },
  {
   "cell_type": "code",
   "execution_count": null,
   "metadata": {
    "collapsed": false
   },
   "outputs": [],
   "source": [
    "means = [np.median(mag[np.isfinite(mag)]) for mag in mags]"
   ]
  },
  {
   "attachments": {},
   "cell_type": "markdown",
   "metadata": {},
   "source": [
    "## Use second brightest star to scale brightness marker"
   ]
  },
  {
   "cell_type": "code",
   "execution_count": null,
   "metadata": {
    "collapsed": false
   },
   "outputs": [],
   "source": [
    "means.sort()\n",
    "brightest_mag = np.max([means[1], -10])\n",
    "print(brightest_mag)"
   ]
  },
  {
   "attachments": {},
   "cell_type": "markdown",
   "metadata": {},
   "source": [
    "# Plot the nights"
   ]
  },
  {
   "cell_type": "code",
   "execution_count": null,
   "metadata": {
    "collapsed": false,
    "scrolled": false
   },
   "outputs": [],
   "source": [
    "multi_night(sources, unique_nights, night,\n",
    "            brightest_mag, mags, mag_err)"
   ]
  }
 ],
 "metadata": {
  "kernelspec": {
   "display_name": "SNdev2",
   "language": "python",
   "name": "python3"
  },
  "language_info": {
   "codemirror_mode": {
    "name": "ipython",
    "version": 3
   },
   "file_extension": ".py",
   "mimetype": "text/x-python",
   "name": "python",
   "nbconvert_exporter": "python",
   "pygments_lexer": "ipython3",
   "version": "3.11.3"
  }
 },
 "nbformat": 4,
 "nbformat_minor": 0
}
