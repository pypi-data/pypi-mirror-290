{
 "cells": [
  {
   "cell_type": "markdown",
   "id": "d7fe5440-c949-4938-bc8f-b1a34de5f1b8",
   "metadata": {},
   "source": [
    "# Python Example\n",
    "\n",
    "This notebook have examples of Python code to test syntax highlighting."
   ]
  },
  {
   "cell_type": "code",
   "execution_count": 1,
   "id": "bac33a9a-aaa6-4bff-8c0a-bca7c085b81e",
   "metadata": {},
   "outputs": [],
   "source": [
    "import numpy as np\n",
    "import pandas as pd\n",
    "import matplotlib.pyplot as plt"
   ]
  },
  {
   "cell_type": "code",
   "execution_count": 2,
   "id": "44e5dc58-5171-49bf-8584-35eb287ff33b",
   "metadata": {},
   "outputs": [
    {
     "name": "stdout",
     "output_type": "stream",
     "text": [
      "Hello world!\n",
      "3\n",
      "4\n",
      "7\n",
      "12\n",
      "19\n"
     ]
    }
   ],
   "source": [
    "# Define a function\n",
    "def calc(a, b):\n",
    "    return a + b ** 2\n",
    "\n",
    "# Print an string\n",
    "if True:\n",
    "    print(\"Hello world!\")\n",
    "\n",
    "# Run loop calling a function\n",
    "for i in range(5):\n",
    "    print(calc(3, i))"
   ]
  },
  {
   "cell_type": "code",
   "execution_count": 3,
   "id": "5d763932-7fb0-4f58-bb07-4a09757429e0",
   "metadata": {},
   "outputs": [
    {
     "data": {
      "text/plain": [
       "23"
      ]
     },
     "execution_count": 3,
     "metadata": {},
     "output_type": "execute_result"
    }
   ],
   "source": [
    "\"\"\"\n",
    "This is my class\n",
    "\"\"\"\n",
    "class MyClass:\n",
    "\n",
    "    def __init__(self, value):\n",
    "        self.value = value\n",
    "\n",
    "    def calc(self, a, b):\n",
    "        return a * b + self.value\n",
    "\n",
    "# Define my object from the class\n",
    "my_obj = MyClass(3)\n",
    "my_obj.calc(4, 5)"
   ]
  },
  {
   "cell_type": "code",
   "execution_count": 4,
   "id": "e2a52ed5-8100-4c50-a49d-6090e8679622",
   "metadata": {},
   "outputs": [
    {
     "data": {
      "text/html": [
       "<div>\n",
       "<style scoped>\n",
       "    .dataframe tbody tr th:only-of-type {\n",
       "        vertical-align: middle;\n",
       "    }\n",
       "\n",
       "    .dataframe tbody tr th {\n",
       "        vertical-align: top;\n",
       "    }\n",
       "\n",
       "    .dataframe thead th {\n",
       "        text-align: right;\n",
       "    }\n",
       "</style>\n",
       "<table border=\"1\" class=\"dataframe\">\n",
       "  <thead>\n",
       "    <tr style=\"text-align: right;\">\n",
       "      <th></th>\n",
       "      <th>group</th>\n",
       "      <th>value</th>\n",
       "    </tr>\n",
       "  </thead>\n",
       "  <tbody>\n",
       "    <tr>\n",
       "      <th>0</th>\n",
       "      <td>A</td>\n",
       "      <td>10</td>\n",
       "    </tr>\n",
       "    <tr>\n",
       "      <th>1</th>\n",
       "      <td>B</td>\n",
       "      <td>20</td>\n",
       "    </tr>\n",
       "    <tr>\n",
       "      <th>2</th>\n",
       "      <td>C</td>\n",
       "      <td>30</td>\n",
       "    </tr>\n",
       "  </tbody>\n",
       "</table>\n",
       "</div>"
      ],
      "text/plain": [
       "  group  value\n",
       "0     A     10\n",
       "1     B     20\n",
       "2     C     30"
      ]
     },
     "execution_count": 4,
     "metadata": {},
     "output_type": "execute_result"
    }
   ],
   "source": [
    "pd.DataFrame(\n",
    "    {\n",
    "        \"group\" : [\"A\", \"B\", \"C\"],\n",
    "        \"value\" : [10, 20, 30]\n",
    "    }\n",
    ")"
   ]
  },
  {
   "cell_type": "code",
   "execution_count": 5,
   "id": "631a70db-6981-47f2-8aff-6a9e860e197c",
   "metadata": {},
   "outputs": [
    {
     "data": {
      "image/png": "[encoded data removed]",
      "text/plain": [
       "<Figure size 640x480 with 1 Axes>"
      ]
     },
     "metadata": {},
     "output_type": "display_data"
    }
   ],
   "source": [
    "x = np.linspace(-1, 1, 50)\n",
    "y1 = 2**x + 1\n",
    "y2 = 2**x + x + 2\n",
    "\n",
    "plt.plot(x, y2)\n",
    "plt.plot(\n",
    "    x, \n",
    "    y1, \n",
    "    color=\"red\",   \n",
    "    linestyle='--' \n",
    ")\n",
    "\n",
    "plt.show()"
   ]
  },
  {
   "cell_type": "code",
   "execution_count": 6,
   "id": "ea978b36-3c1f-44e1-82ce-f2cdeab07d46",
   "metadata": {},
   "outputs": [
    {
     "ename": "NameError",
     "evalue": "name 'asdfg' is not defined",
     "output_type": "error",
     "traceback": [
      "\u001b[0;31m---------------------------------------------------------------------------\u001b[0m",
      "\u001b[0;31mNameError\u001b[0m                                 Traceback (most recent call last)",
      "Cell \u001b[0;32mIn[6], line 2\u001b[0m\n\u001b[1;32m      1\u001b[0m \u001b[38;5;66;03m# Example of error\u001b[39;00m\n\u001b[0;32m----> 2\u001b[0m \u001b[43masdfg\u001b[49m\n",
      "\u001b[0;31mNameError\u001b[0m: name 'asdfg' is not defined"
     ]
    }
   ],
   "source": [
    "# Example of error\n",
    "asdfg"
   ]
  }
 ],
 "metadata": {
  "kernelspec": {
   "display_name": "Python 3 (ipykernel)",
   "language": "python",
   "name": "python3"
  },
  "language_info": {
   "codemirror_mode": {
    "name": "ipython",
    "version": 3
   },
   "file_extension": ".py",
   "mimetype": "text/x-python",
   "name": "python",
   "nbconvert_exporter": "python",
   "pygments_lexer": "ipython3",
   "version": "3.11.4"
  }
 },
 "nbformat": 4,
 "nbformat_minor": 5
}
