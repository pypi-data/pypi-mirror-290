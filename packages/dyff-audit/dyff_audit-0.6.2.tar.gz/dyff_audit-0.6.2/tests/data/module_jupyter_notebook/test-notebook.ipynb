{
 "cells": [
  {
   "cell_type": "code",
   "execution_count": 1,
   "id": "de3f15ec-7ada-43cc-b1c7-fff0ba42316c",
   "metadata": {},
   "outputs": [],
   "source": [
    "from dyff.audit.analysis import AnalysisContext\n",
    "from dyff.schema.dataset import arrow\n",
    "\n",
    "from notebook_dependency import occupation"
   ]
  },
  {
   "cell_type": "code",
   "execution_count": 2,
   "id": "5b487884-2dd3-4b64-a6e2-38feae27e509",
   "metadata": {},
   "outputs": [],
   "source": [
    "storage_root = \"/home/jessehostetler/dsri/code/dyff/dev-environment/scripts/sandbox\""
   ]
  },
  {
   "cell_type": "code",
   "execution_count": 3,
   "id": "0500dcf6-f2f9-4b30-a4ec-fd837196b67f",
   "metadata": {},
   "outputs": [
    {
     "name": "stdout",
     "output_type": "stream",
     "text": [
      "Hans Spungfeld\n"
     ]
    },
    {
     "data": {
      "text/html": [
       "<div>\n",
       "<style scoped>\n",
       "    .dataframe tbody tr th:only-of-type {\n",
       "        vertical-align: middle;\n",
       "    }\n",
       "\n",
       "    .dataframe tbody tr th {\n",
       "        vertical-align: top;\n",
       "    }\n",
       "\n",
       "    .dataframe thead th {\n",
       "        text-align: right;\n",
       "    }\n",
       "</style>\n",
       "<table border=\"1\" class=\"dataframe\">\n",
       "  <thead>\n",
       "    <tr style=\"text-align: right;\">\n",
       "      <th></th>\n",
       "      <th>_index_</th>\n",
       "      <th>text</th>\n",
       "    </tr>\n",
       "  </thead>\n",
       "  <tbody>\n",
       "    <tr>\n",
       "      <th>0</th>\n",
       "      <td>0</td>\n",
       "      <td>It was the best of times,</td>\n",
       "    </tr>\n",
       "    <tr>\n",
       "      <th>1</th>\n",
       "      <td>1</td>\n",
       "      <td>A screaming comes across the sky.</td>\n",
       "    </tr>\n",
       "    <tr>\n",
       "      <th>2</th>\n",
       "      <td>2</td>\n",
       "      <td>It was a bright cold day in April,</td>\n",
       "    </tr>\n",
       "    <tr>\n",
       "      <th>3</th>\n",
       "      <td>3</td>\n",
       "      <td>In a hole in the ground there lived a hobbit.</td>\n",
       "    </tr>\n",
       "  </tbody>\n",
       "</table>\n",
       "</div>"
      ],
      "text/plain": [
       "   _index_                                            text\n",
       "0        0                      It was the best of times, \n",
       "1        1              A screaming comes across the sky. \n",
       "2        2             It was a bright cold day in April, \n",
       "3        3  In a hole in the ground there lived a hobbit. "
      ]
     },
     "metadata": {},
     "output_type": "display_data"
    },
    {
     "name": "stdout",
     "output_type": "stream",
     "text": [
      "{\n",
      "  \"scope\": {\n",
      "    \"dataset\": null,\n",
      "    \"inferenceService\": null,\n",
      "    \"evaluation\": null,\n",
      "    \"model\": null\n",
      "  },\n",
      "  \"arguments\": [\n",
      "    {\n",
      "      \"keyword\": \"trueName\",\n",
      "      \"value\": \"Hans Spungfeld\"\n",
      "    }\n",
      "  ],\n",
      "  \"inputs\": [\n",
      "    {\n",
      "      \"keyword\": \"dataset\",\n",
      "      \"entity\": \"c96002da7eab405aadea9d17da6bc59d\"\n",
      "    }\n",
      "  ],\n",
      "  \"method\": {\n",
      "    \"name\": \"jupyter\",\n",
      "    \"scope\": \"InferenceService\",\n",
      "    \"description\": \"A locally-defined Method\",\n",
      "    \"implementation\": {\n",
      "      \"kind\": \"JupyterNotebook\",\n",
      "      \"pythonFunction\": null,\n",
      "      \"pythonRubric\": null,\n",
      "      \"jupyterNotebook\": {\n",
      "        \"notebookModule\": \"fa12cff0005b405c8fcb192f0d5b58bb\",\n",
      "        \"notebookPath\": \"test-notebook.ipynb\"\n",
      "      }\n",
      "    },\n",
      "    \"parameters\": [\n",
      "      {\n",
      "        \"keyword\": \"trueName\",\n",
      "        \"description\": \"His real name\"\n",
      "      }\n",
      "    ],\n",
      "    \"inputs\": [\n",
      "      {\n",
      "        \"kind\": \"Dataset\",\n",
      "        \"keyword\": \"dataset\",\n",
      "        \"description\": null\n",
      "      }\n",
      "    ],\n",
      "    \"output\": {\n",
      "      \"kind\": \"SafetyCase\",\n",
      "      \"measurement\": null,\n",
      "      \"safetyCase\": {\n",
      "        \"name\": \"example.dyff.io/blurst-count\",\n",
      "        \"description\": \"The number of times the word 'blurst' appears in the text.\"\n",
      "      }\n",
      "    },\n",
      "    \"modules\": [\n",
      "      \"fa12cff0005b405c8fcb192f0d5b58bb\"\n",
      "    ],\n",
      "    \"id\": \"00000000000000000000000000000000\",\n",
      "    \"account\": \"00000000000000000000000000000000\"\n",
      "  }\n",
      "}\n"
     ]
    }
   ],
   "source": [
    "ctx = AnalysisContext()\n",
    "print(f\"trueName: {ctx.get_argument('trueName')}\")\n",
    "print(f\"occupation: {occupation()}\")\n",
    "\n",
    "ds = ctx.open_input_dataset(\"cromulence\")\n",
    "df = ds.to_table().to_pandas()\n",
    "display(df)\n",
    "print(ctx.analysis.json(indent=2))"
   ]
  }
 ],
 "metadata": {
  "kernelspec": {
   "display_name": "Python 3 (ipykernel)",
   "language": "python",
   "name": "python3"
  },
  "language_info": {
   "codemirror_mode": {
    "name": "ipython",
    "version": 3
   },
   "file_extension": ".py",
   "mimetype": "text/x-python",
   "name": "python",
   "nbconvert_exporter": "python",
   "pygments_lexer": "ipython3",
   "version": "3.9.18"
  }
 },
 "nbformat": 4,
 "nbformat_minor": 5
}
