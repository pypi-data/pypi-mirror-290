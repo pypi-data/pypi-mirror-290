{
 "cells": [
  {
   "cell_type": "markdown",
   "id": "d60e0b29-66d5-421d-b914-fb3029e59e15",
   "metadata": {
    "lines_to_next_cell": 2
   },
   "source": [
    "# Grid World example\n",
    "\n",
    "In this notebook we implement the GridWorld game with the\n",
    "`environment-framework` and use stable-baseliens3 to train a `DQN`-agent on it."
   ]
  },
  {
   "cell_type": "code",
   "execution_count": 1,
   "id": "34ec77d0-740e-4fda-b709-1a237ff49e43",
   "metadata": {
    "tags": []
   },
   "outputs": [],
   "source": [
    "# pylint: disable=redefined-outer-name\n",
    "import math\n",
    "from random import randint\n",
    "from typing import Any, Callable, Optional\n",
    "\n",
    "import numpy as np\n",
    "from gymnasium.spaces import Box, Discrete, Space\n",
    "from numpy.typing import NDArray\n",
    "from stable_baselines3.common.evaluation import evaluate_policy\n",
    "from stable_baselines3.common.utils import set_random_seed\n",
    "from stable_baselines3.common.vec_env import SubprocVecEnv\n",
    "from stable_baselines3.dqn import DQN\n",
    "\n",
    "from environment_framework import EnvironmentFrameworkGym, Level, PygameHumanVisualizer, Simulator"
   ]
  },
  {
   "cell_type": "markdown",
   "id": "206b9f02-7f3c-4861-bf6d-81dd4652381e",
   "metadata": {
    "lines_to_next_cell": 2
   },
   "source": [
    "## Implement the `Game`"
   ]
  },
  {
   "cell_type": "code",
   "execution_count": 2,
   "id": "42cf31a4-d776-41e9-adbb-44fe9056d083",
   "metadata": {
    "lines_to_next_cell": 2,
    "tags": []
   },
   "outputs": [],
   "source": [
    "class Action:\n",
    "    UP = 0\n",
    "    DOWN = 1\n",
    "    RIGHT = 2\n",
    "    LEFT = 3\n",
    "\n",
    "\n",
    "class GridWorldGame:\n",
    "    def __init__(self, size: int) -> None:\n",
    "        self.size = size\n",
    "        self.player_position = (0, 0)\n",
    "        self.target_position = (0, 0)\n",
    "        self.reset()\n",
    "\n",
    "    @property\n",
    "    def done(self) -> bool:\n",
    "        return self.player_position == self.target_position\n",
    "\n",
    "    @property\n",
    "    def space(self) -> Space:\n",
    "        return Discrete(4)\n",
    "\n",
    "    def act(self, action: int, **_: Any) -> None:\n",
    "        if action == Action.UP:\n",
    "            self.player_position = (self.player_position[0], self.player_position[1] - 1)\n",
    "        if action == Action.DOWN:\n",
    "            self.player_position = (self.player_position[0], self.player_position[1] + 1)\n",
    "        if action == Action.RIGHT:\n",
    "            self.player_position = (self.player_position[0] + 1, self.player_position[1])\n",
    "        if action == Action.LEFT:\n",
    "            self.player_position = (self.player_position[0] - 1, self.player_position[1])\n",
    "        corrected_x = max(0, min(self.size - 1, self.player_position[0]))\n",
    "        corrected_y = max(0, min(self.size - 1, self.player_position[1]))\n",
    "        self.player_position = (corrected_x, corrected_y)\n",
    "\n",
    "    def reset(self) -> None:\n",
    "        def get_random_position() -> int:\n",
    "            return randint(0, self.size - 1)\n",
    "\n",
    "        self.player_position = (get_random_position(), get_random_position())\n",
    "        self.target_position = (get_random_position(), get_random_position())\n",
    "        if self.done:\n",
    "            self.reset()"
   ]
  },
  {
   "cell_type": "markdown",
   "id": "358b277a-93d1-4596-ac0d-4e8867169827",
   "metadata": {
    "lines_to_next_cell": 2
   },
   "source": [
    "## Implement the `Observer` and the `Estimator`"
   ]
  },
  {
   "cell_type": "code",
   "execution_count": 3,
   "id": "e4109d2c-3202-4499-8e2e-0c58e4456f30",
   "metadata": {
    "lines_to_next_cell": 2,
    "tags": []
   },
   "outputs": [],
   "source": [
    "class GridWorldObserver:\n",
    "    def __init__(self, game: GridWorldGame) -> None:\n",
    "        self.game = game\n",
    "\n",
    "    @property\n",
    "    def space(self) -> Space:\n",
    "        return Box(shape=(4,), low=-math.inf, high=math.inf)\n",
    "\n",
    "    def observe(self) -> NDArray:\n",
    "        return np.array(\n",
    "            [*self.game.player_position, *self.game.target_position],\n",
    "            dtype=np.float32,\n",
    "        )\n",
    "\n",
    "\n",
    "class GridWorldEstimator:\n",
    "    def __init__(self, game: GridWorldGame) -> None:\n",
    "        self.game = game\n",
    "\n",
    "    def estimate(self) -> float:\n",
    "        return -1 + float(self.game.done)"
   ]
  },
  {
   "cell_type": "markdown",
   "id": "7bee370d-7f88-44a4-a1dd-d9d5a84f24a1",
   "metadata": {
    "lines_to_next_cell": 2,
    "tags": []
   },
   "source": [
    "## Add a nice little `Visualizer`"
   ]
  },
  {
   "cell_type": "code",
   "execution_count": 4,
   "id": "b8855c93-3335-4475-80aa-3e3a64ae5300",
   "metadata": {
    "lines_to_next_cell": 2,
    "tags": []
   },
   "outputs": [],
   "source": [
    "class GridWorldVisualizer(PygameHumanVisualizer):\n",
    "    BLUE = [0, 0, 255]\n",
    "    GREEN = [0, 255, 0]\n",
    "\n",
    "    def __init__(self, game: GridWorldGame) -> None:\n",
    "        super().__init__(50)\n",
    "        self.game = game\n",
    "\n",
    "    def render_rgb(self) -> NDArray[np.uint8]:\n",
    "        frame = [[[0 for k in range(3)] for j in range(self.game.size)] for i in range(self.game.size)]\n",
    "        frame[self.game.player_position[1]][self.game.player_position[0]] = self.BLUE\n",
    "        frame[self.game.target_position[1]][self.game.target_position[0]] = self.GREEN\n",
    "        return np.array(frame, dtype=np.uint8)"
   ]
  },
  {
   "cell_type": "markdown",
   "id": "30c63509-6c5b-49c5-9717-97ce0cd74e48",
   "metadata": {
    "lines_to_next_cell": 2
   },
   "source": [
    "## Connect all together with a `Level`"
   ]
  },
  {
   "cell_type": "code",
   "execution_count": 5,
   "id": "18451c66-de76-411a-adff-51a2b23c5c30",
   "metadata": {
    "tags": []
   },
   "outputs": [],
   "source": [
    "class GridWorldLevel(Level):\n",
    "    _game: GridWorldGame\n",
    "    _observer: GridWorldObserver\n",
    "    _estimator: GridWorldEstimator\n",
    "    _visualizer: GridWorldVisualizer\n",
    "\n",
    "    def reset(self) -> None:\n",
    "        self._game.reset()\n",
    "\n",
    "    def step(self, action: int) -> Any:\n",
    "        self._game.act(action)"
   ]
  },
  {
   "cell_type": "markdown",
   "id": "370e3268-a7b6-4e51-9f03-ece9dec0acc3",
   "metadata": {},
   "source": [
    "## Look at a random selecting agent"
   ]
  },
  {
   "cell_type": "code",
   "execution_count": 6,
   "id": "b14743ec-c00e-411f-96a1-6883b72a8c40",
   "metadata": {
    "tags": []
   },
   "outputs": [],
   "source": [
    "game = GridWorldGame(7)\n",
    "level = GridWorldLevel(\n",
    "    game,\n",
    "    GridWorldObserver(game),\n",
    "    GridWorldEstimator(game),\n",
    "    GridWorldVisualizer(game),\n",
    ")\n",
    "simulator = Simulator(level, 50)\n",
    "\n",
    "FPS = 4\n",
    "DONE = False\n",
    "while not DONE:\n",
    "    action = simulator.action_space.sample()\n",
    "    simulator.step(action)\n",
    "    obs = simulator.observe()\n",
    "    reward = simulator.estimate()\n",
    "    simulator.render_human(FPS)\n",
    "    DONE = simulator.truncated or simulator.done\n",
    "simulator.close()"
   ]
  },
  {
   "cell_type": "markdown",
   "id": "3f3ca062-0efb-42c9-9abc-52b344960c2e",
   "metadata": {
    "lines_to_next_cell": 2
   },
   "source": [
    "## Use stable-baselines3 to train an DQN-agent in the environment"
   ]
  },
  {
   "cell_type": "code",
   "execution_count": 7,
   "id": "ac1b88e9-a25f-4e5d-a80a-fd8de93368ca",
   "metadata": {
    "tags": []
   },
   "outputs": [],
   "source": [
    "def make_env(render_mode: Optional[str], rank: int, seed: int = 0, **_: Any) -> Callable:\n",
    "    def _init() -> EnvironmentFrameworkGym:\n",
    "        game = GridWorldGame(7)\n",
    "        level = GridWorldLevel(\n",
    "            game,\n",
    "            GridWorldObserver(game),\n",
    "            GridWorldEstimator(game),\n",
    "            GridWorldVisualizer(game),\n",
    "        )\n",
    "        env = EnvironmentFrameworkGym(level, 10, render_mode=render_mode)\n",
    "        env.reset(seed=seed + rank)\n",
    "        return env\n",
    "\n",
    "    set_random_seed(seed)\n",
    "    return _init"
   ]
  },
  {
   "cell_type": "code",
   "execution_count": 8,
   "id": "3392de7b-d58b-47ae-94e6-5bad09bdfc39",
   "metadata": {
    "tags": []
   },
   "outputs": [
    {
     "data": {
      "application/vnd.jupyter.widget-view+json": {
       "model_id": "e7fbb90a8ae2407ea3f1af7c2304f112",
       "version_major": 2,
       "version_minor": 0
      },
      "text/plain": [
       "Output()"
      ]
     },
     "metadata": {},
     "output_type": "display_data"
    },
    {
     "data": {
      "text/html": [
       "<pre style=\"white-space:pre;overflow-x:auto;line-height:normal;font-family:Menlo,'DejaVu Sans Mono',consolas,'Courier New',monospace\"></pre>\n"
      ],
      "text/plain": []
     },
     "metadata": {},
     "output_type": "display_data"
    },
    {
     "data": {
      "text/html": [
       "<pre style=\"white-space:pre;overflow-x:auto;line-height:normal;font-family:Menlo,'DejaVu Sans Mono',consolas,'Courier New',monospace\">\n",
       "</pre>\n"
      ],
      "text/plain": [
       "\n"
      ]
     },
     "metadata": {},
     "output_type": "display_data"
    },
    {
     "data": {
      "text/plain": [
       "<stable_baselines3.dqn.dqn.DQN at 0x7f073e3c91d0>"
      ]
     },
     "execution_count": 8,
     "metadata": {},
     "output_type": "execute_result"
    }
   ],
   "source": [
    "N_CPU = 1\n",
    "vec_env = SubprocVecEnv([make_env(None, i) for i in range(N_CPU)])\n",
    "model = DQN(\"MlpPolicy\", vec_env)\n",
    "model.learn(\n",
    "    total_timesteps=int(5e5),\n",
    "    progress_bar=True,\n",
    ")"
   ]
  },
  {
   "cell_type": "code",
   "execution_count": 9,
   "id": "34db8e65-7046-49f0-b6c4-cdf3b18d2289",
   "metadata": {},
   "outputs": [],
   "source": [
    "model.save(\"gridworld-dqn.zip\")"
   ]
  },
  {
   "cell_type": "code",
   "execution_count": 10,
   "id": "8876ed8d-6d89-41ef-ada9-ab3ceabf86b8",
   "metadata": {
    "tags": []
   },
   "outputs": [],
   "source": [
    "del model"
   ]
  },
  {
   "cell_type": "code",
   "execution_count": 17,
   "id": "ca143958-07db-4562-a43a-72f442a5d2b2",
   "metadata": {
    "tags": []
   },
   "outputs": [],
   "source": [
    "game = GridWorldGame(7)\n",
    "level = GridWorldLevel(game, GridWorldObserver(game), GridWorldEstimator(game), GridWorldVisualizer(game))\n",
    "env = EnvironmentFrameworkGym(level, 10, render_mode=\"human\")\n",
    "env.metadata[\"render_fps\"] = 4\n",
    "model = DQN.load(\"gridworld-dqn.zip\", env=env)\n",
    "evaluate_policy(model, env, n_eval_episodes=10)\n",
    "env.close()"
   ]
  },
  {
   "cell_type": "code",
   "execution_count": null,
   "id": "5486f80b-7fc9-42a0-b308-da3fae94f0e7",
   "metadata": {},
   "outputs": [],
   "source": []
  }
 ],
 "metadata": {
  "jupytext": {
   "formats": "ipynb,py:hydrogen"
  },
  "kernelspec": {
   "display_name": "Python 3 (ipykernel)",
   "language": "python",
   "name": "python3"
  },
  "language_info": {
   "codemirror_mode": {
    "name": "ipython",
    "version": 3
   },
   "file_extension": ".py",
   "mimetype": "text/x-python",
   "name": "python",
   "nbconvert_exporter": "python",
   "pygments_lexer": "ipython3",
   "version": "3.11.9"
  }
 },
 "nbformat": 4,
 "nbformat_minor": 5
}
