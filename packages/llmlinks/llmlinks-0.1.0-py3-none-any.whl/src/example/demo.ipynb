{
 "cells": [
  {
   "cell_type": "code",
   "execution_count": 1,
   "id": "8ca85965-4789-4ded-bbd8-ddad3497b215",
   "metadata": {},
   "outputs": [],
   "source": [
    "import os\n",
    "os.environ['OPENAI_API_KEY'] = "
   ]
  },
  {
   "cell_type": "code",
   "execution_count": 2,
   "id": "37db9c8f-3a6a-4abf-81d0-872c79f5faed",
   "metadata": {
    "editable": true,
    "slideshow": {
     "slide_type": ""
    },
    "tags": []
   },
   "outputs": [],
   "source": [
    "import sys\n",
    "sys.path.append('../../')\n",
    "\n",
    "from src.parser import xml\n",
    "from src.llm import ChatGPT\n",
    "from src import LLMFunction"
   ]
  },
  {
   "cell_type": "code",
   "execution_count": 3,
   "id": "c76da684-a1f1-4577-8770-17970d99da53",
   "metadata": {
    "editable": true,
    "slideshow": {
     "slide_type": ""
    },
    "tags": []
   },
   "outputs": [],
   "source": [
    "prompt_template = '''\n",
    "<source_text>\n",
    "{source}\n",
    "</source_text>\n",
    "\n",
    "<target_language>\n",
    "{language}\n",
    "</target_language>\n",
    "\n",
    "<rule>\n",
    "source_text タグで与えられた文章を target_language で指定された言語に翻訳して output タグを用いて出力せよ．\n",
    "</rule>\n",
    "'''.strip()"
   ]
  },
  {
   "cell_type": "code",
   "execution_count": 4,
   "id": "856e4657-9507-487d-92e2-dfa77637958a",
   "metadata": {
    "editable": true,
    "slideshow": {
     "slide_type": ""
    },
    "tags": []
   },
   "outputs": [],
   "source": [
    "llm = ChatGPT()\n",
    "func = LLMFunction(llm, prompt_template=prompt_template,\n",
    "                   input_variables=['source', 'language'],\n",
    "                   output_variables=['output'])"
   ]
  },
  {
   "cell_type": "code",
   "execution_count": 5,
   "id": "5d8f652a-9382-4c67-9171-7ae41e82a609",
   "metadata": {
    "editable": true,
    "slideshow": {
     "slide_type": ""
    },
    "tags": []
   },
   "outputs": [
    {
     "data": {
      "text/plain": [
       "{'output': ['<output>\\nこんにちは、世界！\\n</output>']}"
      ]
     },
     "execution_count": 5,
     "metadata": {},
     "output_type": "execute_result"
    }
   ],
   "source": [
    "func(source='Hello World!!', language='japanese')"
   ]
  },
  {
   "cell_type": "code",
   "execution_count": null,
   "id": "63447b93-f4ab-4ee9-bf32-efaf27851287",
   "metadata": {},
   "outputs": [],
   "source": []
  }
 ],
 "metadata": {
  "kernelspec": {
   "display_name": "Python 3 (ipykernel)",
   "language": "python",
   "name": "python3"
  },
  "language_info": {
   "codemirror_mode": {
    "name": "ipython",
    "version": 3
   },
   "file_extension": ".py",
   "mimetype": "text/x-python",
   "name": "python",
   "nbconvert_exporter": "python",
   "pygments_lexer": "ipython3",
   "version": "3.11.3"
  }
 },
 "nbformat": 4,
 "nbformat_minor": 5
}
