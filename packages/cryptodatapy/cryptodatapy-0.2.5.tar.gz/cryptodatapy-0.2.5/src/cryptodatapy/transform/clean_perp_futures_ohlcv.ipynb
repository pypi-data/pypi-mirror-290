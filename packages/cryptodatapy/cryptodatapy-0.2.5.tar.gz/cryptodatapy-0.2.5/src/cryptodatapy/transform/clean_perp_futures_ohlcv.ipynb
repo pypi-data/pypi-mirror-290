{
 "cells": [
  {
   "cell_type": "code",
   "execution_count": 1,
   "id": "9fea9fae",
   "metadata": {},
   "outputs": [
    {
     "name": "stderr",
     "output_type": "stream",
     "text": [
      "fatal: bad revision 'HEAD'\n",
      "Importing plotly failed. Interactive plots will not work.\n"
     ]
    }
   ],
   "source": [
    "import pandas as pd\n",
    "import numpy as np\n",
    "\n",
    "from cryptodatapy.extract.datarequest import DataRequest\n",
    "from cryptodatapy.extract.getdata import GetData\n",
    "from cryptodatapy.transform.od import OutlierDetection\n",
    "from cryptodatapy.transform.impute import Impute\n",
    "from cryptodatapy.transform.filter import Filter\n",
    "from cryptodatapy.transform.clean import CleanData, stitch_dataframes\n",
    "from cryptodatapy.transform.impute import Impute"
   ]
  },
  {
   "cell_type": "code",
   "execution_count": 2,
   "id": "3cbdeffc",
   "metadata": {},
   "outputs": [],
   "source": [
    "# get all Binance perp futures tickers\n",
    "data_req = DataRequest(source='ccxt')\n",
    "perp_tickers = GetData(data_req).get_meta(method='get_markets_info', exch='binanceusdm', as_list=True)"
   ]
  },
  {
   "cell_type": "code",
   "execution_count": 3,
   "id": "3d084cf7",
   "metadata": {},
   "outputs": [
    {
     "data": {
      "text/plain": [
       "314"
      ]
     },
     "execution_count": 3,
     "metadata": {},
     "output_type": "execute_result"
    }
   ],
   "source": [
    "len(perp_tickers)"
   ]
  },
  {
   "cell_type": "code",
   "execution_count": 4,
   "id": "5e796745",
   "metadata": {},
   "outputs": [
    {
     "data": {
      "text/plain": [
       "True"
      ]
     },
     "execution_count": 4,
     "metadata": {},
     "output_type": "execute_result"
    }
   ],
   "source": [
    "'BTCST/USDT:USDT' in perp_tickers"
   ]
  },
  {
   "cell_type": "code",
   "execution_count": 5,
   "id": "fcb74458",
   "metadata": {},
   "outputs": [],
   "source": [
    "# get Binance spot tickers\n",
    "data_req = DataRequest(source='ccxt')\n",
    "spot_tickers = GetData(data_req).get_meta(method='get_markets_info', exch='binance', as_list=True)"
   ]
  },
  {
   "cell_type": "code",
   "execution_count": 6,
   "id": "4b86fa0d",
   "metadata": {},
   "outputs": [
    {
     "data": {
      "text/plain": [
       "True"
      ]
     },
     "execution_count": 6,
     "metadata": {},
     "output_type": "execute_result"
    }
   ],
   "source": [
    "'BTCST/USDT:USDT' in spot_tickers"
   ]
  },
  {
   "cell_type": "code",
   "execution_count": 7,
   "id": "7962f7e5",
   "metadata": {},
   "outputs": [],
   "source": [
    "# find intersecting tickers\n",
    "binance_tickers = [ticker for ticker in perp_tickers if ticker in spot_tickers]"
   ]
  },
  {
   "cell_type": "code",
   "execution_count": 8,
   "id": "877811c1",
   "metadata": {},
   "outputs": [
    {
     "data": {
      "text/plain": [
       "314"
      ]
     },
     "execution_count": 8,
     "metadata": {},
     "output_type": "execute_result"
    }
   ],
   "source": [
    "# number of tickers\n",
    "len(binance_tickers)"
   ]
  },
  {
   "cell_type": "code",
   "execution_count": 9,
   "id": "4ef7a85b",
   "metadata": {},
   "outputs": [
    {
     "data": {
      "text/plain": [
       "True"
      ]
     },
     "execution_count": 9,
     "metadata": {},
     "output_type": "execute_result"
    }
   ],
   "source": [
    "'BTCST/USDT:USDT' in binance_tickers"
   ]
  },
  {
   "cell_type": "code",
   "execution_count": 10,
   "id": "fe425163",
   "metadata": {},
   "outputs": [],
   "source": [
    "## # get cryptocompare tickers\n",
    "data_req = DataRequest(source='cryptocompare')\n",
    "cc_tickers = GetData(data_req).get_meta(method='get_assets_info', as_list=True)"
   ]
  },
  {
   "cell_type": "code",
   "execution_count": 11,
   "id": "9c63cd43",
   "metadata": {},
   "outputs": [
    {
     "data": {
      "text/plain": [
       "True"
      ]
     },
     "execution_count": 11,
     "metadata": {},
     "output_type": "execute_result"
    }
   ],
   "source": [
    "'BTCST' in cc_tickers"
   ]
  },
  {
   "cell_type": "code",
   "execution_count": 12,
   "id": "165053db",
   "metadata": {},
   "outputs": [],
   "source": [
    "# keep only USDT ticker\n",
    "bin_tickers = []\n",
    "for ticker in binance_tickers:\n",
    "    if '/' in ticker and ticker.split('/')[1] == 'USDT:USDT':\n",
    "        bin_tickers.append(ticker.split('/')[0])"
   ]
  },
  {
   "cell_type": "code",
   "execution_count": 13,
   "id": "c93e487a",
   "metadata": {},
   "outputs": [
    {
     "data": {
      "text/plain": [
       "True"
      ]
     },
     "execution_count": 13,
     "metadata": {},
     "output_type": "execute_result"
    }
   ],
   "source": [
    "'BTCST' in bin_tickers"
   ]
  },
  {
   "cell_type": "code",
   "execution_count": 14,
   "id": "d6cf8a4c",
   "metadata": {},
   "outputs": [],
   "source": [
    "# usdt tickers\n",
    "usdt_tickers = [ticker.split('/')[0] for ticker in binance_tickers if '/'in ticker and ticker.split('/')[1] == 'USDT:USDT']"
   ]
  },
  {
   "cell_type": "code",
   "execution_count": 15,
   "id": "11ec0e6d",
   "metadata": {},
   "outputs": [
    {
     "data": {
      "text/plain": [
       "282"
      ]
     },
     "execution_count": 15,
     "metadata": {},
     "output_type": "execute_result"
    }
   ],
   "source": [
    "len(usdt_tickers)"
   ]
  },
  {
   "cell_type": "code",
   "execution_count": 16,
   "id": "633f7a3e",
   "metadata": {},
   "outputs": [],
   "source": [
    "# intersecting tickers\n",
    "tickers = [ticker for ticker in usdt_tickers if ticker in cc_tickers]"
   ]
  },
  {
   "cell_type": "code",
   "execution_count": 17,
   "id": "30337a71",
   "metadata": {},
   "outputs": [
    {
     "data": {
      "text/plain": [
       "270"
      ]
     },
     "execution_count": 17,
     "metadata": {},
     "output_type": "execute_result"
    }
   ],
   "source": [
    "len(tickers)"
   ]
  },
  {
   "cell_type": "code",
   "execution_count": 18,
   "id": "7bb3b25f",
   "metadata": {},
   "outputs": [
    {
     "data": {
      "text/plain": [
       "True"
      ]
     },
     "execution_count": 18,
     "metadata": {},
     "output_type": "execute_result"
    }
   ],
   "source": [
    "'BTCST' in tickers"
   ]
  },
  {
   "cell_type": "markdown",
   "id": "f80eb97d",
   "metadata": {},
   "source": [
    "### Binance Perp Futures"
   ]
  },
  {
   "cell_type": "code",
   "execution_count": 20,
   "id": "49b09508",
   "metadata": {},
   "outputs": [],
   "source": [
    "# pull daily OHLC and funding rates for perp futures on Binance USDM exchange\n",
    "data_req = DataRequest(source='ccxt',\n",
    "                       tickers=tickers, \n",
    "                       fields=['open', 'high', 'low', 'close', 'volume', 'funding_rate'], \n",
    "                       mkt_type='perpetual_future', \n",
    "                       freq='d')"
   ]
  },
  {
   "cell_type": "code",
   "execution_count": 21,
   "id": "6ac9365b",
   "metadata": {},
   "outputs": [
    {
     "name": "stderr",
     "output_type": "stream",
     "text": [
      "WARNING:root:Failed to get ohlcv data for BTCST/USDT.\n",
      "WARNING:root:binanceusdm {\"code\":-1122,\"msg\":\"Invalid symbol status.\"}\n",
      "WARNING:root:Failed to pull data on attempt #1.\n",
      "WARNING:root:Failed to get ohlcv data for BTCST/USDT.\n",
      "WARNING:root:binanceusdm {\"code\":-1122,\"msg\":\"Invalid symbol status.\"}\n",
      "WARNING:root:Failed to pull data on attempt #2.\n",
      "WARNING:root:Failed to get ohlcv data for BTCST/USDT.\n",
      "WARNING:root:binanceusdm {\"code\":-1122,\"msg\":\"Invalid symbol status.\"}\n",
      "WARNING:root:Failed to pull data on attempt #3.\n",
      "WARNING:root:Failed to get OHLCV data from binanceusdm for BTCST/USDT after many attempts.\n"
     ]
    }
   ],
   "source": [
    "df1 = GetData(data_req).get_series()"
   ]
  },
  {
   "cell_type": "code",
   "execution_count": 22,
   "id": "364bb46e",
   "metadata": {},
   "outputs": [
    {
     "data": {
      "text/html": [
       "<div>\n",
       "<style scoped>\n",
       "    .dataframe tbody tr th:only-of-type {\n",
       "        vertical-align: middle;\n",
       "    }\n",
       "\n",
       "    .dataframe tbody tr th {\n",
       "        vertical-align: top;\n",
       "    }\n",
       "\n",
       "    .dataframe thead th {\n",
       "        text-align: right;\n",
       "    }\n",
       "</style>\n",
       "<table border=\"1\" class=\"dataframe\">\n",
       "  <thead>\n",
       "    <tr style=\"text-align: right;\">\n",
       "      <th></th>\n",
       "      <th></th>\n",
       "      <th>open</th>\n",
       "      <th>high</th>\n",
       "      <th>low</th>\n",
       "      <th>close</th>\n",
       "      <th>volume</th>\n",
       "      <th>funding_rate</th>\n",
       "    </tr>\n",
       "    <tr>\n",
       "      <th>date</th>\n",
       "      <th>ticker</th>\n",
       "      <th></th>\n",
       "      <th></th>\n",
       "      <th></th>\n",
       "      <th></th>\n",
       "      <th></th>\n",
       "      <th></th>\n",
       "    </tr>\n",
       "  </thead>\n",
       "  <tbody>\n",
       "    <tr>\n",
       "      <th>2019-09-08</th>\n",
       "      <th>BTC</th>\n",
       "      <td>10000.0</td>\n",
       "      <td>10412.65</td>\n",
       "      <td>10000.0</td>\n",
       "      <td>10391.63</td>\n",
       "      <td>3096.291</td>\n",
       "      <td>&lt;NA&gt;</td>\n",
       "    </tr>\n",
       "    <tr>\n",
       "      <th>2019-09-09</th>\n",
       "      <th>BTC</th>\n",
       "      <td>10316.62</td>\n",
       "      <td>10475.54</td>\n",
       "      <td>10077.22</td>\n",
       "      <td>10307.0</td>\n",
       "      <td>14824.373</td>\n",
       "      <td>&lt;NA&gt;</td>\n",
       "    </tr>\n",
       "    <tr>\n",
       "      <th>2019-09-10</th>\n",
       "      <th>BTC</th>\n",
       "      <td>10307.0</td>\n",
       "      <td>10382.97</td>\n",
       "      <td>9940.87</td>\n",
       "      <td>10102.02</td>\n",
       "      <td>9068.955</td>\n",
       "      <td>0.0002</td>\n",
       "    </tr>\n",
       "    <tr>\n",
       "      <th>2019-09-11</th>\n",
       "      <th>BTC</th>\n",
       "      <td>10094.27</td>\n",
       "      <td>10293.11</td>\n",
       "      <td>9884.31</td>\n",
       "      <td>10159.55</td>\n",
       "      <td>10897.922</td>\n",
       "      <td>0.0003</td>\n",
       "    </tr>\n",
       "    <tr>\n",
       "      <th>2019-09-12</th>\n",
       "      <th>BTC</th>\n",
       "      <td>10163.06</td>\n",
       "      <td>10450.13</td>\n",
       "      <td>10042.12</td>\n",
       "      <td>10415.13</td>\n",
       "      <td>15609.634</td>\n",
       "      <td>0.0003</td>\n",
       "    </tr>\n",
       "    <tr>\n",
       "      <th>...</th>\n",
       "      <th>...</th>\n",
       "      <td>...</td>\n",
       "      <td>...</td>\n",
       "      <td>...</td>\n",
       "      <td>...</td>\n",
       "      <td>...</td>\n",
       "      <td>...</td>\n",
       "    </tr>\n",
       "    <tr>\n",
       "      <th rowspan=\"5\" valign=\"top\">2024-08-13</th>\n",
       "      <th>ZETA</th>\n",
       "      <td>0.6558</td>\n",
       "      <td>0.7099</td>\n",
       "      <td>0.6143</td>\n",
       "      <td>0.6556</td>\n",
       "      <td>290931468.0</td>\n",
       "      <td>-0.001465</td>\n",
       "    </tr>\n",
       "    <tr>\n",
       "      <th>ZIL</th>\n",
       "      <td>0.01394</td>\n",
       "      <td>0.01397</td>\n",
       "      <td>0.01348</td>\n",
       "      <td>0.01372</td>\n",
       "      <td>211016383.0</td>\n",
       "      <td>0.0002</td>\n",
       "    </tr>\n",
       "    <tr>\n",
       "      <th>ZK</th>\n",
       "      <td>0.11683</td>\n",
       "      <td>0.11895</td>\n",
       "      <td>0.11223</td>\n",
       "      <td>0.11713</td>\n",
       "      <td>180118593.0</td>\n",
       "      <td>0.0002</td>\n",
       "    </tr>\n",
       "    <tr>\n",
       "      <th>ZRO</th>\n",
       "      <td>3.509</td>\n",
       "      <td>3.533</td>\n",
       "      <td>3.349</td>\n",
       "      <td>3.459</td>\n",
       "      <td>10802271.5</td>\n",
       "      <td>0.000173</td>\n",
       "    </tr>\n",
       "    <tr>\n",
       "      <th>ZRX</th>\n",
       "      <td>0.3102</td>\n",
       "      <td>0.3126</td>\n",
       "      <td>0.3</td>\n",
       "      <td>0.3083</td>\n",
       "      <td>18072404.9</td>\n",
       "      <td>-0.000044</td>\n",
       "    </tr>\n",
       "  </tbody>\n",
       "</table>\n",
       "<p>222221 rows × 6 columns</p>\n",
       "</div>"
      ],
      "text/plain": [
       "                       open      high       low     close       volume  \\\n",
       "date       ticker                                                        \n",
       "2019-09-08 BTC      10000.0  10412.65   10000.0  10391.63     3096.291   \n",
       "2019-09-09 BTC     10316.62  10475.54  10077.22   10307.0    14824.373   \n",
       "2019-09-10 BTC      10307.0  10382.97   9940.87  10102.02     9068.955   \n",
       "2019-09-11 BTC     10094.27  10293.11   9884.31  10159.55    10897.922   \n",
       "2019-09-12 BTC     10163.06  10450.13  10042.12  10415.13    15609.634   \n",
       "...                     ...       ...       ...       ...          ...   \n",
       "2024-08-13 ZETA      0.6558    0.7099    0.6143    0.6556  290931468.0   \n",
       "           ZIL      0.01394   0.01397   0.01348   0.01372  211016383.0   \n",
       "           ZK       0.11683   0.11895   0.11223   0.11713  180118593.0   \n",
       "           ZRO        3.509     3.533     3.349     3.459   10802271.5   \n",
       "           ZRX       0.3102    0.3126       0.3    0.3083   18072404.9   \n",
       "\n",
       "                   funding_rate  \n",
       "date       ticker                \n",
       "2019-09-08 BTC             <NA>  \n",
       "2019-09-09 BTC             <NA>  \n",
       "2019-09-10 BTC           0.0002  \n",
       "2019-09-11 BTC           0.0003  \n",
       "2019-09-12 BTC           0.0003  \n",
       "...                         ...  \n",
       "2024-08-13 ZETA       -0.001465  \n",
       "           ZIL           0.0002  \n",
       "           ZK            0.0002  \n",
       "           ZRO         0.000173  \n",
       "           ZRX        -0.000044  \n",
       "\n",
       "[222221 rows x 6 columns]"
      ]
     },
     "execution_count": 22,
     "metadata": {},
     "output_type": "execute_result"
    }
   ],
   "source": [
    "df1"
   ]
  },
  {
   "cell_type": "code",
   "execution_count": 23,
   "id": "98a425b2",
   "metadata": {},
   "outputs": [],
   "source": [
    "# df1.to_csv('binance_perp_futures.csv')\n",
    "df1 = pd.read_csv('../../../../factorlab/notebooks/binance_perp_futures.csv', index_col=['date', 'ticker'], parse_dates=['date'])"
   ]
  },
  {
   "cell_type": "code",
   "execution_count": 24,
   "id": "0e04da4a",
   "metadata": {},
   "outputs": [
    {
     "data": {
      "text/html": [
       "<div>\n",
       "<style scoped>\n",
       "    .dataframe tbody tr th:only-of-type {\n",
       "        vertical-align: middle;\n",
       "    }\n",
       "\n",
       "    .dataframe tbody tr th {\n",
       "        vertical-align: top;\n",
       "    }\n",
       "\n",
       "    .dataframe thead th {\n",
       "        text-align: right;\n",
       "    }\n",
       "</style>\n",
       "<table border=\"1\" class=\"dataframe\">\n",
       "  <thead>\n",
       "    <tr style=\"text-align: right;\">\n",
       "      <th></th>\n",
       "      <th></th>\n",
       "      <th>open</th>\n",
       "      <th>high</th>\n",
       "      <th>low</th>\n",
       "      <th>close</th>\n",
       "      <th>volume</th>\n",
       "      <th>funding_rate</th>\n",
       "    </tr>\n",
       "    <tr>\n",
       "      <th>date</th>\n",
       "      <th>ticker</th>\n",
       "      <th></th>\n",
       "      <th></th>\n",
       "      <th></th>\n",
       "      <th></th>\n",
       "      <th></th>\n",
       "      <th></th>\n",
       "    </tr>\n",
       "  </thead>\n",
       "  <tbody>\n",
       "    <tr>\n",
       "      <th>2019-09-08</th>\n",
       "      <th>BTC</th>\n",
       "      <td>10000.00</td>\n",
       "      <td>10412.65</td>\n",
       "      <td>10000.00</td>\n",
       "      <td>10391.63</td>\n",
       "      <td>3096.291</td>\n",
       "      <td>NaN</td>\n",
       "    </tr>\n",
       "    <tr>\n",
       "      <th>2019-09-09</th>\n",
       "      <th>BTC</th>\n",
       "      <td>10316.62</td>\n",
       "      <td>10475.54</td>\n",
       "      <td>10077.22</td>\n",
       "      <td>10307.00</td>\n",
       "      <td>14824.373</td>\n",
       "      <td>NaN</td>\n",
       "    </tr>\n",
       "    <tr>\n",
       "      <th>2019-09-10</th>\n",
       "      <th>BTC</th>\n",
       "      <td>10307.00</td>\n",
       "      <td>10382.97</td>\n",
       "      <td>9940.87</td>\n",
       "      <td>10102.02</td>\n",
       "      <td>9068.955</td>\n",
       "      <td>0.0002</td>\n",
       "    </tr>\n",
       "    <tr>\n",
       "      <th>2019-09-11</th>\n",
       "      <th>BTC</th>\n",
       "      <td>10094.27</td>\n",
       "      <td>10293.11</td>\n",
       "      <td>9884.31</td>\n",
       "      <td>10159.55</td>\n",
       "      <td>10897.922</td>\n",
       "      <td>0.0003</td>\n",
       "    </tr>\n",
       "    <tr>\n",
       "      <th>2019-09-12</th>\n",
       "      <th>BTC</th>\n",
       "      <td>10163.06</td>\n",
       "      <td>10450.13</td>\n",
       "      <td>10042.12</td>\n",
       "      <td>10415.13</td>\n",
       "      <td>15609.634</td>\n",
       "      <td>0.0003</td>\n",
       "    </tr>\n",
       "  </tbody>\n",
       "</table>\n",
       "</div>"
      ],
      "text/plain": [
       "                       open      high       low     close     volume  \\\n",
       "date       ticker                                                      \n",
       "2019-09-08 BTC     10000.00  10412.65  10000.00  10391.63   3096.291   \n",
       "2019-09-09 BTC     10316.62  10475.54  10077.22  10307.00  14824.373   \n",
       "2019-09-10 BTC     10307.00  10382.97   9940.87  10102.02   9068.955   \n",
       "2019-09-11 BTC     10094.27  10293.11   9884.31  10159.55  10897.922   \n",
       "2019-09-12 BTC     10163.06  10450.13  10042.12  10415.13  15609.634   \n",
       "\n",
       "                   funding_rate  \n",
       "date       ticker                \n",
       "2019-09-08 BTC              NaN  \n",
       "2019-09-09 BTC              NaN  \n",
       "2019-09-10 BTC           0.0002  \n",
       "2019-09-11 BTC           0.0003  \n",
       "2019-09-12 BTC           0.0003  "
      ]
     },
     "execution_count": 24,
     "metadata": {},
     "output_type": "execute_result"
    }
   ],
   "source": [
    "df1.head()"
   ]
  },
  {
   "cell_type": "markdown",
   "id": "32f15191",
   "metadata": {},
   "source": [
    "### Binance Spot"
   ]
  },
  {
   "cell_type": "code",
   "execution_count": 25,
   "id": "83e9e466",
   "metadata": {},
   "outputs": [],
   "source": [
    "# pull OHLC from Binance\n",
    "data_req = DataRequest(source='ccxt',\n",
    "                       tickers=tickers, \n",
    "                       fields=['open', 'high', 'low', 'close', 'volume'], \n",
    "                       freq='d')"
   ]
  },
  {
   "cell_type": "code",
   "execution_count": 26,
   "id": "82d4bbc7",
   "metadata": {},
   "outputs": [
    {
     "name": "stderr",
     "output_type": "stream",
     "text": [
      "WARNING:root:Missing recent OHLCV data for XMR/USDT.\n",
      "WARNING:root:Missing recent OHLCV data for OMG/USDT.\n",
      "WARNING:root:Missing recent OHLCV data for WAVES/USDT.\n",
      "WARNING:root:Missing recent OHLCV data for OCEAN/USDT.\n",
      "WARNING:root:Missing recent OHLCV data for XEM/USDT.\n",
      "WARNING:root:Missing recent OHLCV data for BTCST/USDT.\n",
      "WARNING:root:Missing recent OHLCV data for AGIX/USDT.\n",
      "WARNING:root:Missing recent OHLCV data for BOND/USDT.\n",
      "WARNING:root:Missing recent OHLCV data for BSV/USDT.\n"
     ]
    }
   ],
   "source": [
    "df2 = GetData(data_req).get_series()"
   ]
  },
  {
   "cell_type": "code",
   "execution_count": 27,
   "id": "4f63eb21",
   "metadata": {},
   "outputs": [],
   "source": [
    "# df2.to_csv('binance_spot.csv')\n",
    "df2 = pd.read_csv('../../../../factorlab/notebooks/binance_spot.csv', index_col=['date', 'ticker'], parse_dates=['date'])"
   ]
  },
  {
   "cell_type": "code",
   "execution_count": 28,
   "id": "ce8929c1",
   "metadata": {},
   "outputs": [
    {
     "data": {
      "text/html": [
       "<div>\n",
       "<style scoped>\n",
       "    .dataframe tbody tr th:only-of-type {\n",
       "        vertical-align: middle;\n",
       "    }\n",
       "\n",
       "    .dataframe tbody tr th {\n",
       "        vertical-align: top;\n",
       "    }\n",
       "\n",
       "    .dataframe thead th {\n",
       "        text-align: right;\n",
       "    }\n",
       "</style>\n",
       "<table border=\"1\" class=\"dataframe\">\n",
       "  <thead>\n",
       "    <tr style=\"text-align: right;\">\n",
       "      <th></th>\n",
       "      <th></th>\n",
       "      <th>open</th>\n",
       "      <th>high</th>\n",
       "      <th>low</th>\n",
       "      <th>close</th>\n",
       "      <th>volume</th>\n",
       "    </tr>\n",
       "    <tr>\n",
       "      <th>date</th>\n",
       "      <th>ticker</th>\n",
       "      <th></th>\n",
       "      <th></th>\n",
       "      <th></th>\n",
       "      <th></th>\n",
       "      <th></th>\n",
       "    </tr>\n",
       "  </thead>\n",
       "  <tbody>\n",
       "    <tr>\n",
       "      <th rowspan=\"2\" valign=\"top\">2017-08-17</th>\n",
       "      <th>BTC</th>\n",
       "      <td>4261.48</td>\n",
       "      <td>4485.39</td>\n",
       "      <td>4200.74</td>\n",
       "      <td>4285.08</td>\n",
       "      <td>795.150377</td>\n",
       "    </tr>\n",
       "    <tr>\n",
       "      <th>ETH</th>\n",
       "      <td>301.13</td>\n",
       "      <td>312.18</td>\n",
       "      <td>298.00</td>\n",
       "      <td>302.00</td>\n",
       "      <td>7030.710340</td>\n",
       "    </tr>\n",
       "    <tr>\n",
       "      <th rowspan=\"2\" valign=\"top\">2017-08-18</th>\n",
       "      <th>BTC</th>\n",
       "      <td>4285.08</td>\n",
       "      <td>4371.52</td>\n",
       "      <td>3938.77</td>\n",
       "      <td>4108.37</td>\n",
       "      <td>1199.888264</td>\n",
       "    </tr>\n",
       "    <tr>\n",
       "      <th>ETH</th>\n",
       "      <td>302.00</td>\n",
       "      <td>311.79</td>\n",
       "      <td>283.94</td>\n",
       "      <td>293.96</td>\n",
       "      <td>9537.846460</td>\n",
       "    </tr>\n",
       "    <tr>\n",
       "      <th>2017-08-19</th>\n",
       "      <th>BTC</th>\n",
       "      <td>4108.37</td>\n",
       "      <td>4184.69</td>\n",
       "      <td>3850.00</td>\n",
       "      <td>4139.98</td>\n",
       "      <td>381.309763</td>\n",
       "    </tr>\n",
       "  </tbody>\n",
       "</table>\n",
       "</div>"
      ],
      "text/plain": [
       "                      open     high      low    close       volume\n",
       "date       ticker                                                 \n",
       "2017-08-17 BTC     4261.48  4485.39  4200.74  4285.08   795.150377\n",
       "           ETH      301.13   312.18   298.00   302.00  7030.710340\n",
       "2017-08-18 BTC     4285.08  4371.52  3938.77  4108.37  1199.888264\n",
       "           ETH      302.00   311.79   283.94   293.96  9537.846460\n",
       "2017-08-19 BTC     4108.37  4184.69  3850.00  4139.98   381.309763"
      ]
     },
     "execution_count": 28,
     "metadata": {},
     "output_type": "execute_result"
    }
   ],
   "source": [
    "df2.head()"
   ]
  },
  {
   "cell_type": "markdown",
   "id": "05f93b91",
   "metadata": {},
   "source": [
    "### CryptoCompare - Historical Prices"
   ]
  },
  {
   "cell_type": "code",
   "execution_count": 29,
   "id": "7f14d874",
   "metadata": {},
   "outputs": [],
   "source": [
    "# pull OHLC from CryptoCompare\n",
    "data_req = DataRequest(source='cryptocompare',\n",
    "                       tickers=tickers, \n",
    "                       fields=['open', 'high', 'low', 'close', 'volume'], \n",
    "                       freq='d')"
   ]
  },
  {
   "cell_type": "code",
   "execution_count": 30,
   "id": "3a8708d3",
   "metadata": {},
   "outputs": [],
   "source": [
    "df3 = GetData(data_req).get_series()"
   ]
  },
  {
   "cell_type": "code",
   "execution_count": 31,
   "id": "aa265538",
   "metadata": {},
   "outputs": [],
   "source": [
    "# df3.to_csv('cc_spot.csv')\n",
    "df3 = pd.read_csv('../../../../factorlab/notebooks/cc_spot.csv', index_col=['date', 'ticker'], parse_dates=['date'])"
   ]
  },
  {
   "cell_type": "markdown",
   "id": "5664e968",
   "metadata": {},
   "source": [
    "### Clean Data"
   ]
  },
  {
   "cell_type": "code",
   "execution_count": 32,
   "id": "f5ee4f6d",
   "metadata": {},
   "outputs": [],
   "source": [
    "df = stitch_dataframes([df1, df2, df3])\n",
    "df.funding_rate = df.funding_rate.fillna(0)"
   ]
  },
  {
   "cell_type": "code",
   "execution_count": 33,
   "id": "cbe07c91",
   "metadata": {},
   "outputs": [
    {
     "data": {
      "text/html": [
       "<div>\n",
       "<style scoped>\n",
       "    .dataframe tbody tr th:only-of-type {\n",
       "        vertical-align: middle;\n",
       "    }\n",
       "\n",
       "    .dataframe tbody tr th {\n",
       "        vertical-align: top;\n",
       "    }\n",
       "\n",
       "    .dataframe thead th {\n",
       "        text-align: right;\n",
       "    }\n",
       "</style>\n",
       "<table border=\"1\" class=\"dataframe\">\n",
       "  <thead>\n",
       "    <tr style=\"text-align: right;\">\n",
       "      <th></th>\n",
       "      <th></th>\n",
       "      <th>open</th>\n",
       "      <th>high</th>\n",
       "      <th>low</th>\n",
       "      <th>close</th>\n",
       "      <th>volume</th>\n",
       "      <th>funding_rate</th>\n",
       "    </tr>\n",
       "    <tr>\n",
       "      <th>date</th>\n",
       "      <th>ticker</th>\n",
       "      <th></th>\n",
       "      <th></th>\n",
       "      <th></th>\n",
       "      <th></th>\n",
       "      <th></th>\n",
       "      <th></th>\n",
       "    </tr>\n",
       "  </thead>\n",
       "  <tbody>\n",
       "    <tr>\n",
       "      <th>2010-07-17</th>\n",
       "      <th>BTC</th>\n",
       "      <td>0.04951</td>\n",
       "      <td>0.04951</td>\n",
       "      <td>0.04951</td>\n",
       "      <td>0.04951</td>\n",
       "      <td>20.00</td>\n",
       "      <td>0.0</td>\n",
       "    </tr>\n",
       "    <tr>\n",
       "      <th>2010-07-18</th>\n",
       "      <th>BTC</th>\n",
       "      <td>0.04951</td>\n",
       "      <td>0.08585</td>\n",
       "      <td>0.04951</td>\n",
       "      <td>0.08584</td>\n",
       "      <td>75.01</td>\n",
       "      <td>0.0</td>\n",
       "    </tr>\n",
       "    <tr>\n",
       "      <th>2010-07-19</th>\n",
       "      <th>BTC</th>\n",
       "      <td>0.08584</td>\n",
       "      <td>0.09307</td>\n",
       "      <td>0.07723</td>\n",
       "      <td>0.08080</td>\n",
       "      <td>574.00</td>\n",
       "      <td>0.0</td>\n",
       "    </tr>\n",
       "    <tr>\n",
       "      <th>2010-07-20</th>\n",
       "      <th>BTC</th>\n",
       "      <td>0.08080</td>\n",
       "      <td>0.08181</td>\n",
       "      <td>0.07426</td>\n",
       "      <td>0.07474</td>\n",
       "      <td>262.00</td>\n",
       "      <td>0.0</td>\n",
       "    </tr>\n",
       "    <tr>\n",
       "      <th>2010-07-21</th>\n",
       "      <th>BTC</th>\n",
       "      <td>0.07474</td>\n",
       "      <td>0.07921</td>\n",
       "      <td>0.06634</td>\n",
       "      <td>0.07921</td>\n",
       "      <td>575.00</td>\n",
       "      <td>0.0</td>\n",
       "    </tr>\n",
       "  </tbody>\n",
       "</table>\n",
       "</div>"
      ],
      "text/plain": [
       "                      open     high      low    close  volume  funding_rate\n",
       "date       ticker                                                          \n",
       "2010-07-17 BTC     0.04951  0.04951  0.04951  0.04951   20.00           0.0\n",
       "2010-07-18 BTC     0.04951  0.08585  0.04951  0.08584   75.01           0.0\n",
       "2010-07-19 BTC     0.08584  0.09307  0.07723  0.08080  574.00           0.0\n",
       "2010-07-20 BTC     0.08080  0.08181  0.07426  0.07474  262.00           0.0\n",
       "2010-07-21 BTC     0.07474  0.07921  0.06634  0.07921  575.00           0.0"
      ]
     },
     "execution_count": 33,
     "metadata": {},
     "output_type": "execute_result"
    }
   ],
   "source": [
    "df.head()"
   ]
  },
  {
   "cell_type": "code",
   "execution_count": 34,
   "id": "cef46007",
   "metadata": {},
   "outputs": [
    {
     "data": {
      "text/plain": [
       "Index(['BTC', 'LTC', 'DOGE', 'DASH', 'XLM', 'XMR', 'XRP', 'KEY', 'DGB', 'XEM',\n",
       "       ...\n",
       "       'TNSR', 'SAGA', 'REZ', 'BB', 'NOT', 'IO', 'ZK', 'LISTA', 'ZRO',\n",
       "       'RENDER'],\n",
       "      dtype='object', name='ticker', length=256)"
      ]
     },
     "execution_count": 34,
     "metadata": {},
     "output_type": "execute_result"
    }
   ],
   "source": [
    "df.index.get_level_values(1).unique()"
   ]
  },
  {
   "cell_type": "code",
   "execution_count": null,
   "id": "d4c497d1",
   "metadata": {},
   "outputs": [],
   "source": [
    "delisted_tickers = ['AGIX', 'CTK', 'CVC', 'CVX', 'DGB', 'FTT', 'GLMR', 'IDEX', 'MDT',\n",
    "       'OCEAN', 'RAD', 'RAY', 'SC', 'SLP', 'SNT', 'STPT', 'STRAX', 'WAVES']"
   ]
  },
  {
   "cell_type": "code",
   "execution_count": 35,
   "id": "9f8a899f",
   "metadata": {},
   "outputs": [],
   "source": [
    "clean = CleanData(df)"
   ]
  },
  {
   "cell_type": "code",
   "execution_count": 36,
   "id": "29e1b955",
   "metadata": {},
   "outputs": [
    {
     "data": {
      "text/plain": [
       "<cryptodatapy.transform.clean.CleanData at 0x7fb888103af0>"
      ]
     },
     "execution_count": 36,
     "metadata": {},
     "output_type": "execute_result"
    }
   ],
   "source": [
    "clean.filter_delisted_tickers()"
   ]
  },
  {
   "cell_type": "code",
   "execution_count": 37,
   "id": "9315f178",
   "metadata": {},
   "outputs": [
    {
     "data": {
      "text/plain": [
       "['CVC',\n",
       " 'CTK',\n",
       " 'STRAX',\n",
       " 'STPT',\n",
       " 'DGB',\n",
       " 'CVX',\n",
       " 'FTT',\n",
       " 'GLMR',\n",
       " 'OCEAN',\n",
       " 'SLP',\n",
       " 'AGIX',\n",
       " 'RAY',\n",
       " 'MDT',\n",
       " 'SC',\n",
       " 'SNT',\n",
       " 'IDEX',\n",
       " 'RAD',\n",
       " 'WAVES']"
      ]
     },
     "execution_count": 37,
     "metadata": {},
     "output_type": "execute_result"
    }
   ],
   "source": [
    "clean.filtered_tickers"
   ]
  },
  {
   "cell_type": "code",
   "execution_count": 38,
   "id": "e4693e52",
   "metadata": {},
   "outputs": [
    {
     "data": {
      "text/plain": [
       "<cryptodatapy.transform.clean.CleanData at 0x7fb888103af0>"
      ]
     },
     "execution_count": 38,
     "metadata": {},
     "output_type": "execute_result"
    }
   ],
   "source": [
    "clean.filter_outliers(od_method='mad', excl_cols=['volume', 'funding_rate'], thresh_val=10)"
   ]
  },
  {
   "cell_type": "code",
   "execution_count": 39,
   "id": "311ee6ed",
   "metadata": {},
   "outputs": [
    {
     "data": {
      "text/html": [
       "<div>\n",
       "<style scoped>\n",
       "    .dataframe tbody tr th:only-of-type {\n",
       "        vertical-align: middle;\n",
       "    }\n",
       "\n",
       "    .dataframe tbody tr th {\n",
       "        vertical-align: top;\n",
       "    }\n",
       "\n",
       "    .dataframe thead th {\n",
       "        text-align: right;\n",
       "    }\n",
       "</style>\n",
       "<table border=\"1\" class=\"dataframe\">\n",
       "  <thead>\n",
       "    <tr style=\"text-align: right;\">\n",
       "      <th></th>\n",
       "      <th></th>\n",
       "      <th>open</th>\n",
       "      <th>high</th>\n",
       "      <th>low</th>\n",
       "      <th>close</th>\n",
       "    </tr>\n",
       "    <tr>\n",
       "      <th>date</th>\n",
       "      <th>ticker</th>\n",
       "      <th></th>\n",
       "      <th></th>\n",
       "      <th></th>\n",
       "      <th></th>\n",
       "    </tr>\n",
       "  </thead>\n",
       "  <tbody>\n",
       "    <tr>\n",
       "      <th>2010-07-17</th>\n",
       "      <th>BTC</th>\n",
       "      <td>&lt;NA&gt;</td>\n",
       "      <td>&lt;NA&gt;</td>\n",
       "      <td>&lt;NA&gt;</td>\n",
       "      <td>&lt;NA&gt;</td>\n",
       "    </tr>\n",
       "    <tr>\n",
       "      <th>2010-07-18</th>\n",
       "      <th>BTC</th>\n",
       "      <td>&lt;NA&gt;</td>\n",
       "      <td>&lt;NA&gt;</td>\n",
       "      <td>&lt;NA&gt;</td>\n",
       "      <td>&lt;NA&gt;</td>\n",
       "    </tr>\n",
       "    <tr>\n",
       "      <th>2010-07-19</th>\n",
       "      <th>BTC</th>\n",
       "      <td>&lt;NA&gt;</td>\n",
       "      <td>&lt;NA&gt;</td>\n",
       "      <td>&lt;NA&gt;</td>\n",
       "      <td>&lt;NA&gt;</td>\n",
       "    </tr>\n",
       "    <tr>\n",
       "      <th>2010-07-20</th>\n",
       "      <th>BTC</th>\n",
       "      <td>&lt;NA&gt;</td>\n",
       "      <td>&lt;NA&gt;</td>\n",
       "      <td>&lt;NA&gt;</td>\n",
       "      <td>&lt;NA&gt;</td>\n",
       "    </tr>\n",
       "    <tr>\n",
       "      <th>2010-07-21</th>\n",
       "      <th>BTC</th>\n",
       "      <td>&lt;NA&gt;</td>\n",
       "      <td>&lt;NA&gt;</td>\n",
       "      <td>&lt;NA&gt;</td>\n",
       "      <td>&lt;NA&gt;</td>\n",
       "    </tr>\n",
       "    <tr>\n",
       "      <th>...</th>\n",
       "      <th>...</th>\n",
       "      <td>...</td>\n",
       "      <td>...</td>\n",
       "      <td>...</td>\n",
       "      <td>...</td>\n",
       "    </tr>\n",
       "    <tr>\n",
       "      <th rowspan=\"5\" valign=\"top\">2024-08-04</th>\n",
       "      <th>ZEN</th>\n",
       "      <td>&lt;NA&gt;</td>\n",
       "      <td>9.112</td>\n",
       "      <td>8.285</td>\n",
       "      <td>8.462</td>\n",
       "    </tr>\n",
       "    <tr>\n",
       "      <th>ZIL</th>\n",
       "      <td>0.01422</td>\n",
       "      <td>0.01441</td>\n",
       "      <td>0.01392</td>\n",
       "      <td>0.01396</td>\n",
       "    </tr>\n",
       "    <tr>\n",
       "      <th>ZK</th>\n",
       "      <td>0.11451</td>\n",
       "      <td>0.11673</td>\n",
       "      <td>0.10857</td>\n",
       "      <td>0.10874</td>\n",
       "    </tr>\n",
       "    <tr>\n",
       "      <th>ZRO</th>\n",
       "      <td>3.631</td>\n",
       "      <td>3.648</td>\n",
       "      <td>3.362</td>\n",
       "      <td>3.367</td>\n",
       "    </tr>\n",
       "    <tr>\n",
       "      <th>ZRX</th>\n",
       "      <td>0.3055</td>\n",
       "      <td>0.3121</td>\n",
       "      <td>0.2983</td>\n",
       "      <td>0.2988</td>\n",
       "    </tr>\n",
       "  </tbody>\n",
       "</table>\n",
       "<p>357696 rows × 4 columns</p>\n",
       "</div>"
      ],
      "text/plain": [
       "                      open     high      low    close\n",
       "date       ticker                                    \n",
       "2010-07-17 BTC        <NA>     <NA>     <NA>     <NA>\n",
       "2010-07-18 BTC        <NA>     <NA>     <NA>     <NA>\n",
       "2010-07-19 BTC        <NA>     <NA>     <NA>     <NA>\n",
       "2010-07-20 BTC        <NA>     <NA>     <NA>     <NA>\n",
       "2010-07-21 BTC        <NA>     <NA>     <NA>     <NA>\n",
       "...                    ...      ...      ...      ...\n",
       "2024-08-04 ZEN        <NA>    9.112    8.285    8.462\n",
       "           ZIL     0.01422  0.01441  0.01392  0.01396\n",
       "           ZK      0.11451  0.11673  0.10857  0.10874\n",
       "           ZRO       3.631    3.648    3.362    3.367\n",
       "           ZRX      0.3055   0.3121   0.2983   0.2988\n",
       "\n",
       "[357696 rows x 4 columns]"
      ]
     },
     "execution_count": 39,
     "metadata": {},
     "output_type": "execute_result"
    }
   ],
   "source": [
    "clean.df"
   ]
  },
  {
   "cell_type": "code",
   "execution_count": 40,
   "id": "83caa2c6",
   "metadata": {},
   "outputs": [
    {
     "data": {
      "text/plain": [
       "<cryptodatapy.transform.clean.CleanData at 0x7fb888103af0>"
      ]
     },
     "execution_count": 40,
     "metadata": {},
     "output_type": "execute_result"
    }
   ],
   "source": [
    "clean.repair_outliers(imp_method='fcst')"
   ]
  },
  {
   "cell_type": "code",
   "execution_count": 41,
   "id": "f4c21352",
   "metadata": {},
   "outputs": [
    {
     "data": {
      "text/html": [
       "<div>\n",
       "<style scoped>\n",
       "    .dataframe tbody tr th:only-of-type {\n",
       "        vertical-align: middle;\n",
       "    }\n",
       "\n",
       "    .dataframe tbody tr th {\n",
       "        vertical-align: top;\n",
       "    }\n",
       "\n",
       "    .dataframe thead th {\n",
       "        text-align: right;\n",
       "    }\n",
       "</style>\n",
       "<table border=\"1\" class=\"dataframe\">\n",
       "  <thead>\n",
       "    <tr style=\"text-align: right;\">\n",
       "      <th></th>\n",
       "      <th></th>\n",
       "      <th>open</th>\n",
       "      <th>high</th>\n",
       "      <th>low</th>\n",
       "      <th>close</th>\n",
       "      <th>volume</th>\n",
       "      <th>funding_rate</th>\n",
       "    </tr>\n",
       "    <tr>\n",
       "      <th>date</th>\n",
       "      <th>ticker</th>\n",
       "      <th></th>\n",
       "      <th></th>\n",
       "      <th></th>\n",
       "      <th></th>\n",
       "      <th></th>\n",
       "      <th></th>\n",
       "    </tr>\n",
       "  </thead>\n",
       "  <tbody>\n",
       "    <tr>\n",
       "      <th>2010-07-17</th>\n",
       "      <th>BTC</th>\n",
       "      <td>42.99</td>\n",
       "      <td>43.76</td>\n",
       "      <td>40.99</td>\n",
       "      <td>41.01</td>\n",
       "      <td>2.000000e+01</td>\n",
       "      <td>0.000000</td>\n",
       "    </tr>\n",
       "    <tr>\n",
       "      <th>2010-07-18</th>\n",
       "      <th>BTC</th>\n",
       "      <td>0.07921</td>\n",
       "      <td>0.08181</td>\n",
       "      <td>0.06634</td>\n",
       "      <td>0.07921</td>\n",
       "      <td>7.501000e+01</td>\n",
       "      <td>0.000000</td>\n",
       "    </tr>\n",
       "    <tr>\n",
       "      <th>2010-07-19</th>\n",
       "      <th>BTC</th>\n",
       "      <td>0.07474</td>\n",
       "      <td>0.07921</td>\n",
       "      <td>0.0505</td>\n",
       "      <td>0.06262</td>\n",
       "      <td>5.740000e+02</td>\n",
       "      <td>0.000000</td>\n",
       "    </tr>\n",
       "    <tr>\n",
       "      <th>2010-07-20</th>\n",
       "      <th>BTC</th>\n",
       "      <td>0.06868</td>\n",
       "      <td>0.07344</td>\n",
       "      <td>0.0505</td>\n",
       "      <td>0.06052</td>\n",
       "      <td>2.620000e+02</td>\n",
       "      <td>0.000000</td>\n",
       "    </tr>\n",
       "    <tr>\n",
       "      <th>2010-07-21</th>\n",
       "      <th>BTC</th>\n",
       "      <td>0.06262</td>\n",
       "      <td>0.06767</td>\n",
       "      <td>0.0505</td>\n",
       "      <td>0.05842</td>\n",
       "      <td>5.750000e+02</td>\n",
       "      <td>0.000000</td>\n",
       "    </tr>\n",
       "    <tr>\n",
       "      <th>...</th>\n",
       "      <th>...</th>\n",
       "      <td>...</td>\n",
       "      <td>...</td>\n",
       "      <td>...</td>\n",
       "      <td>...</td>\n",
       "      <td>...</td>\n",
       "      <td>...</td>\n",
       "    </tr>\n",
       "    <tr>\n",
       "      <th rowspan=\"5\" valign=\"top\">2024-08-04</th>\n",
       "      <th>ZEN</th>\n",
       "      <td>9.657</td>\n",
       "      <td>9.112</td>\n",
       "      <td>8.285</td>\n",
       "      <td>8.462</td>\n",
       "      <td>2.071124e+06</td>\n",
       "      <td>0.000194</td>\n",
       "    </tr>\n",
       "    <tr>\n",
       "      <th>ZIL</th>\n",
       "      <td>0.01422</td>\n",
       "      <td>0.01441</td>\n",
       "      <td>0.01392</td>\n",
       "      <td>0.01396</td>\n",
       "      <td>2.048626e+08</td>\n",
       "      <td>-0.000031</td>\n",
       "    </tr>\n",
       "    <tr>\n",
       "      <th>ZK</th>\n",
       "      <td>0.11451</td>\n",
       "      <td>0.11673</td>\n",
       "      <td>0.10857</td>\n",
       "      <td>0.10874</td>\n",
       "      <td>3.833253e+08</td>\n",
       "      <td>0.000200</td>\n",
       "    </tr>\n",
       "    <tr>\n",
       "      <th>ZRO</th>\n",
       "      <td>3.631</td>\n",
       "      <td>3.648</td>\n",
       "      <td>3.362</td>\n",
       "      <td>3.367</td>\n",
       "      <td>7.049472e+07</td>\n",
       "      <td>0.000184</td>\n",
       "    </tr>\n",
       "    <tr>\n",
       "      <th>ZRX</th>\n",
       "      <td>0.3055</td>\n",
       "      <td>0.3121</td>\n",
       "      <td>0.2983</td>\n",
       "      <td>0.2988</td>\n",
       "      <td>9.810764e+06</td>\n",
       "      <td>0.000186</td>\n",
       "    </tr>\n",
       "  </tbody>\n",
       "</table>\n",
       "<p>357696 rows × 6 columns</p>\n",
       "</div>"
      ],
      "text/plain": [
       "                      open     high      low    close        volume  \\\n",
       "date       ticker                                                     \n",
       "2010-07-17 BTC       42.99    43.76    40.99    41.01  2.000000e+01   \n",
       "2010-07-18 BTC     0.07921  0.08181  0.06634  0.07921  7.501000e+01   \n",
       "2010-07-19 BTC     0.07474  0.07921   0.0505  0.06262  5.740000e+02   \n",
       "2010-07-20 BTC     0.06868  0.07344   0.0505  0.06052  2.620000e+02   \n",
       "2010-07-21 BTC     0.06262  0.06767   0.0505  0.05842  5.750000e+02   \n",
       "...                    ...      ...      ...      ...           ...   \n",
       "2024-08-04 ZEN       9.657    9.112    8.285    8.462  2.071124e+06   \n",
       "           ZIL     0.01422  0.01441  0.01392  0.01396  2.048626e+08   \n",
       "           ZK      0.11451  0.11673  0.10857  0.10874  3.833253e+08   \n",
       "           ZRO       3.631    3.648    3.362    3.367  7.049472e+07   \n",
       "           ZRX      0.3055   0.3121   0.2983   0.2988  9.810764e+06   \n",
       "\n",
       "                   funding_rate  \n",
       "date       ticker                \n",
       "2010-07-17 BTC         0.000000  \n",
       "2010-07-18 BTC         0.000000  \n",
       "2010-07-19 BTC         0.000000  \n",
       "2010-07-20 BTC         0.000000  \n",
       "2010-07-21 BTC         0.000000  \n",
       "...                         ...  \n",
       "2024-08-04 ZEN         0.000194  \n",
       "           ZIL        -0.000031  \n",
       "           ZK          0.000200  \n",
       "           ZRO         0.000184  \n",
       "           ZRX         0.000186  \n",
       "\n",
       "[357696 rows x 6 columns]"
      ]
     },
     "execution_count": 41,
     "metadata": {},
     "output_type": "execute_result"
    }
   ],
   "source": [
    "clean.df"
   ]
  },
  {
   "cell_type": "code",
   "execution_count": 42,
   "id": "66b3d8d2",
   "metadata": {},
   "outputs": [
    {
     "data": {
      "text/plain": [
       "<cryptodatapy.transform.clean.CleanData at 0x7fb888103af0>"
      ]
     },
     "execution_count": 42,
     "metadata": {},
     "output_type": "execute_result"
    }
   ],
   "source": [
    "clean.filter_avg_trading_val(thresh_val=1000000)"
   ]
  },
  {
   "cell_type": "code",
   "execution_count": 43,
   "id": "b7f23056",
   "metadata": {},
   "outputs": [
    {
     "data": {
      "text/html": [
       "<div>\n",
       "<style scoped>\n",
       "    .dataframe tbody tr th:only-of-type {\n",
       "        vertical-align: middle;\n",
       "    }\n",
       "\n",
       "    .dataframe tbody tr th {\n",
       "        vertical-align: top;\n",
       "    }\n",
       "\n",
       "    .dataframe thead th {\n",
       "        text-align: right;\n",
       "    }\n",
       "</style>\n",
       "<table border=\"1\" class=\"dataframe\">\n",
       "  <thead>\n",
       "    <tr style=\"text-align: right;\">\n",
       "      <th></th>\n",
       "      <th></th>\n",
       "      <th>open</th>\n",
       "      <th>high</th>\n",
       "      <th>low</th>\n",
       "      <th>close</th>\n",
       "      <th>volume</th>\n",
       "      <th>funding_rate</th>\n",
       "    </tr>\n",
       "    <tr>\n",
       "      <th>date</th>\n",
       "      <th>ticker</th>\n",
       "      <th></th>\n",
       "      <th></th>\n",
       "      <th></th>\n",
       "      <th></th>\n",
       "      <th></th>\n",
       "      <th></th>\n",
       "    </tr>\n",
       "  </thead>\n",
       "  <tbody>\n",
       "    <tr>\n",
       "      <th>2010-07-17</th>\n",
       "      <th>BTC</th>\n",
       "      <td>&lt;NA&gt;</td>\n",
       "      <td>&lt;NA&gt;</td>\n",
       "      <td>&lt;NA&gt;</td>\n",
       "      <td>&lt;NA&gt;</td>\n",
       "      <td>NaN</td>\n",
       "      <td>NaN</td>\n",
       "    </tr>\n",
       "    <tr>\n",
       "      <th>2010-07-18</th>\n",
       "      <th>BTC</th>\n",
       "      <td>&lt;NA&gt;</td>\n",
       "      <td>&lt;NA&gt;</td>\n",
       "      <td>&lt;NA&gt;</td>\n",
       "      <td>&lt;NA&gt;</td>\n",
       "      <td>NaN</td>\n",
       "      <td>NaN</td>\n",
       "    </tr>\n",
       "    <tr>\n",
       "      <th>2010-07-19</th>\n",
       "      <th>BTC</th>\n",
       "      <td>&lt;NA&gt;</td>\n",
       "      <td>&lt;NA&gt;</td>\n",
       "      <td>&lt;NA&gt;</td>\n",
       "      <td>&lt;NA&gt;</td>\n",
       "      <td>NaN</td>\n",
       "      <td>NaN</td>\n",
       "    </tr>\n",
       "    <tr>\n",
       "      <th>2010-07-20</th>\n",
       "      <th>BTC</th>\n",
       "      <td>&lt;NA&gt;</td>\n",
       "      <td>&lt;NA&gt;</td>\n",
       "      <td>&lt;NA&gt;</td>\n",
       "      <td>&lt;NA&gt;</td>\n",
       "      <td>NaN</td>\n",
       "      <td>NaN</td>\n",
       "    </tr>\n",
       "    <tr>\n",
       "      <th>2010-07-21</th>\n",
       "      <th>BTC</th>\n",
       "      <td>&lt;NA&gt;</td>\n",
       "      <td>&lt;NA&gt;</td>\n",
       "      <td>&lt;NA&gt;</td>\n",
       "      <td>&lt;NA&gt;</td>\n",
       "      <td>NaN</td>\n",
       "      <td>NaN</td>\n",
       "    </tr>\n",
       "    <tr>\n",
       "      <th>...</th>\n",
       "      <th>...</th>\n",
       "      <td>...</td>\n",
       "      <td>...</td>\n",
       "      <td>...</td>\n",
       "      <td>...</td>\n",
       "      <td>...</td>\n",
       "      <td>...</td>\n",
       "    </tr>\n",
       "    <tr>\n",
       "      <th rowspan=\"5\" valign=\"top\">2024-08-04</th>\n",
       "      <th>ZEN</th>\n",
       "      <td>9.657</td>\n",
       "      <td>9.112</td>\n",
       "      <td>8.285</td>\n",
       "      <td>8.462</td>\n",
       "      <td>2071124.0</td>\n",
       "      <td>0.000194</td>\n",
       "    </tr>\n",
       "    <tr>\n",
       "      <th>ZIL</th>\n",
       "      <td>0.01422</td>\n",
       "      <td>0.01441</td>\n",
       "      <td>0.01392</td>\n",
       "      <td>0.01396</td>\n",
       "      <td>204862627.0</td>\n",
       "      <td>-0.000031</td>\n",
       "    </tr>\n",
       "    <tr>\n",
       "      <th>ZK</th>\n",
       "      <td>0.11451</td>\n",
       "      <td>0.11673</td>\n",
       "      <td>0.10857</td>\n",
       "      <td>0.10874</td>\n",
       "      <td>383325323.0</td>\n",
       "      <td>0.000200</td>\n",
       "    </tr>\n",
       "    <tr>\n",
       "      <th>ZRO</th>\n",
       "      <td>3.631</td>\n",
       "      <td>3.648</td>\n",
       "      <td>3.362</td>\n",
       "      <td>3.367</td>\n",
       "      <td>70494717.0</td>\n",
       "      <td>0.000184</td>\n",
       "    </tr>\n",
       "    <tr>\n",
       "      <th>ZRX</th>\n",
       "      <td>0.3055</td>\n",
       "      <td>0.3121</td>\n",
       "      <td>0.2983</td>\n",
       "      <td>0.2988</td>\n",
       "      <td>9810764.1</td>\n",
       "      <td>0.000186</td>\n",
       "    </tr>\n",
       "  </tbody>\n",
       "</table>\n",
       "<p>357696 rows × 6 columns</p>\n",
       "</div>"
      ],
      "text/plain": [
       "                      open     high      low    close       volume  \\\n",
       "date       ticker                                                    \n",
       "2010-07-17 BTC        <NA>     <NA>     <NA>     <NA>          NaN   \n",
       "2010-07-18 BTC        <NA>     <NA>     <NA>     <NA>          NaN   \n",
       "2010-07-19 BTC        <NA>     <NA>     <NA>     <NA>          NaN   \n",
       "2010-07-20 BTC        <NA>     <NA>     <NA>     <NA>          NaN   \n",
       "2010-07-21 BTC        <NA>     <NA>     <NA>     <NA>          NaN   \n",
       "...                    ...      ...      ...      ...          ...   \n",
       "2024-08-04 ZEN       9.657    9.112    8.285    8.462    2071124.0   \n",
       "           ZIL     0.01422  0.01441  0.01392  0.01396  204862627.0   \n",
       "           ZK      0.11451  0.11673  0.10857  0.10874  383325323.0   \n",
       "           ZRO       3.631    3.648    3.362    3.367   70494717.0   \n",
       "           ZRX      0.3055   0.3121   0.2983   0.2988    9810764.1   \n",
       "\n",
       "                   funding_rate  \n",
       "date       ticker                \n",
       "2010-07-17 BTC              NaN  \n",
       "2010-07-18 BTC              NaN  \n",
       "2010-07-19 BTC              NaN  \n",
       "2010-07-20 BTC              NaN  \n",
       "2010-07-21 BTC              NaN  \n",
       "...                         ...  \n",
       "2024-08-04 ZEN         0.000194  \n",
       "           ZIL        -0.000031  \n",
       "           ZK          0.000200  \n",
       "           ZRO         0.000184  \n",
       "           ZRX         0.000186  \n",
       "\n",
       "[357696 rows x 6 columns]"
      ]
     },
     "execution_count": 43,
     "metadata": {},
     "output_type": "execute_result"
    }
   ],
   "source": [
    "clean.df"
   ]
  },
  {
   "cell_type": "code",
   "execution_count": 44,
   "id": "b5ac345d",
   "metadata": {},
   "outputs": [
    {
     "data": {
      "text/plain": [
       "['CVC',\n",
       " 'CTK',\n",
       " 'STRAX',\n",
       " 'STPT',\n",
       " 'DGB',\n",
       " 'CVX',\n",
       " 'FTT',\n",
       " 'GLMR',\n",
       " 'OCEAN',\n",
       " 'SLP',\n",
       " 'AGIX',\n",
       " 'RAY',\n",
       " 'MDT',\n",
       " 'SC',\n",
       " 'SNT',\n",
       " 'IDEX',\n",
       " 'RAD',\n",
       " 'WAVES']"
      ]
     },
     "execution_count": 44,
     "metadata": {},
     "output_type": "execute_result"
    }
   ],
   "source": [
    "clean.filtered_tickers"
   ]
  },
  {
   "cell_type": "code",
   "execution_count": 45,
   "id": "6d36d4ce",
   "metadata": {},
   "outputs": [
    {
     "data": {
      "text/plain": [
       "<cryptodatapy.transform.clean.CleanData at 0x7fb888103af0>"
      ]
     },
     "execution_count": 45,
     "metadata": {},
     "output_type": "execute_result"
    }
   ],
   "source": [
    "clean.filter_missing_vals_gaps()"
   ]
  },
  {
   "cell_type": "code",
   "execution_count": 47,
   "id": "7fe432d5",
   "metadata": {},
   "outputs": [
    {
     "data": {
      "text/plain": [
       "['CVC',\n",
       " 'CTK',\n",
       " 'STRAX',\n",
       " 'STPT',\n",
       " 'DGB',\n",
       " 'CVX',\n",
       " 'FTT',\n",
       " 'GLMR',\n",
       " 'OCEAN',\n",
       " 'SLP',\n",
       " 'AGIX',\n",
       " 'RAY',\n",
       " 'MDT',\n",
       " 'SC',\n",
       " 'SNT',\n",
       " 'IDEX',\n",
       " 'RAD',\n",
       " 'WAVES']"
      ]
     },
     "execution_count": 47,
     "metadata": {},
     "output_type": "execute_result"
    }
   ],
   "source": [
    "clean.filtered_tickers"
   ]
  },
  {
   "cell_type": "code",
   "execution_count": 48,
   "id": "f7cbdbae",
   "metadata": {},
   "outputs": [
    {
     "data": {
      "text/plain": [
       "<cryptodatapy.transform.clean.CleanData at 0x7fb888103af0>"
      ]
     },
     "execution_count": 48,
     "metadata": {},
     "output_type": "execute_result"
    }
   ],
   "source": [
    "clean.filter_min_nobs(ts_obs=1400, cs_obs=5)"
   ]
  },
  {
   "cell_type": "code",
   "execution_count": 49,
   "id": "f13d9f1f",
   "metadata": {},
   "outputs": [
    {
     "data": {
      "text/html": [
       "<div>\n",
       "<style scoped>\n",
       "    .dataframe tbody tr th:only-of-type {\n",
       "        vertical-align: middle;\n",
       "    }\n",
       "\n",
       "    .dataframe tbody tr th {\n",
       "        vertical-align: top;\n",
       "    }\n",
       "\n",
       "    .dataframe thead th {\n",
       "        text-align: right;\n",
       "    }\n",
       "</style>\n",
       "<table border=\"1\" class=\"dataframe\">\n",
       "  <thead>\n",
       "    <tr style=\"text-align: right;\">\n",
       "      <th></th>\n",
       "      <th></th>\n",
       "      <th>open</th>\n",
       "      <th>high</th>\n",
       "      <th>low</th>\n",
       "      <th>close</th>\n",
       "      <th>volume</th>\n",
       "      <th>funding_rate</th>\n",
       "    </tr>\n",
       "    <tr>\n",
       "      <th>date</th>\n",
       "      <th>ticker</th>\n",
       "      <th></th>\n",
       "      <th></th>\n",
       "      <th></th>\n",
       "      <th></th>\n",
       "      <th></th>\n",
       "      <th></th>\n",
       "    </tr>\n",
       "  </thead>\n",
       "  <tbody>\n",
       "    <tr>\n",
       "      <th rowspan=\"5\" valign=\"top\">2017-06-18</th>\n",
       "      <th>BAT</th>\n",
       "      <td>&lt;NA&gt;</td>\n",
       "      <td>&lt;NA&gt;</td>\n",
       "      <td>&lt;NA&gt;</td>\n",
       "      <td>&lt;NA&gt;</td>\n",
       "      <td>NaN</td>\n",
       "      <td>NaN</td>\n",
       "    </tr>\n",
       "    <tr>\n",
       "      <th>BTC</th>\n",
       "      <td>2655.1</td>\n",
       "      <td>2676.04</td>\n",
       "      <td>2488.59</td>\n",
       "      <td>2539.56</td>\n",
       "      <td>9.200422e+04</td>\n",
       "      <td>0.000000</td>\n",
       "    </tr>\n",
       "    <tr>\n",
       "      <th>DASH</th>\n",
       "      <td>&lt;NA&gt;</td>\n",
       "      <td>&lt;NA&gt;</td>\n",
       "      <td>&lt;NA&gt;</td>\n",
       "      <td>&lt;NA&gt;</td>\n",
       "      <td>NaN</td>\n",
       "      <td>NaN</td>\n",
       "    </tr>\n",
       "    <tr>\n",
       "      <th>DOGE</th>\n",
       "      <td>&lt;NA&gt;</td>\n",
       "      <td>&lt;NA&gt;</td>\n",
       "      <td>&lt;NA&gt;</td>\n",
       "      <td>&lt;NA&gt;</td>\n",
       "      <td>NaN</td>\n",
       "      <td>NaN</td>\n",
       "    </tr>\n",
       "    <tr>\n",
       "      <th>ETC</th>\n",
       "      <td>21.98</td>\n",
       "      <td>23.8</td>\n",
       "      <td>19.5</td>\n",
       "      <td>20.27</td>\n",
       "      <td>1.306320e+06</td>\n",
       "      <td>0.000000</td>\n",
       "    </tr>\n",
       "    <tr>\n",
       "      <th>...</th>\n",
       "      <th>...</th>\n",
       "      <td>...</td>\n",
       "      <td>...</td>\n",
       "      <td>...</td>\n",
       "      <td>...</td>\n",
       "      <td>...</td>\n",
       "      <td>...</td>\n",
       "    </tr>\n",
       "    <tr>\n",
       "      <th rowspan=\"5\" valign=\"top\">2024-08-04</th>\n",
       "      <th>XTZ</th>\n",
       "      <td>0.685</td>\n",
       "      <td>0.693</td>\n",
       "      <td>0.677</td>\n",
       "      <td>0.679</td>\n",
       "      <td>5.373374e+06</td>\n",
       "      <td>0.000200</td>\n",
       "    </tr>\n",
       "    <tr>\n",
       "      <th>YFI</th>\n",
       "      <td>5341.0</td>\n",
       "      <td>5341.0</td>\n",
       "      <td>5196.0</td>\n",
       "      <td>5198.0</td>\n",
       "      <td>4.281050e+02</td>\n",
       "      <td>0.000169</td>\n",
       "    </tr>\n",
       "    <tr>\n",
       "      <th>ZEC</th>\n",
       "      <td>31.76</td>\n",
       "      <td>34.44</td>\n",
       "      <td>31.28</td>\n",
       "      <td>31.55</td>\n",
       "      <td>1.348085e+06</td>\n",
       "      <td>0.000191</td>\n",
       "    </tr>\n",
       "    <tr>\n",
       "      <th>ZIL</th>\n",
       "      <td>0.01422</td>\n",
       "      <td>0.01441</td>\n",
       "      <td>0.01392</td>\n",
       "      <td>0.01396</td>\n",
       "      <td>2.048626e+08</td>\n",
       "      <td>-0.000031</td>\n",
       "    </tr>\n",
       "    <tr>\n",
       "      <th>ZRX</th>\n",
       "      <td>0.3055</td>\n",
       "      <td>0.3121</td>\n",
       "      <td>0.2983</td>\n",
       "      <td>0.2988</td>\n",
       "      <td>9.810764e+06</td>\n",
       "      <td>0.000186</td>\n",
       "    </tr>\n",
       "  </tbody>\n",
       "</table>\n",
       "<p>136630 rows × 6 columns</p>\n",
       "</div>"
      ],
      "text/plain": [
       "                      open     high      low    close        volume  \\\n",
       "date       ticker                                                     \n",
       "2017-06-18 BAT        <NA>     <NA>     <NA>     <NA>           NaN   \n",
       "           BTC      2655.1  2676.04  2488.59  2539.56  9.200422e+04   \n",
       "           DASH       <NA>     <NA>     <NA>     <NA>           NaN   \n",
       "           DOGE       <NA>     <NA>     <NA>     <NA>           NaN   \n",
       "           ETC       21.98     23.8     19.5    20.27  1.306320e+06   \n",
       "...                    ...      ...      ...      ...           ...   \n",
       "2024-08-04 XTZ       0.685    0.693    0.677    0.679  5.373374e+06   \n",
       "           YFI      5341.0   5341.0   5196.0   5198.0  4.281050e+02   \n",
       "           ZEC       31.76    34.44    31.28    31.55  1.348085e+06   \n",
       "           ZIL     0.01422  0.01441  0.01392  0.01396  2.048626e+08   \n",
       "           ZRX      0.3055   0.3121   0.2983   0.2988  9.810764e+06   \n",
       "\n",
       "                   funding_rate  \n",
       "date       ticker                \n",
       "2017-06-18 BAT              NaN  \n",
       "           BTC         0.000000  \n",
       "           DASH             NaN  \n",
       "           DOGE             NaN  \n",
       "           ETC         0.000000  \n",
       "...                         ...  \n",
       "2024-08-04 XTZ         0.000200  \n",
       "           YFI         0.000169  \n",
       "           ZEC         0.000191  \n",
       "           ZIL        -0.000031  \n",
       "           ZRX         0.000186  \n",
       "\n",
       "[136630 rows x 6 columns]"
      ]
     },
     "execution_count": 49,
     "metadata": {},
     "output_type": "execute_result"
    }
   ],
   "source": [
    "clean.df"
   ]
  },
  {
   "cell_type": "code",
   "execution_count": 50,
   "id": "a9b1764c",
   "metadata": {},
   "outputs": [],
   "source": [
    "# # clean data\n",
    "# clean_df = clean.filter_delisted_tickers().\\\n",
    "#                          filter_outliers(od_method='mad', excl_cols=['volume', 'funding_rate'], thresh_val=10).\\\n",
    "#                          repair_outliers(imp_method='fcst').\\\n",
    "#                          filter_avg_trading_val(thresh_val=1000000).\\\n",
    "#                          filter_missing_vals_gaps().\\\n",
    "#                          filter_min_nobs(ts_obs=1500, cs_obs=10).\\\n",
    "#                          get(attr='df').dropna(how='all')"
   ]
  },
  {
   "cell_type": "code",
   "execution_count": null,
   "id": "572d7a2e",
   "metadata": {},
   "outputs": [],
   "source": []
  },
  {
   "cell_type": "code",
   "execution_count": 53,
   "id": "99857595",
   "metadata": {},
   "outputs": [],
   "source": [
    "df.to_parquet('s3://factorlab-data/binance_historical_ohlcv_daily.parquet')"
   ]
  },
  {
   "cell_type": "code",
   "execution_count": 54,
   "id": "15e66225",
   "metadata": {},
   "outputs": [],
   "source": [
    "clean.df.dropna(how='all').to_parquet('../../../../factorlab/notebooks/binance_historical_ohlcv_daily.parquet')"
   ]
  },
  {
   "cell_type": "code",
   "execution_count": null,
   "id": "8a962fa7",
   "metadata": {},
   "outputs": [],
   "source": []
  },
  {
   "cell_type": "code",
   "execution_count": 55,
   "id": "54b818cd",
   "metadata": {},
   "outputs": [],
   "source": [
    "clean.df.dropna(how='all').to_csv('../../../../factorlab/notebooks/binance_historical_ohlcv_daily.csv')"
   ]
  },
  {
   "cell_type": "code",
   "execution_count": null,
   "id": "b8fa525d",
   "metadata": {},
   "outputs": [],
   "source": []
  },
  {
   "cell_type": "code",
   "execution_count": null,
   "id": "da953cbf",
   "metadata": {},
   "outputs": [],
   "source": []
  }
 ],
 "metadata": {
  "kernelspec": {
   "display_name": "cryptodatapy",
   "language": "python",
   "name": "cryptodatapy"
  },
  "language_info": {
   "codemirror_mode": {
    "name": "ipython",
    "version": 3
   },
   "file_extension": ".py",
   "mimetype": "text/x-python",
   "name": "python",
   "nbconvert_exporter": "python",
   "pygments_lexer": "ipython3",
   "version": "3.9.12"
  }
 },
 "nbformat": 4,
 "nbformat_minor": 5
}
