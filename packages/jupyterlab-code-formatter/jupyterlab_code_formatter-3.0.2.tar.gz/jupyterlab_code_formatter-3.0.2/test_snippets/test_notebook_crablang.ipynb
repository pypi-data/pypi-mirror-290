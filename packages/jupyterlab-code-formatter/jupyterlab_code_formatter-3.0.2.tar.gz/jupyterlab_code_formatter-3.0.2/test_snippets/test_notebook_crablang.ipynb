{
 "cells": [
  {
   "cell_type": "code",
   "execution_count": 2,
   "id": "3637bfb4-a089-40dd-82ba-9fa9f3d323e7",
   "metadata": {
    "tags": []
   },
   "outputs": [],
   "source": [
    "// function to add two numbers\n",
    "fn add() {\n",
    "    let a = 5;\n",
    "                let b = 10;\n",
    "\n",
    "            let sum = a + b;\n",
    "\n",
    "    println!(\"Sum of a and b = {}\", \n",
    "        sum);\n",
    "}\n",
    "\n",
    "fn main() {\n",
    "    // function call\n",
    "    add();\n",
    "}"
   ]
  }
 ],
 "metadata": {
  "kernelspec": {
   "display_name": "Rust",
   "language": "rust",
   "name": "rust"
  },
  "language_info": {
   "codemirror_mode": "rust",
   "file_extension": ".rs",
   "mimetype": "text/rust",
   "name": "Rust",
   "pygment_lexer": "rust",
   "version": ""
  }
 },
 "nbformat": 4,
 "nbformat_minor": 5
}
