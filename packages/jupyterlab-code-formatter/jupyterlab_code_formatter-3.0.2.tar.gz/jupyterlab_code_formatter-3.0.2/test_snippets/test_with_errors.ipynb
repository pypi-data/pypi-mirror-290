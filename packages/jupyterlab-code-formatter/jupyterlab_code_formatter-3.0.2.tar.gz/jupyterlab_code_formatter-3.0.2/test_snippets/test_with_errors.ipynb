{
 "cells": [
  {
   "cell_type": "code",
   "execution_count": null,
   "id": "95cc4d6e-9fa2-493c-af98-83b1b88df0c6",
   "metadata": {},
   "outputs": [],
   "source": [
    "ddd ="
   ]
  },
  {
   "cell_type": "code",
   "execution_count": null,
   "id": "4e6159ec-e287-4a22-b76e-9fc5f012a6d4",
   "metadata": {},
   "outputs": [],
   "source": [
    "hello = 42"
   ]
  },
  {
   "cell_type": "code",
   "execution_count": null,
   "id": "41a699a0-0480-4d36-ae81-d06a6cc074b4",
   "metadata": {},
   "outputs": [],
   "source": [
    "fff ="
   ]
  },
  {
   "cell_type": "code",
   "execution_count": null,
   "id": "804c67fe-6c33-4590-9616-57db0497b1eb",
   "metadata": {},
   "outputs": [],
   "source": []
  },
  {
   "cell_type": "code",
   "execution_count": null,
   "id": "411369a5-160e-472f-befa-25c82b836a61",
   "metadata": {},
   "outputs": [],
   "source": [
    "hello = 42"
   ]
  },
  {
   "cell_type": "code",
   "execution_count": null,
   "id": "2c20f1d6-7b8b-4083-819d-d0daef945d23",
   "metadata": {},
   "outputs": [],
   "source": [
    "fff2 ="
   ]
  }
 ],
 "metadata": {
  "kernelspec": {
   "display_name": "Python 3 (ipykernel)",
   "language": "python",
   "name": "python3"
  },
  "language_info": {
   "codemirror_mode": {
    "name": "ipython",
    "version": 3
   },
   "file_extension": ".py",
   "mimetype": "text/x-python",
   "name": "python",
   "nbconvert_exporter": "python",
   "pygments_lexer": "ipython3",
   "version": "3.10.11"
  }
 },
 "nbformat": 4,
 "nbformat_minor": 5
}
