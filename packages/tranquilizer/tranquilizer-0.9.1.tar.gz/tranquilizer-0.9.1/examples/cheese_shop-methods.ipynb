{
 "cells": [
  {
   "cell_type": "code",
   "execution_count": 1,
   "metadata": {},
   "outputs": [],
   "source": [
    "from tranquilizer.decorator import publish"
   ]
  },
  {
   "cell_type": "code",
   "execution_count": 2,
   "metadata": {},
   "outputs": [],
   "source": [
    "@publish(methods=['GET','POST'])\n",
    "def order(cheese, test: str):\n",
    "    '''I'd like to buy some cheese!\n",
    "\n",
    "    :param cheese: What cheese would you like?'''\n",
    "    print(type(cheese))\n",
    "    print(type(test))\n",
    "    \n",
    "    return {'response':\"I'm afraid we're fresh out of {}, Sir.\".format(cheese[0])}"
   ]
  }
 ],
 "metadata": {
  "kernelspec": {
   "display_name": "Python [conda env:tranq-dev]",
   "language": "python",
   "name": "conda-env-tranq-dev-py"
  },
  "language_info": {
   "codemirror_mode": {
    "name": "ipython",
    "version": 3
   },
   "file_extension": ".py",
   "mimetype": "text/x-python",
   "name": "python",
   "nbconvert_exporter": "python",
   "pygments_lexer": "ipython3",
   "version": "3.6.8"
  }
 },
 "nbformat": 4,
 "nbformat_minor": 2
}
