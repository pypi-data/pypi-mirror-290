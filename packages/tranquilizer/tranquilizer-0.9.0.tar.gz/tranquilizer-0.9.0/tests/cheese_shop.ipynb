{
 "cells": [
  {
   "cell_type": "code",
   "execution_count": 3,
   "metadata": {},
   "outputs": [],
   "source": [
    "from tranquilizer import tranquilize"
   ]
  },
  {
   "cell_type": "code",
   "execution_count": 7,
   "metadata": {},
   "outputs": [],
   "source": [
    "@tranquilize()\n",
    "def order(cheese):\n",
    "    '''I'd like to buy some cheese!\n",
    "\n",
    "    :param cheese: What cheese would you like?'''\n",
    "    \n",
    "    time = %timeit -oq import random\n",
    "    print(time)\n",
    "    \n",
    "    return {'response':\"I'm afraid we're fresh out of {}, Sir.\".format(cheese)}"
   ]
  }
 ],
 "metadata": {
  "kernelspec": {
   "display_name": "Python [conda env:tranq]",
   "language": "python",
   "name": "conda-env-tranq-py"
  },
  "language_info": {
   "codemirror_mode": {
    "name": "ipython",
    "version": 3
   },
   "file_extension": ".py",
   "mimetype": "text/x-python",
   "name": "python",
   "nbconvert_exporter": "python",
   "pygments_lexer": "ipython3",
   "version": "3.6.7"
  }
 },
 "nbformat": 4,
 "nbformat_minor": 2
}
